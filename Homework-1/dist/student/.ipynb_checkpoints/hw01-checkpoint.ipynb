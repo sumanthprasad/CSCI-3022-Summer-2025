{
 "cells": [
  {
   "cell_type": "code",
   "execution_count": 1,
   "id": "1ca92013",
   "metadata": {
    "deletable": false,
    "editable": false
   },
   "outputs": [
    {
     "ename": "Exception",
     "evalue": "Could not create the log file as the file system is read-only. Please contact your instructor before continuing on this assignment.",
     "output_type": "error",
     "traceback": [
      "\u001b[0;31m---------------------------------------------------------------------------\u001b[0m",
      "\u001b[0;31mAttributeError\u001b[0m                            Traceback (most recent call last)",
      "File \u001b[0;32m/opt/conda/lib/python3.10/site-packages/nbformat/__init__.py:166\u001b[0m, in \u001b[0;36mread\u001b[0;34m(fp, as_version, capture_validation_error, **kwargs)\u001b[0m\n\u001b[1;32m    165\u001b[0m \u001b[38;5;28;01mtry\u001b[39;00m:\n\u001b[0;32m--> 166\u001b[0m     buf \u001b[38;5;241m=\u001b[39m \u001b[43mfp\u001b[49m\u001b[38;5;241;43m.\u001b[39;49m\u001b[43mread\u001b[49m()\n\u001b[1;32m    167\u001b[0m \u001b[38;5;28;01mexcept\u001b[39;00m \u001b[38;5;167;01mAttributeError\u001b[39;00m:\n",
      "\u001b[0;31mAttributeError\u001b[0m: 'str' object has no attribute 'read'",
      "\nDuring handling of the above exception, another exception occurred:\n",
      "\u001b[0;31mFileNotFoundError\u001b[0m                         Traceback (most recent call last)",
      "File \u001b[0;32m/opt/conda/lib/python3.10/site-packages/otter/check/utils.py:213\u001b[0m, in \u001b[0;36mlogs_event.<locals>.event_logger\u001b[0;34m(wrapped, self, args, kwargs)\u001b[0m\n\u001b[1;32m    212\u001b[0m \u001b[38;5;28;01mtry\u001b[39;00m:\n\u001b[0;32m--> 213\u001b[0m     ret: Optional[LoggedEventReturnValue[T]] \u001b[38;5;241m=\u001b[39m \u001b[43mwrapped\u001b[49m\u001b[43m(\u001b[49m\u001b[38;5;241;43m*\u001b[39;49m\u001b[43margs\u001b[49m\u001b[43m,\u001b[49m\u001b[43m \u001b[49m\u001b[38;5;241;43m*\u001b[39;49m\u001b[38;5;241;43m*\u001b[39;49m\u001b[43mkwargs\u001b[49m\u001b[43m)\u001b[49m\n\u001b[1;32m    215\u001b[0m \u001b[38;5;28;01mexcept\u001b[39;00m \u001b[38;5;167;01mException\u001b[39;00m \u001b[38;5;28;01mas\u001b[39;00m e:\n",
      "File \u001b[0;32m/opt/conda/lib/python3.10/site-packages/otter/check/notebook.py:144\u001b[0m, in \u001b[0;36mNotebook.__init__\u001b[0;34m(self, nb_path, tests_dir, tests_url_prefix, colab, jupyterlite)\u001b[0m\n\u001b[1;32m    142\u001b[0m \u001b[38;5;28;01mif\u001b[39;00m \u001b[38;5;28mself\u001b[39m\u001b[38;5;241m.\u001b[39m_notebook:\n\u001b[1;32m    143\u001b[0m     \u001b[38;5;28mself\u001b[39m\u001b[38;5;241m.\u001b[39m_nbmeta_config \u001b[38;5;241m=\u001b[39m NBMetadataConfig\u001b[38;5;241m.\u001b[39mfrom_notebook(\n\u001b[0;32m--> 144\u001b[0m         \u001b[43mnbf\u001b[49m\u001b[38;5;241;43m.\u001b[39;49m\u001b[43mread\u001b[49m\u001b[43m(\u001b[49m\u001b[38;5;28;43mself\u001b[39;49m\u001b[38;5;241;43m.\u001b[39;49m\u001b[43m_notebook\u001b[49m\u001b[43m,\u001b[49m\u001b[43m \u001b[49m\u001b[43mnbf\u001b[49m\u001b[38;5;241;43m.\u001b[39;49m\u001b[43mNO_CONVERT\u001b[49m\u001b[43m)\u001b[49m)\n\u001b[1;32m    145\u001b[0m \u001b[38;5;28;01melse\u001b[39;00m:\n",
      "File \u001b[0;32m/opt/conda/lib/python3.10/site-packages/nbformat/__init__.py:168\u001b[0m, in \u001b[0;36mread\u001b[0;34m(fp, as_version, capture_validation_error, **kwargs)\u001b[0m\n\u001b[1;32m    167\u001b[0m \u001b[38;5;28;01mexcept\u001b[39;00m \u001b[38;5;167;01mAttributeError\u001b[39;00m:\n\u001b[0;32m--> 168\u001b[0m     \u001b[38;5;28;01mwith\u001b[39;00m \u001b[38;5;28;43mopen\u001b[39;49m\u001b[43m(\u001b[49m\u001b[43mfp\u001b[49m\u001b[43m,\u001b[49m\u001b[43m \u001b[49m\u001b[43mencoding\u001b[49m\u001b[38;5;241;43m=\u001b[39;49m\u001b[38;5;124;43m\"\u001b[39;49m\u001b[38;5;124;43mutf-8\u001b[39;49m\u001b[38;5;124;43m\"\u001b[39;49m\u001b[43m)\u001b[49m \u001b[38;5;28;01mas\u001b[39;00m f:\n\u001b[1;32m    169\u001b[0m         \u001b[38;5;28;01mreturn\u001b[39;00m reads(f\u001b[38;5;241m.\u001b[39mread(), as_version, capture_validation_error, \u001b[38;5;241m*\u001b[39m\u001b[38;5;241m*\u001b[39mkwargs)\n",
      "\u001b[0;31mFileNotFoundError\u001b[0m: [Errno 2] No such file or directory: 'hw01.ipynb'",
      "\nDuring handling of the above exception, another exception occurred:\n",
      "\u001b[0;31mFileNotFoundError\u001b[0m                         Traceback (most recent call last)",
      "File \u001b[0;32m/opt/conda/lib/python3.10/site-packages/otter/check/logs.py:159\u001b[0m, in \u001b[0;36mLogEntry.flush_to_file\u001b[0;34m(self, filename)\u001b[0m\n\u001b[1;32m    158\u001b[0m \u001b[38;5;28;01mtry\u001b[39;00m:\n\u001b[0;32m--> 159\u001b[0m     file \u001b[38;5;241m=\u001b[39m \u001b[38;5;28;43mopen\u001b[39;49m\u001b[43m(\u001b[49m\u001b[43mfilename\u001b[49m\u001b[43m,\u001b[49m\u001b[43m \u001b[49m\u001b[38;5;124;43m\"\u001b[39;49m\u001b[38;5;124;43mab+\u001b[39;49m\u001b[38;5;124;43m\"\u001b[39;49m\u001b[43m)\u001b[49m\n\u001b[1;32m    160\u001b[0m     dill\u001b[38;5;241m.\u001b[39mdump(\u001b[38;5;28mself\u001b[39m, file)\n",
      "\u001b[0;31mFileNotFoundError\u001b[0m: [Errno 2] No such file or directory: '.OTTER_LOG'",
      "\nDuring handling of the above exception, another exception occurred:\n",
      "\u001b[0;31mException\u001b[0m                                 Traceback (most recent call last)",
      "Cell \u001b[0;32mIn[1], line 3\u001b[0m\n\u001b[1;32m      1\u001b[0m \u001b[38;5;66;03m# Initialize Otter\u001b[39;00m\n\u001b[1;32m      2\u001b[0m \u001b[38;5;28;01mimport\u001b[39;00m \u001b[38;5;21;01motter\u001b[39;00m\n\u001b[0;32m----> 3\u001b[0m grader \u001b[38;5;241m=\u001b[39m \u001b[43motter\u001b[49m\u001b[38;5;241;43m.\u001b[39;49m\u001b[43mNotebook\u001b[49m\u001b[43m(\u001b[49m\u001b[38;5;124;43m\"\u001b[39;49m\u001b[38;5;124;43mhw01.ipynb\u001b[39;49m\u001b[38;5;124;43m\"\u001b[39;49m\u001b[43m)\u001b[49m\n",
      "File \u001b[0;32m/opt/conda/lib/python3.10/site-packages/otter/check/utils.py:216\u001b[0m, in \u001b[0;36mlogs_event.<locals>.event_logger\u001b[0;34m(wrapped, self, args, kwargs)\u001b[0m\n\u001b[1;32m    213\u001b[0m     ret: Optional[LoggedEventReturnValue[T]] \u001b[38;5;241m=\u001b[39m wrapped(\u001b[38;5;241m*\u001b[39margs, \u001b[38;5;241m*\u001b[39m\u001b[38;5;241m*\u001b[39mkwargs)\n\u001b[1;32m    215\u001b[0m \u001b[38;5;28;01mexcept\u001b[39;00m \u001b[38;5;167;01mException\u001b[39;00m \u001b[38;5;28;01mas\u001b[39;00m e:\n\u001b[0;32m--> 216\u001b[0m     \u001b[38;5;28;43mself\u001b[39;49m\u001b[38;5;241;43m.\u001b[39;49m\u001b[43m_log_event\u001b[49m\u001b[43m(\u001b[49m\u001b[43mevent_type\u001b[49m\u001b[43m,\u001b[49m\u001b[43m \u001b[49m\u001b[43msuccess\u001b[49m\u001b[38;5;241;43m=\u001b[39;49m\u001b[38;5;28;43;01mFalse\u001b[39;49;00m\u001b[43m,\u001b[49m\u001b[43m \u001b[49m\u001b[43merror\u001b[49m\u001b[38;5;241;43m=\u001b[39;49m\u001b[43me\u001b[49m\u001b[43m)\u001b[49m\n\u001b[1;32m    217\u001b[0m     \u001b[38;5;28;01mraise\u001b[39;00m e\n\u001b[1;32m    219\u001b[0m \u001b[38;5;28;01mif\u001b[39;00m ret \u001b[38;5;129;01mis\u001b[39;00m \u001b[38;5;28;01mNone\u001b[39;00m:\n",
      "File \u001b[0;32m/opt/conda/lib/python3.10/site-packages/otter/check/utils.py:166\u001b[0m, in \u001b[0;36mincompatible_with.<locals>.incompatible\u001b[0;34m(wrapped, self, args, kwargs)\u001b[0m\n\u001b[1;32m    164\u001b[0m     \u001b[38;5;28;01melse\u001b[39;00m:\n\u001b[1;32m    165\u001b[0m         \u001b[38;5;28;01mreturn\u001b[39;00m\n\u001b[0;32m--> 166\u001b[0m \u001b[38;5;28;01mreturn\u001b[39;00m \u001b[43mwrapped\u001b[49m\u001b[43m(\u001b[49m\u001b[38;5;241;43m*\u001b[39;49m\u001b[43margs\u001b[49m\u001b[43m,\u001b[49m\u001b[43m \u001b[49m\u001b[38;5;241;43m*\u001b[39;49m\u001b[38;5;241;43m*\u001b[39;49m\u001b[43mkwargs\u001b[49m\u001b[43m)\u001b[49m\n",
      "File \u001b[0;32m/opt/conda/lib/python3.10/site-packages/otter/check/notebook.py:200\u001b[0m, in \u001b[0;36mNotebook._log_event\u001b[0;34m(self, event_type, results, question, success, error, shelve_env)\u001b[0m\n\u001b[1;32m    190\u001b[0m         \u001b[38;5;28;01mraise\u001b[39;00m \u001b[38;5;167;01mTypeError\u001b[39;00m(\u001b[38;5;124mf\u001b[39m\u001b[38;5;124m\"\u001b[39m\u001b[38;5;124mshelve_env has an invalid type: \u001b[39m\u001b[38;5;132;01m{\u001b[39;00m\u001b[38;5;28mtype\u001b[39m(shelve_env)\u001b[38;5;132;01m}\u001b[39;00m\u001b[38;5;124m\"\u001b[39m)\n\u001b[1;32m    192\u001b[0m     entry\u001b[38;5;241m.\u001b[39mshelve(\n\u001b[1;32m    193\u001b[0m         shelve_env,\n\u001b[1;32m    194\u001b[0m         delete\u001b[38;5;241m=\u001b[39m\u001b[38;5;28;01mTrue\u001b[39;00m,\n\u001b[0;32m   (...)\u001b[0m\n\u001b[1;32m    197\u001b[0m         variables\u001b[38;5;241m=\u001b[39m\u001b[38;5;28mself\u001b[39m\u001b[38;5;241m.\u001b[39m_vars_to_store\n\u001b[1;32m    198\u001b[0m     )\n\u001b[0;32m--> 200\u001b[0m \u001b[43mentry\u001b[49m\u001b[38;5;241;43m.\u001b[39;49m\u001b[43mflush_to_file\u001b[49m\u001b[43m(\u001b[49m\u001b[43m_OTTER_LOG_FILENAME\u001b[49m\u001b[43m)\u001b[49m\n",
      "File \u001b[0;32m/opt/conda/lib/python3.10/site-packages/otter/check/logs.py:163\u001b[0m, in \u001b[0;36mLogEntry.flush_to_file\u001b[0;34m(self, filename)\u001b[0m\n\u001b[1;32m    160\u001b[0m     dill\u001b[38;5;241m.\u001b[39mdump(\u001b[38;5;28mself\u001b[39m, file)\n\u001b[1;32m    162\u001b[0m \u001b[38;5;28;01mexcept\u001b[39;00m \u001b[38;5;167;01mOSError\u001b[39;00m:\n\u001b[0;32m--> 163\u001b[0m     \u001b[38;5;28;01mraise\u001b[39;00m \u001b[38;5;167;01mException\u001b[39;00m(\n\u001b[1;32m    164\u001b[0m         \u001b[38;5;124m\"\u001b[39m\u001b[38;5;124mCould not create the log file as the file system is read-only. Please contact your \u001b[39m\u001b[38;5;124m\"\u001b[39m\n\u001b[1;32m    165\u001b[0m         \u001b[38;5;124m\"\u001b[39m\u001b[38;5;124minstructor before continuing on this assignment.\u001b[39m\u001b[38;5;124m\"\u001b[39m\n\u001b[1;32m    166\u001b[0m     )\n\u001b[1;32m    168\u001b[0m \u001b[38;5;28;01mfinally\u001b[39;00m:\n\u001b[1;32m    169\u001b[0m     \u001b[38;5;28;01mif\u001b[39;00m \u001b[38;5;124m\"\u001b[39m\u001b[38;5;124mfile\u001b[39m\u001b[38;5;124m\"\u001b[39m \u001b[38;5;129;01min\u001b[39;00m \u001b[38;5;28mlocals\u001b[39m():\n",
      "\u001b[0;31mException\u001b[0m: Could not create the log file as the file system is read-only. Please contact your instructor before continuing on this assignment."
     ]
    }
   ],
   "source": [
    "# Initialize Otter\n",
    "import otter\n",
    "grader = otter.Notebook(\"hw01.ipynb\")"
   ]
  },
  {
   "cell_type": "markdown",
   "id": "0ca24414",
   "metadata": {
    "nbgrader": {
     "grade": false,
     "grade_id": "introduction",
     "locked": true,
     "schema_version": 2,
     "solution": false
    }
   },
   "source": [
    "<a id='verytop'></a>\n",
    "\n",
    "# Homework 1\n",
    "## Prerequisite Review & Intro to Jupyter Notebooks and Python\n",
    "## Due Date: Wednesday June 4th, 11:59 PM MT on Gradescope\n",
    "\n",
    "\n",
    "### Detailed Submission Instructions Are Provided at the end of this Notebook\n",
    "\n",
    "\n",
    "## Assignment Learning Objectives:\n",
    "\n",
    "\n",
    "1. Navigate Jupyter notebooks (like this one)\n",
    "2. Write and evaluate some basic *expressions* and *functions* in Python, the computer language of the course\n",
    "3. Practice using features of the NumPy module\n",
    "4. Review prerequisite topics from Calculus and Discrete Structures and apply these concepts to practice problems.\n",
    "5. Complete the course Welcome Survey, Intro Video Assignment and Piazza Class Profile, so that the instructional team will have a better sense of your and the class's background and will be able to tailor some parts of the course to meet your individual and/or collective interests and motivations.\n",
    "\n",
    "\n",
    "\n",
    "## Collaboration Policy\n",
    "\n",
    "Data science is a collaborative activity.  However a key step in learning and retention is **creating solutions on your own.**  \n",
    "\n",
    "Below are examples of acceptable vs unacceptable use of resources and collaboration when doing HW assignments in CSCI 3022.\n",
    "\n",
    "\n",
    "The following would be some **examples of cheating** when working on HW assignments in CSCI 3022.  Any of these constitute a **violation of the course's collaboration policy and will result in an F in the course and a trip to the honor council**.   \n",
    "\n",
    "\n",
    " - Consulting web pages that may have a solution to a given homework problem or one similar is cheating.  However, consulting the class notes, and web pages that explain the material taught in class but do NOT show a solution to the homework problem in question are permissible to view.  Clearly, there's a fuzzy line here between a valid use of resources and cheating. To avoid this line, one should merely consult the course notes, the course textbook, and references that contain syntax and/or formulas.\n",
    " - Copying a segment of code or math solution of three lines or more from another student from a printout, handwritten copy, or by looking at their computer screen \n",
    " - Allowing another student to copy a segment of your code or math solution of three lines or more\n",
    " - Taking a copy of another student's work (or a solution found online) and then editing that copy\n",
    " - Reading someone else’s solution to a problem on the HW before writing your own.\n",
    " - Asking someone to write all or part of a program or solution for you.\n",
    " - Asking someone else for the code necessary to fix the error for you, other than for simple syntactical errors\n",
    " \n",
    "\n",
    "\n",
    "On the other hand, the following are some **examples of things which would NOT usually be\n",
    "considered to be cheating**:\n",
    " - Working on a HW problem on your own first and then discussing with a classmate a particular part in the problem solution where you are stuck.  After clarifying any questions you then continue to write your solution independently.\n",
    " - Asking someone (or searching online) how a particular construct in the language works.\n",
    " - Asking someone (or searching online) how to formulate a particular construct in the language.\n",
    " - Asking someone for help in finding an error in your program.  \n",
    " - Asking someone why a particular construct does not work as you expected in a given program.\n",
    "   \n",
    "\n",
    "To test whether you are truly doing your own work and retaining what you've learned you should be able to easily reproduce from scratch and explain a HW solution that was your own when asked in office hours by a Instructor or on a quiz/exam.   \n",
    "\n",
    "\n",
    "If you have difficulty in formulating the general solution to a problem on your own, or\n",
    "you have difficulty in translating that general solution into a program, it is advisable to see\n",
    "your instructor or teaching assistant rather than another student as this situation can easily\n",
    "lead to a, possibly inadvertent, cheating situation.\n",
    "\n",
    "We are here to help!  Visit HW Hours and/or post questions on Discord!\n"
   ]
  },
  {
   "cell_type": "markdown",
   "id": "5801c889",
   "metadata": {},
   "source": [
    "## Grading\n",
    "Grading is broken down into autograded answers and manually graded answers. \n",
    "\n",
    "For autograded answers, the results of your code are compared to in-notebook tests.  For any autograded multiple choice questions, the in-notebook test will only verify that you have used the correct datatype when entering your answer, it will **not indicate** whether you have selected the correct multiple choice answer - instead the accuracy of your multiple choice answer  will be graded once you upload your assignment to Gradescope.  \n",
    "\n",
    "For manually graded answers, you must show and explain all steps.  Graders will evaluate how well you answered the question and/or fulfilled the requirements of the question.\n",
    "\n",
    "\n",
    "### Score breakdown\n",
    "\n",
    "Question | Points | Grading Type\n",
    "--- | --- | ---\n",
    "Question 2 | 2 | autograded\n",
    "Question 3 | 2 | autograded\n",
    "Question 4 | 3 | autograded\n",
    "Question 5 | 3 | autograded\n",
    "Question 6 | 3 | autograded\n",
    "Question 7 | 2 | autograded\n",
    "Question 8 | 2 | autograded\n",
    "Question 9 | 7 | autograded & manually graded\n",
    "Question 10 | 7 | manual\n",
    "Question 11 | 14 | autograded & manually graded\n",
    "Question 12 |3 | autograded\n",
    "Question 13 |2 | autograded\n",
    "<a id='top'></a>Total | 50"
   ]
  },
  {
   "cell_type": "markdown",
   "id": "cc428220-4554-48fc-9039-eefdba21a16c",
   "metadata": {},
   "source": [
    "## Recommended Readings for this HW:\n",
    "\n",
    " - [Python for Data Analysis: Python Language Basics](https://wesmckinney.com/book/python-basics#tut_basics)\n",
    " - [Computation and Inferential Thinking:  Intro to Chapter 8: Functions](https://inferentialthinking.com/chapters/08/Functions_and_Tables.html) \n",
    " - [Python Like You Mean It:  Vectorization Using NumPy](https://www.pythonlikeyoumeanit.com/Module3_IntroducingNumpy/VectorizedOperations.html)\n",
    " - [Prerequisite Review Resources posted on the  Modules in Canvas](https://canvas.colorado.edu/courses/117881/pages/prerequisite-review-calculus-and-discrete-structures?module_item_id=6055980) \n"
   ]
  },
  {
   "cell_type": "markdown",
   "id": "51fc4ee3",
   "metadata": {},
   "source": [
    "<a id='top'></a>\n",
    "---\n",
    "**Shortcuts:**   [Problem 2](#p2) | [Problem 3](#p3) | [Problem 4](#p4) | [Problem 5](#p5) | [Problem 6](#p6) | [Problem 7](#p7) | [Problem 8](#p8)| [Problem 9](#p9) | [Problem 10](#p10) | [Problem 11](#p11) | [Problem 12](#p12) |  [Problem 13](#p13)\n",
    "\n",
    "---"
   ]
  },
  {
   "cell_type": "markdown",
   "id": "928a6089",
   "metadata": {},
   "source": [
    "# 2. Real Number Types in Python\n",
    "\n",
    "Quantitative information arises everywhere in data science. In addition to representing commands to print out lines, expressions can represent numbers and methods of combining numbers.\n",
    "\n",
    "\n",
    "Python has two real number types:\n",
    "\n",
    "`int`: \t\tan integer of any size\n",
    "\n",
    "`float`:\ta number with an optional fractional part\n",
    "\n",
    "An int never has a decimal point; a float always does\n",
    "\n",
    "A float might be printed using scientific notation\n",
    "\n",
    "\n",
    "\n",
    "\n",
    "The expression `3.2500` evaluates to the floating point 3.25. (Run the cell and see.)"
   ]
  },
  {
   "cell_type": "code",
   "execution_count": null,
   "id": "201232d5",
   "metadata": {},
   "outputs": [],
   "source": [
    "3.2500"
   ]
  },
  {
   "cell_type": "markdown",
   "id": "cdde6eef",
   "metadata": {},
   "source": [
    "Notice that we didn't have to `print`. When you run a notebook cell, if the last line has a value, then Jupyter helpfully prints out that value for you. However, it won't print out prior lines automatically."
   ]
  },
  {
   "cell_type": "code",
   "execution_count": null,
   "id": "0e7dce3a",
   "metadata": {},
   "outputs": [],
   "source": [
    "print(2)\n",
    "3\n",
    "4"
   ]
  },
  {
   "cell_type": "markdown",
   "id": "fcd64563",
   "metadata": {},
   "source": [
    "Above, you should see that 4 is the value of the last expression, 2 is printed, but 3 is lost forever because it was neither printed nor last.\n",
    "\n",
    "You don't want to print everything all the time anyway.  But if you feel sorry for 3, change the cell above to print it."
   ]
  },
  {
   "cell_type": "markdown",
   "id": "b4c93d56",
   "metadata": {},
   "source": [
    "## 2.1 Limitations of float values:\n",
    "\n",
    "Be aware that float values have the following limitations, which can lead to issues if you're not aware:\n",
    "\n",
    "- They have limited precision of 15-16 decimal places\n",
    "\n",
    "- After arithmetic, the final few decimal places can be wrong\n",
    "\n",
    "- They have limited size (but the limit is huge)\n"
   ]
  },
  {
   "cell_type": "markdown",
   "id": "8b9f960b",
   "metadata": {},
   "source": [
    "**Practice 2.2.1**:  Run the cells below to observe some of the issues that arise when working with float values"
   ]
  },
  {
   "cell_type": "code",
   "execution_count": null,
   "id": "f3b652ab",
   "metadata": {},
   "outputs": [],
   "source": [
    "382764238764.238742034876503865238723985 - 382764238764.238742"
   ]
  },
  {
   "cell_type": "code",
   "execution_count": null,
   "id": "829497c6",
   "metadata": {},
   "outputs": [],
   "source": [
    "print(0.1 + 0.2)"
   ]
  },
  {
   "cell_type": "code",
   "execution_count": null,
   "id": "2b146016",
   "metadata": {},
   "outputs": [],
   "source": [
    "0.1 + 0.2 == 0.3"
   ]
  },
  {
   "cell_type": "markdown",
   "id": "f3a28389",
   "metadata": {},
   "source": [
    "# 3. Names and Assignment Statements in Python\n",
    "In natural language, we have terminology that lets us quickly reference very complicated concepts.  We don't say, \"That's a large mammal with brown fur and sharp teeth!\"  Instead, we just say, \"Bear!\"\n",
    "\n",
    "In Python, we do this with *assignment statements*. An assignment statement has a name on the left side of an `=` sign and an expression to be evaluated on the right."
   ]
  },
  {
   "cell_type": "code",
   "execution_count": null,
   "id": "ee9b252c",
   "metadata": {},
   "outputs": [],
   "source": [
    "ten = 3 * 2 + 4"
   ]
  },
  {
   "cell_type": "markdown",
   "id": "0339c893",
   "metadata": {},
   "source": [
    "When you run that cell, Python first computes the value of the expression on the right-hand side, `3 * 2 + 4`, which is the number 10.  Then it assigns that value to the name `ten`.  At that point, the code in the cell is done running.\n",
    "\n",
    "After you run that cell, the value 10 is bound to the name `ten`:"
   ]
  },
  {
   "cell_type": "code",
   "execution_count": null,
   "id": "fbf07ec6",
   "metadata": {},
   "outputs": [],
   "source": [
    "ten"
   ]
  },
  {
   "cell_type": "markdown",
   "id": "a0d3dcc8",
   "metadata": {},
   "source": [
    "The statement `ten = 3 * 2 + 4` is not asserting that `ten` is already equal to `3 * 2 + 4`, as we might expect by analogy with math notation.  Rather, that line of code changes what `ten` means; it now refers to the value 10, whereas before it meant nothing at all.\n",
    "\n",
    "If the designers of Python had been ruthlessly pedantic, they might have made us write\n",
    "\n",
    "    define the name ten to hereafter have the value of 3 * 2 + 4 \n",
    "\n",
    "instead.  You will probably appreciate the brevity of \"`=`\"!  But keep in mind that this is the real meaning.\n",
    "\n",
    "**Practice 3.1.** Run the following cell which uses a variable name `eleven` that hasn't been assigned to anything. You'll see an error!"
   ]
  },
  {
   "cell_type": "code",
   "execution_count": null,
   "id": "2e43c60d",
   "metadata": {},
   "outputs": [],
   "source": [
    "eleven + 8"
   ]
  },
  {
   "cell_type": "markdown",
   "id": "28259143-5124-4d5c-8c42-56fdc022ea9f",
   "metadata": {},
   "source": [
    "**Practice 3.2.** Fix the cell above so that you can run it without an error."
   ]
  },
  {
   "cell_type": "markdown",
   "id": "1ae55360",
   "metadata": {},
   "source": [
    "A common pattern in Jupyter notebooks is to assign a value to a name and then immediately evaluate the name in the last line in the cell so that the value is displayed as output. "
   ]
  },
  {
   "cell_type": "code",
   "execution_count": null,
   "id": "70be973d",
   "metadata": {},
   "outputs": [],
   "source": [
    "close_to_pi = 355/113\n",
    "close_to_pi"
   ]
  },
  {
   "cell_type": "markdown",
   "id": "85c9e97a",
   "metadata": {},
   "source": [
    "Another common pattern is that a series of lines in a single cell will build up a complex computation in stages, naming the intermediate results."
   ]
  },
  {
   "cell_type": "code",
   "execution_count": null,
   "id": "0e2639d5",
   "metadata": {},
   "outputs": [],
   "source": [
    "semimonthly_salary = 842.5\n",
    "monthly_salary = 2 * semimonthly_salary\n",
    "number_of_months_in_a_year = 12\n",
    "yearly_salary = number_of_months_in_a_year * monthly_salary\n",
    "yearly_salary"
   ]
  },
  {
   "cell_type": "markdown",
   "id": "41a5c709",
   "metadata": {},
   "source": [
    "Names in Python can have letters (upper- and lower-case letters are both okay and count as different letters), underscores, and numbers.  The first character can't be a number (otherwise a name might look like a number).  And names can't contain spaces, since spaces are used to separate pieces of code from each other.\n",
    "\n",
    "Other than those rules, what you name something doesn't matter *to Python*.  For example, this cell does the same thing as the above cell, except everything has a different name:"
   ]
  },
  {
   "cell_type": "code",
   "execution_count": null,
   "id": "5552264d",
   "metadata": {},
   "outputs": [],
   "source": [
    "a = 842.5\n",
    "b = 2 * a\n",
    "c = 12\n",
    "d = c * b\n",
    "d"
   ]
  },
  {
   "cell_type": "markdown",
   "id": "bf3de357",
   "metadata": {},
   "source": [
    "**However**, names are very important for making your code *readable* to yourself and others.  The cell above is shorter, but it's totally useless without an explanation of what it does."
   ]
  },
  {
   "cell_type": "markdown",
   "id": "ff7ce9a8",
   "metadata": {},
   "source": [
    "## 3.1. Checking Your Code\n",
    "\n",
    "Now that you know how to name things, you can start using the built-in *tests* to check whether your work is correct. Sometimes, there are multiple tests for a single question, and passing all of them is required to receive credit for the question. \n",
    "\n",
    "\n",
    "If you haven't already, scroll up to the top of this notebook and run the first cell that says `Initialize Otter:`   [Back to top](#verytop) \n",
    "\n",
    "\n",
    "Then run the cell below.  It will import the module NumPy which will be used in some of the tests below.  We will discuss more about NumPy and importing modules in a later section of this assignment."
   ]
  },
  {
   "cell_type": "code",
   "execution_count": null,
   "id": "45a31b52",
   "metadata": {},
   "outputs": [],
   "source": [
    "# Imports module NumPy - we will explore this module in a later section of this assignment.\n",
    "import numpy as np\n",
    "\n",
    "# Function needed to run in-notebook tests\n",
    "import hashlib\n",
    "\n",
    "def get_hash(num):\n",
    "    \"\"\"Helper function for assessing correctness\"\"\"\n",
    "    return hashlib.md5(str(num).encode()).hexdigest()\n"
   ]
  },
  {
   "cell_type": "markdown",
   "id": "8b4dbedb-b220-402f-b360-4962800682dd",
   "metadata": {},
   "source": [
    "## 3.2 Comments\n",
    "Notice the lines in the cell above that begin with #\n",
    "\n",
    "\n",
    "This is called a *comment*. It doesn't make anything happen in Python; Python ignores anything on a line after a `#`.  Instead, it's there to communicate something about the code to you, the human reader. Comments are extremely useful. "
   ]
  },
  {
   "cell_type": "markdown",
   "id": "3aa4b433",
   "metadata": {
    "deletable": false,
    "editable": false
   },
   "source": [
    "<a id='p2'></a>\n",
    "\n",
    "<hr style=\"border: 5px solid #003262;\" />\n",
    "<hr style=\"border: 1px solid #fdb515;\" />\n",
    "\n",
    "## <span style='color:Red'>  Question 2 (2 points)\n",
    "    \n",
    "\n",
    "\n",
    "Assign the name `seconds_in_a_decade` to the number of seconds between midnight January 1, 2010 and midnight January 1, 2020. Note that there are two leap years in this span of a decade. A non-leap year has 365 days and a leap year has 366 days.\n",
    "\n",
    "Replace the ellipses (`...`) with your expression and run the cell.\n",
    "\n",
    "Running the cell directly after it will test whether you have assigned `seconds_in_a_decade` to the correct answer.\n",
    "    \n",
    "\n"
   ]
  },
  {
   "cell_type": "code",
   "execution_count": null,
   "id": "a4269749",
   "metadata": {
    "tags": []
   },
   "outputs": [],
   "source": [
    "# Change the next line \n",
    "# so that it computes the number of seconds in a decade \n",
    "# and assigns that number the name, seconds_in_a_decade.\n",
    "\n",
    "seconds_in_a_decade = ...\n",
    "\n",
    "# We've put this line in this cell \n",
    "# so that it will print the value you've given to seconds_in_a_decade when you run it.  \n",
    "# You don't need to change this.\n",
    "seconds_in_a_decade"
   ]
  },
  {
   "cell_type": "code",
   "execution_count": null,
   "id": "d5d7cf4c",
   "metadata": {
    "deletable": false,
    "editable": false
   },
   "outputs": [],
   "source": [
    "grader.check(\"q2\")"
   ]
  },
  {
   "cell_type": "markdown",
   "id": "15ac620c",
   "metadata": {},
   "source": [
    "[Back to top](#top)\n",
    "\n",
    "<a id='p3'></a>\n",
    "\n",
    "<hr style=\"border: 5px solid #003262;\" />\n",
    "<hr style=\"border: 1px solid #fdb515;\" />\n",
    "\n",
    "## <span style='color:Red'>   Question 3 (2 pts)\n",
    "    \n",
    "\n",
    "When you run the following cell, Python produces a cryptic error message."
   ]
  },
  {
   "cell_type": "code",
   "execution_count": null,
   "id": "26547631",
   "metadata": {},
   "outputs": [],
   "source": [
    "4 = 2 + 2"
   ]
  },
  {
   "cell_type": "markdown",
   "id": "1d424018",
   "metadata": {
    "deletable": false,
    "editable": false
   },
   "source": [
    "**Multiple Choice:**\n",
    "Choose the best explanation of what's wrong with the code, and then assign the the variable  `names_q3` to the corresponding letter (as a capital letter string `'A'`,`'B'`, `'C'`,or `'D'`) to  below to indicate your answer.  Replace the ellipses (`...`) with your answer.  \n",
    "\n",
    "A. Python is smart and already knows `4 = 2 + 2`.\n",
    "\n",
    "B. It should be `2 + 2 = 4`.\n",
    "\n",
    "C. In Python, it's a rule that the `=` sign must have a variable name to its left, and `4` isn't a variable name.\n",
    "\n",
    "D. I don't get an error message. This is a trick question.\n",
    "\n",
    "**Note that the grader check below only checks if you have entered a valid input (i.e. either a capital 'A', 'B', 'C', or 'D')\n",
    "not whether or not you chose the correct input - that will be graded via a hidden test once you submit to Gradescope.**\n"
   ]
  },
  {
   "cell_type": "code",
   "execution_count": null,
   "id": "5204e6e1",
   "metadata": {
    "tags": []
   },
   "outputs": [],
   "source": [
    "names_q3 = ...\n",
    "\n",
    "# We've put this next line in this cell \n",
    "# so that it will print the value you've given to names_q3 when you run it.  \n",
    "# You don't need to change this:\n",
    "names_q3\n",
    "\n",
    "#Note that the grader check below only checks if you have entered a valid input (i.e. either a capital 'A', 'B', 'C', or 'D')\n",
    "#not whether or not you chose the correct input - that will be graded via a hidden test once you submit to Gradescope."
   ]
  },
  {
   "cell_type": "code",
   "execution_count": null,
   "id": "2bb64d66",
   "metadata": {
    "deletable": false,
    "editable": false
   },
   "outputs": [],
   "source": [
    "grader.check(\"q3\")"
   ]
  },
  {
   "cell_type": "markdown",
   "id": "4f8d1c11",
   "metadata": {},
   "source": [
    "## 3.3. Operators\n"
   ]
  },
  {
   "cell_type": "markdown",
   "id": "a771ee62",
   "metadata": {},
   "source": [
    "Many basic arithmetic operations are built into Python.  The textbook section on [Expressions](http://www.inferentialthinking.com/chapters/03/1/Expressions.html) describes some key arithmetic operators.  The common operator that differs from typical math notation is `**`, which raises one number to the power of the other. So, `2**3` stands for $2^3$ and evaluates to 8. "
   ]
  },
  {
   "cell_type": "markdown",
   "id": "2f98ec40",
   "metadata": {},
   "source": [
    "**Practice 3.3:** Play around with the operators $\\%, /, **$, and $//$ to see what they do:"
   ]
  },
  {
   "cell_type": "code",
   "execution_count": null,
   "id": "37e7561d",
   "metadata": {},
   "outputs": [],
   "source": []
  },
  {
   "cell_type": "markdown",
   "id": "41fff292",
   "metadata": {},
   "source": [
    "The order of operations is the same as what you learned in elementary school, and Python also has parentheses.  For example, compare the outputs of the cells below. The second cell uses parentheses for a happy new school year!"
   ]
  },
  {
   "cell_type": "code",
   "execution_count": null,
   "id": "265b18f7",
   "metadata": {},
   "outputs": [],
   "source": [
    "9+6*5-6*3**2*2**3/4*7"
   ]
  },
  {
   "cell_type": "code",
   "execution_count": null,
   "id": "a5fab05f",
   "metadata": {},
   "outputs": [],
   "source": [
    "9+(6*5-(6*3))**2*((2**3)/4*7)"
   ]
  },
  {
   "cell_type": "markdown",
   "id": "ebae07f6",
   "metadata": {
    "deletable": false,
    "editable": false
   },
   "source": [
    "In standard math notation, the first expression is\n",
    "\n",
    "$$9 + 6 \\times 5 - 6 \\times 3^2 \\times \\frac{2^3}{4} \\times 7,$$\n",
    "\n",
    "while the second expression is\n",
    "\n",
    "$$9 + (6 \\times 5 - (6 \\times 3))^2 \\times \\left(\\frac{\\left(2^3\\right)}{4} \\times 7\\right).$$\n"
   ]
  },
  {
   "cell_type": "markdown",
   "id": "3b09d391",
   "metadata": {
    "deletable": false,
    "editable": false
   },
   "source": [
    "[Back to top](#top)\n",
    "\n",
    "<a id='p4'></a>\n",
    "\n",
    "<hr style=\"border: 5px solid #003262;\" />\n",
    "<hr style=\"border: 1px solid #fdb515;\" />\n",
    "\n",
    "\n",
    "## <span style='color:Red'>  Question 4a (2 pts) ###\n",
    "\n",
    "Write a Python expression in this next cell that's equal to $\\displaystyle 5 \\times \\left(3 \\frac{10}{11}\\right) - 50 \\frac{1}{3} + 2^{0.5 \\times 22} - \\frac{7}{33} + 8$.  That's five times three and ten elevenths, minus fifty and a third, plus two to the power of half twenty-two, minus seven thirty-thirds plus eight.  By \"$\\displaystyle 3 \\frac{10}{11}$\" we mean $\\displaystyle 3+\\frac{10}{11}$, not $\\displaystyle 3 \\times \\frac{10}{11}$.\n",
    "\n",
    "Replace the ellipses (`...`) with your expression.  Try to use parentheses only when necessary.\n",
    "\n"
   ]
  },
  {
   "cell_type": "code",
   "execution_count": null,
   "id": "c68f02e3",
   "metadata": {
    "tags": []
   },
   "outputs": [],
   "source": [
    "q4a_answer = ...\n",
    "\n",
    "# We've put this line in this cell \n",
    "# so that it will print the value you've given to q4_answer when you run it.  \n",
    "# You don't need to change this.\n",
    "q4a_answer"
   ]
  },
  {
   "cell_type": "code",
   "execution_count": null,
   "id": "ffee9f57",
   "metadata": {
    "deletable": false,
    "editable": false
   },
   "outputs": [],
   "source": [
    "grader.check(\"q4a\")"
   ]
  },
  {
   "cell_type": "markdown",
   "id": "56f9fe29-be50-4e3e-a0f2-12d85ec38b02",
   "metadata": {},
   "source": [
    "## 3.4: Useful Python Data Structure: Lists\n",
    "\n",
    "A list is a type of Python object that allows us to store a sequence of other objects. One of its major utilities is that it provides us with means for updating the contents of a list later on.\n",
    "\n",
    "A list object is created using square-brackets, and its contents are separated by commas: [item1, item2, ..., itemN]. \n",
    "\n",
    "**Its contents need not be of the same type of object.**"
   ]
  },
  {
   "cell_type": "code",
   "execution_count": null,
   "id": "62b6837f-f15c-4807-aa0c-26c2d6c124cd",
   "metadata": {},
   "outputs": [],
   "source": [
    "# we can store whatever we want in lists!\n",
    "my_list = [2,1,5,'squid']"
   ]
  },
  {
   "cell_type": "code",
   "execution_count": null,
   "id": "feca55e3-9ac3-4a7f-a94a-fe43e373b2e9",
   "metadata": {},
   "outputs": [],
   "source": [
    "# Python indexing starts at 0\n",
    "my_list[0]"
   ]
  },
  {
   "cell_type": "markdown",
   "id": "3120c198-8524-4c31-bef8-0d0d696b21f6",
   "metadata": {},
   "source": [
    "In order to access a range of elements in a list, you need to slice a list. One way to do this is to use the simple slicing operator i.e. colon(:). With this operator, one can specify where to start the slicing, where to end, and specify the step.  \n",
    "\n",
    "For list slicing in Python the ending index is EXCLUSIVE but the beginning index is INCLUSIVE"
   ]
  },
  {
   "cell_type": "code",
   "execution_count": null,
   "id": "39138e88-4def-4cec-a555-8aa76517093c",
   "metadata": {},
   "outputs": [],
   "source": [
    "# array/list slicing in Python ending index is EXCLUSIVE,\n",
    "# but the beginning index is INCLUSIVE\n",
    "my_list[1:3]"
   ]
  },
  {
   "cell_type": "code",
   "execution_count": null,
   "id": "7d7d5809-c605-4719-a76b-42ece056d344",
   "metadata": {},
   "outputs": [],
   "source": [
    "my_list[2:]"
   ]
  },
  {
   "cell_type": "code",
   "execution_count": null,
   "id": "1ca2f3d1-47bd-42a5-8b27-d9b7a647a605",
   "metadata": {},
   "outputs": [],
   "source": [
    "# you can even reference elements from the end of the list!\n",
    "my_list[-1]"
   ]
  },
  {
   "cell_type": "code",
   "execution_count": null,
   "id": "b0f9e556-85c5-433f-b88e-62824384ae0d",
   "metadata": {},
   "outputs": [],
   "source": [
    "my_list[-2]"
   ]
  },
  {
   "cell_type": "code",
   "execution_count": null,
   "id": "0429e913-5ca5-4661-8965-61ef15e5eed1",
   "metadata": {},
   "outputs": [],
   "source": [
    "my_list[-3:]"
   ]
  },
  {
   "cell_type": "markdown",
   "id": "1f363ba6-983a-4995-9fc2-44533f634741",
   "metadata": {},
   "source": [
    "## 3.5:  Useful Python Data Structure:  Dictionaries\n",
    "\n",
    "Python’s dictionary allows you to store key-value pairs, and then pass the dictionary a key to quickly retrieve its corresponding value. Specifically, you construct the dictionary by specifying one-way mappings from key-objects to value-objects. \n",
    "\n",
    "Each key must map to exactly one value, meaning that a key must be unique."
   ]
  },
  {
   "cell_type": "code",
   "execution_count": null,
   "id": "f51a27df-9a9c-4fd0-91e2-c74a4bb4520e",
   "metadata": {},
   "outputs": [],
   "source": [
    "# Dictionaries take the following key-value form\n",
    "my_dict = {\n",
    "    'key1': 'value1',\n",
    "    'key2': 'value2'\n",
    "}"
   ]
  },
  {
   "cell_type": "code",
   "execution_count": null,
   "id": "78b8d078-dbb7-4004-89d3-3644f60285d2",
   "metadata": {},
   "outputs": [],
   "source": [
    "# we can assign a new key-value pair to our dictionary like so\n",
    "my_dict['key3'] = 'porcupine'"
   ]
  },
  {
   "cell_type": "code",
   "execution_count": null,
   "id": "d4e8943a-c595-46b2-8307-a0afa3e91ac8",
   "metadata": {},
   "outputs": [],
   "source": [
    "# dictionaries can store any kind of object as its value, including lists, tuples, or even other dictionaries\n",
    "my_list = [3.5, 2, \"anything\"]\n",
    "\n",
    "my_dict['my_list'] = my_list\n",
    "\n",
    "my_dict"
   ]
  },
  {
   "cell_type": "code",
   "execution_count": null,
   "id": "9bc8e78d-c28e-4596-b8dc-07b9def119eb",
   "metadata": {},
   "outputs": [],
   "source": [
    "# we can access a dictionary's contents by using the stored key value\n",
    "my_dict['key3']"
   ]
  },
  {
   "cell_type": "code",
   "execution_count": null,
   "id": "f059262b-af02-457c-8ec8-f819cb9cc58e",
   "metadata": {},
   "outputs": [],
   "source": [
    "# we can also view the contents of our dictionary by calling the keys() and values() methods\n",
    "print(my_dict.keys())\n",
    "print(my_dict.values())"
   ]
  },
  {
   "cell_type": "code",
   "execution_count": null,
   "id": "9cb9e28e-0eb5-46b0-beab-186f2e75e717",
   "metadata": {},
   "outputs": [],
   "source": [
    "# we can overwrite a value in the dictionary in the same way that we assigned a value\n",
    "my_dict['key1'] = 'new value!'\n",
    "my_dict['key1']"
   ]
  },
  {
   "cell_type": "markdown",
   "id": "f8bf5ed3-b87d-43d3-a2f8-abcbbaec2284",
   "metadata": {},
   "source": [
    "It is important to note outright that the time it takes for dictionary to take a key and retrieve a value does not depend on the size of the dictionary.  It accomplishes this by making use of a technique known as hashing (https://en.wikipedia.org/wiki/Hash_function)\n",
    "\n"
   ]
  },
  {
   "cell_type": "markdown",
   "id": "4dfe572d-6abc-4d5c-a9cd-417aff653fbb",
   "metadata": {},
   "source": [
    "## 3.6 Loops\n",
    "\n",
    "You can loop over indices like you would in C++ by using `range`. Note that `range(3)` makes use of the fact that Python is 0-based and will loop over something of length 3: [0, 1, 2]"
   ]
  },
  {
   "cell_type": "code",
   "execution_count": null,
   "id": "958d6185-a6a8-46be-96a9-7934ccfcbe1f",
   "metadata": {},
   "outputs": [],
   "source": [
    "for i in range(3+1):\n",
    "    print(i)"
   ]
  },
  {
   "cell_type": "code",
   "execution_count": null,
   "id": "e7cd7a2c-d717-47a9-bc62-0c012026b738",
   "metadata": {},
   "outputs": [],
   "source": [
    "print(list(range(3)))"
   ]
  },
  {
   "cell_type": "markdown",
   "id": "e0cf3478-d530-48d6-99eb-901dfe6da9a7",
   "metadata": {},
   "source": [
    "You can also loop over the elements of a list:"
   ]
  },
  {
   "cell_type": "code",
   "execution_count": null,
   "id": "d6294ab9-ceba-4d64-be41-d7955a9a26eb",
   "metadata": {},
   "outputs": [],
   "source": [
    "x = [2, 7, -153, 'octopus']\n",
    "\n",
    "for xi in x:\n",
    "    print(xi)"
   ]
  },
  {
   "cell_type": "code",
   "execution_count": null,
   "id": "05f7a8e5-595f-4cca-803c-b907381f2c71",
   "metadata": {},
   "outputs": [],
   "source": [
    "# or just loop over the indices\n",
    "for i in range(len(x)):\n",
    "    print(x[i])"
   ]
  },
  {
   "cell_type": "code",
   "execution_count": null,
   "id": "8b0a7c56-2f3a-46a8-b77e-6a916bd3c250",
   "metadata": {},
   "outputs": [],
   "source": [
    "list(range(1,5))"
   ]
  },
  {
   "cell_type": "markdown",
   "id": "81944cca-8e7a-4a8c-87d5-db89c848fe7a",
   "metadata": {},
   "source": [
    "## 3.7 List Comprehensions\n",
    "\n",
    "Rather than using loops to create a list, we will frequently use a list comprehension, as they take less time to run:\n",
    "\n",
    "List comprehensions have the form: \n",
    "`[f(x) for x in seq]`\n",
    "\n",
    "\n",
    "\n",
    "\n",
    "**Practice:**  Suppose you have a list of fruits and you want a new list, containing only the fruits with the letter \"a\" in the name."
   ]
  },
  {
   "cell_type": "code",
   "execution_count": null,
   "id": "407ff5fa-3aae-4c5b-9458-a2e5edf4df43",
   "metadata": {},
   "outputs": [],
   "source": [
    "fruits = [\"apple\", \"banana\", \"cherry\", \"kiwi\", \"mango\"]"
   ]
  },
  {
   "cell_type": "markdown",
   "id": "85a0fa50-222c-47a9-a4d9-af7faf1e2362",
   "metadata": {},
   "source": [
    "Without list comprehension you will have to write a for statement with a conditional test inside:"
   ]
  },
  {
   "cell_type": "code",
   "execution_count": null,
   "id": "b050ba66-d649-466f-87d0-d324b4b2abcb",
   "metadata": {},
   "outputs": [],
   "source": [
    "newlist = []\n",
    "\n",
    "for x in fruits:\n",
    "  if \"a\" in x:\n",
    "    newlist.append(x)\n",
    "\n",
    "newlist"
   ]
  },
  {
   "cell_type": "markdown",
   "id": "e021ff04-ee49-484a-8afa-474c2e61b7a1",
   "metadata": {},
   "source": [
    "With list comprehension you can do all that with only one line of code:"
   ]
  },
  {
   "cell_type": "code",
   "execution_count": null,
   "id": "bd0f6d66-a710-4663-b5ec-8cab68ed06fb",
   "metadata": {},
   "outputs": [],
   "source": [
    "newlist = [x for x in fruits if \"a\" in x]\n",
    "\n",
    "newlist"
   ]
  },
  {
   "cell_type": "code",
   "execution_count": null,
   "id": "73991595-1349-43e8-962d-275b7446a891",
   "metadata": {},
   "outputs": [],
   "source": [
    "anotherex = [y*3 for y in range(5)]\n",
    "\n",
    "anotherex"
   ]
  },
  {
   "cell_type": "markdown",
   "id": "57ce31b5-ccfc-4611-a61b-eb05ba45b030",
   "metadata": {
    "deletable": false,
    "editable": false
   },
   "source": [
    "<hr style=\"border: 5px solid #003262;\" />\n",
    "<hr style=\"border: 1px solid #fdb515;\" />\n",
    "\n",
    "\n",
    "## <span style='color:Red'>  Question 4b (2 pts) ###\n",
    "\n",
    "\n",
    "Use list comprehension to create a list of integers called `intsqr` that consists of the squares of the first 100 positive integers, in **ascending order**. "
   ]
  },
  {
   "cell_type": "code",
   "execution_count": null,
   "id": "47aa2dda-776e-41a5-b8ca-5072cbd1c1c9",
   "metadata": {
    "tags": []
   },
   "outputs": [],
   "source": [
    "intsqr= ...\n",
    "\n"
   ]
  },
  {
   "cell_type": "code",
   "execution_count": null,
   "id": "87bc4974",
   "metadata": {
    "deletable": false,
    "editable": false
   },
   "outputs": [],
   "source": [
    "grader.check(\"q4b\")"
   ]
  },
  {
   "cell_type": "markdown",
   "id": "daaf01c0",
   "metadata": {},
   "source": [
    "# 4. Functions\n",
    "\n",
    "The most common way to combine or manipulate values in Python is by calling functions. \n",
    "\n",
    "\n",
    "Functions are either built-in, or user-defined as demonstrated below. \n",
    "\n",
    "\n",
    "## 4.1 Built In Functions:\n",
    "Python comes with many built-in functions that perform common operations.\n",
    "\n",
    "Examples of a few built-in functions we will frequently use include:  \n",
    "`abs(), sum(), min(), max(), len(), set(), type(), map(), int() lambda(), round()`\n",
    "\n",
    "\n",
    "For example, the `abs` function takes a single number as its argument and returns the absolute value of that number. Run the next two cells and see if you understand the output."
   ]
  },
  {
   "cell_type": "code",
   "execution_count": null,
   "id": "ef50b819",
   "metadata": {},
   "outputs": [],
   "source": [
    "abs(5)"
   ]
  },
  {
   "cell_type": "code",
   "execution_count": null,
   "id": "d935a8b3",
   "metadata": {},
   "outputs": [],
   "source": [
    "abs(-5)"
   ]
  },
  {
   "cell_type": "markdown",
   "id": "3024fd64",
   "metadata": {},
   "source": [
    "You can check the type of any object in Python using the built-in `type` function:"
   ]
  },
  {
   "cell_type": "code",
   "execution_count": null,
   "id": "2bc96baa",
   "metadata": {},
   "outputs": [],
   "source": [
    "type(2)"
   ]
  },
  {
   "cell_type": "code",
   "execution_count": null,
   "id": "be1ab5ec",
   "metadata": {},
   "outputs": [],
   "source": [
    "type(2.5)"
   ]
  },
  {
   "cell_type": "code",
   "execution_count": null,
   "id": "3ab40eb2",
   "metadata": {},
   "outputs": [],
   "source": [
    "type('hello')"
   ]
  },
  {
   "cell_type": "code",
   "execution_count": null,
   "id": "d11fc80f",
   "metadata": {},
   "outputs": [],
   "source": [
    "type([1,2.5,'hello'])"
   ]
  },
  {
   "cell_type": "markdown",
   "id": "9b5002db",
   "metadata": {},
   "source": [
    "## 4.2 Multiple arguments\n",
    "Some functions take multiple arguments, separated by commas. For example, the built-in `max` function returns the maximum argument passed to it."
   ]
  },
  {
   "cell_type": "code",
   "execution_count": null,
   "id": "ce424714",
   "metadata": {},
   "outputs": [],
   "source": [
    "max(2, -3, 4, -5)"
   ]
  },
  {
   "cell_type": "markdown",
   "id": "ea31ddae",
   "metadata": {},
   "source": [
    "## 4.3 Viewing Documentation\n",
    "\n",
    "To output the documentation for a function, use the `help` function."
   ]
  },
  {
   "cell_type": "code",
   "execution_count": null,
   "id": "1bb2e681",
   "metadata": {},
   "outputs": [],
   "source": [
    "help(max)"
   ]
  },
  {
   "cell_type": "markdown",
   "id": "21c57c40",
   "metadata": {},
   "source": [
    "#### You can also use Jupyter to view function documentation inside your notebook: \n",
    "(The function must already be defined in the kernel for this to work).\n",
    "\n",
    "**Practice 4.1.1:** Below, click your mouse anywhere on the `max` block below and use `Shift` + `Tab` to view the function's documentation. "
   ]
  },
  {
   "cell_type": "code",
   "execution_count": null,
   "id": "c1300843",
   "metadata": {},
   "outputs": [],
   "source": [
    "max(2, -3, 4, -5)"
   ]
  },
  {
   "cell_type": "markdown",
   "id": "28294942",
   "metadata": {},
   "source": [
    "## 4.4. User Designed Functions\n",
    "\n",
    "\n",
    "Let's write a very simple function that converts a proportion to a percentage by multiplying it by 100.  \n",
    "\n",
    "For example, the value of `to_percentage(.5)` should be the number 50 (no percent sign).\n",
    "\n",
    "A function definition has a few parts."
   ]
  },
  {
   "cell_type": "markdown",
   "id": "31aa287d",
   "metadata": {},
   "source": [
    "##### `def`\n",
    "It always starts with `def` (short for **def**ine):\n",
    "\n",
    "    def"
   ]
  },
  {
   "cell_type": "markdown",
   "id": "62f2067e",
   "metadata": {},
   "source": [
    "##### Name\n",
    "Next comes the name of the function.  Like other names we've defined, it can't start with a number or contain spaces. Let's call our function `to_percentage`:\n",
    "    \n",
    "    def to_percentage"
   ]
  },
  {
   "cell_type": "markdown",
   "id": "8342a734",
   "metadata": {},
   "source": [
    "##### Signature\n",
    "Next comes something called the *signature* of the function.  This tells Python how many arguments your function should have, and what names you'll use to refer to those arguments in the function's code.  A function can have any number of arguments (including 0!). \n",
    "\n",
    "`to_percentage` should take one argument, and we'll call that argument `proportion` since it should be a proportion.\n",
    "\n",
    "    def to_percentage(proportion)\n",
    "    \n",
    "If we want our function to take more than one argument, we add a comma between each argument name. Note that if we had zero arguments, we'd still place the parentheses () after that name. \n",
    "\n",
    "We put a **colon** after the signature to tell Python that the next indented lines are the body of the function. If you're getting a syntax error after defining a function, check to make sure you remembered the colon!\n",
    "\n",
    "    def to_percentage(proportion):"
   ]
  },
  {
   "cell_type": "markdown",
   "id": "ba60d57e",
   "metadata": {},
   "source": [
    "##### Documentation\n",
    "Functions can do complicated things, so you should write an explanation of what your function does.  For small functions, this is less important, but it's a good habit to learn from the start.  Conventionally, Python functions are documented by writing an **indented** triple-quoted string:\n",
    "\n",
    "    def to_percentage(proportion):\n",
    "        \"\"\"Converts a proportion to a percentage.\"\"\""
   ]
  },
  {
   "cell_type": "markdown",
   "id": "8307e11f",
   "metadata": {},
   "source": [
    "##### Body\n",
    "Now we start writing code that runs when the function is called.  This is called the *body* of the function and every line **must be indented with a tab**.  Any lines that are *not* indented and left-aligned with the def statement is considered outside the function. \n",
    "\n",
    "Some notes about the body of the function:\n",
    "- We can write code that we would write anywhere else.  \n",
    "- We use the arguments defined in the function signature. We can do this because we assume that when we call the function, values are already assigned to those arguments.\n",
    "- We generally avoid referencing variables defined *outside* the function. If you would like to reference variables outside of the function, pass them through as arguments!\n",
    "\n",
    "\n",
    "Now, let's give a name to the number we multiply a proportion by to get a percentage:\n",
    "\n",
    "    def to_percentage(proportion):\n",
    "        \"\"\"Converts a proportion to a percentage.\"\"\"\n",
    "        factor = 100"
   ]
  },
  {
   "cell_type": "markdown",
   "id": "d383afd0",
   "metadata": {},
   "source": [
    "##### `return`\n",
    "The special instruction `return` is part of the function's body and tells Python to make the value of the function call equal to whatever comes right after `return`.  We want the value of `to_percentage(.5)` to be the proportion .5 times the factor 100, so we write:\n",
    "\n",
    "    def to_percentage(proportion):\n",
    "        \"\"\"Converts a proportion to a percentage.\"\"\"\n",
    "        factor = 100\n",
    "        return proportion * factor\n",
    "        \n",
    "`return` only makes sense in the context of a function, and **can never be used outside of a function**. `return` is always the last line of the function because Python stops executing the body of a function once it hits a `return` statement. If a function does not have a return statement, it will not return anything; if you expect a value back from the function, make sure to include a return statement. \n",
    "\n",
    "*Note:*  `return` inside a function tells Python what value the function evaluates to. However, there are other functions, like `print`, that have no `return` value. For example, `print` simply prints a certain value out to the console. \n",
    "\n",
    "In short, `return` is used when you want to tell the *computer* what the value of some variable is, while `print` is used to tell you, a *human*, its value."
   ]
  },
  {
   "cell_type": "markdown",
   "id": "8f00fa08",
   "metadata": {
    "deletable": false,
    "editable": false
   },
   "source": [
    "[Back to top](#top)\n",
    "\n",
    "<a id='p5'></a>\n",
    "\n",
    "<hr style=\"border: 5px solid #003262;\" />\n",
    "<hr style=\"border: 1px solid #fdb515;\" />\n",
    "\n",
    "\n",
    "## <span style='color:Red'>   Question 5a (2 pts) ###\n",
    "\n",
    "First define `to_percentage` in the cell below. \n",
    "\n",
    "Then use your function to convert the proportion 0.2 to a percentage.  Name that percentage `twenty_percent`.\n",
    "\n",
    "Replace EACH ellipses below (`...`)  with the corresponding correct code.  \n"
   ]
  },
  {
   "cell_type": "code",
   "execution_count": null,
   "id": "2a07bbbc",
   "metadata": {
    "tags": []
   },
   "outputs": [],
   "source": [
    "def ...\n",
    "    ''' ... '''\n",
    "    return ...\n",
    "\n",
    "twenty_percent = ...\n",
    "twenty_percent"
   ]
  },
  {
   "cell_type": "code",
   "execution_count": null,
   "id": "948c4eb6",
   "metadata": {
    "deletable": false,
    "editable": false
   },
   "outputs": [],
   "source": [
    "grader.check(\"q5a\")"
   ]
  },
  {
   "cell_type": "markdown",
   "id": "ccbf9729",
   "metadata": {},
   "source": [
    "## 4.5 Variable Scope\n",
    "Here's something important about functions: the names assigned *within* a function body are only accessible within the function body. Once the function has returned, those names are gone.  So even if you created a variable called `factor` and defined `factor = 100` inside of the body of the `to_percentage` function and then called `to_percentage`, `factor` would not have a value assigned to it outside of the body of `to_percentage`:\n",
    "\n",
    "**Note**: Below, you should see an error message."
   ]
  },
  {
   "cell_type": "code",
   "execution_count": null,
   "id": "2ca87cb8",
   "metadata": {},
   "outputs": [],
   "source": [
    "# You should get an error when you run this.  (If you don't, \n",
    "# you might have defined factor somewhere above.)\n",
    "factor"
   ]
  },
  {
   "cell_type": "markdown",
   "id": "6616fecd-d3e3-464d-ad1a-65d65db6f046",
   "metadata": {},
   "source": [
    "**Practice:** Fix the code above so that you can run the cell without getting an error"
   ]
  },
  {
   "cell_type": "markdown",
   "id": "236c6769",
   "metadata": {
    "deletable": false,
    "editable": false
   },
   "source": [
    "\n",
    "## <span style='color:Red'>  Question 5b (2 pts):\n",
    "\n",
    "You can also pass in named values as arguments to your function.\n",
    "\n",
    "Use `to_percentage` again to convert the proportion named `a_proportion` (defined below) to a percentage called `a_percentage`.\n",
    "\n",
    "Your answer should call the function `to_percentage`\n",
    "\n",
    "*Note:* You don't need to define `to_percentage` again!  Like other named values, functions stick around after you define them."
   ]
  },
  {
   "cell_type": "code",
   "execution_count": null,
   "id": "03bfaef6",
   "metadata": {
    "tags": []
   },
   "outputs": [],
   "source": [
    "a_proportion = 2**(0.5) / 2\n",
    "a_percentage = ...\n",
    "a_percentage"
   ]
  },
  {
   "cell_type": "code",
   "execution_count": null,
   "id": "5359f35b",
   "metadata": {
    "deletable": false,
    "editable": false
   },
   "outputs": [],
   "source": [
    "grader.check(\"q5b\")"
   ]
  },
  {
   "cell_type": "markdown",
   "id": "1b0cde17",
   "metadata": {
    "deletable": false,
    "editable": false
   },
   "source": [
    "[Back to top](#top)\n",
    "\n",
    "<a id='p6'></a>\n",
    "\n",
    "<hr style=\"border: 5px solid #003262;\" />\n",
    "<hr style=\"border: 1px solid #fdb515;\" />\n",
    "\n",
    "\n",
    "## <span style='color:Red'>  Question 6 (3 pts):\n",
    "\n",
    "Write a function `square` that takes a number as its argument and returns the square of its argument."
   ]
  },
  {
   "cell_type": "code",
   "execution_count": null,
   "id": "bffefd18",
   "metadata": {
    "tags": []
   },
   "outputs": [],
   "source": [
    "def square(x):\n",
    "    ''' ... '''\n",
    "    return ...\n"
   ]
  },
  {
   "cell_type": "code",
   "execution_count": null,
   "id": "2f45bb27",
   "metadata": {
    "deletable": false,
    "editable": false
   },
   "outputs": [],
   "source": [
    "grader.check(\"q6\")"
   ]
  },
  {
   "cell_type": "markdown",
   "id": "ab30b687-ef42-4cb9-8a9b-aa9b825634c3",
   "metadata": {},
   "source": [
    "## 5. Functions vs. Methods vs. Attributes\n",
    "\n",
    "An important characteristic of the Python language is the consistency of its object model. Every number, string, data structure, function, class, module, and so on exists in the Python interpreter in its own “box,” which is referred to as a Python object. Each object has an associated type (e.g., integer, string, or function) and internal data. In practice this makes the language very flexible, as even functions can be treated like any other object.\n",
    "\n",
    "There are some distinctions between Functions, Methods and Attributes:\n"
   ]
  },
  {
   "cell_type": "markdown",
   "id": "eb026e07-cd11-4219-b5d0-1ad3c8c9a32c",
   "metadata": {},
   "source": [
    "#### Functions\n",
    "\n",
    "Functions are either built-in, or user-defined as demonstrated above. Functions are called directly (e.g., type(x), help(str), etc)\n"
   ]
  },
  {
   "cell_type": "code",
   "execution_count": null,
   "id": "e9a5a495-b53d-4b87-8d48-992840de9977",
   "metadata": {},
   "outputs": [],
   "source": [
    "x='hello!'\n",
    "\n",
    "type(x)"
   ]
  },
  {
   "cell_type": "code",
   "execution_count": null,
   "id": "45ef62ec-beb3-4bd8-86cb-997197bfdf98",
   "metadata": {},
   "outputs": [],
   "source": [
    "square(6)"
   ]
  },
  {
   "cell_type": "code",
   "execution_count": null,
   "id": "4df6936d-4288-4d4e-b1c3-7e5327eb1501",
   "metadata": {},
   "outputs": [],
   "source": [
    "help(square) # notice our doc string is printed when we call the help function"
   ]
  },
  {
   "cell_type": "code",
   "execution_count": null,
   "id": "a5913c4e-9341-4601-9fd6-5d2a852de027",
   "metadata": {},
   "outputs": [],
   "source": [
    "type(square)"
   ]
  },
  {
   "cell_type": "markdown",
   "id": "52fc6d81-bf15-4330-922a-0235a7d6a539",
   "metadata": {},
   "source": [
    "## 5.1 Methods\n",
    "\n",
    "\n",
    "A method is a function associated with a specified object (and, by extension, with the type of that object). That is, a method corresponds to a data-type operation.  Methods are defined within the class from which an object is instantiated. \n",
    "\n",
    "\n",
    "We can call (or invoke) a method as follows:  `obj.method_name()`\n",
    "\n",
    "\n",
    "**Practice 5.1.1** As a simple example, Python's built-in int type has a method named bit_length(), so you can determine the number of bits in the binary representation of an int value as follows:\n"
   ]
  },
  {
   "cell_type": "code",
   "execution_count": null,
   "id": "86948228-714f-4e82-a3c0-99e2f793220f",
   "metadata": {},
   "outputs": [],
   "source": [
    "x = 3 ** 100\n",
    "bits = x.bit_length()\n",
    "bits"
   ]
  },
  {
   "cell_type": "code",
   "execution_count": null,
   "id": "ae6b7050-69de-46e4-a441-1cfd9609a17a",
   "metadata": {},
   "outputs": [],
   "source": [
    "my_list"
   ]
  },
  {
   "cell_type": "code",
   "execution_count": null,
   "id": "7d5ba590-b1ff-4f68-ba65-e8621e2df145",
   "metadata": {},
   "outputs": [],
   "source": [
    "my_list.append(1)\n",
    "my_list"
   ]
  },
  {
   "cell_type": "code",
   "execution_count": null,
   "id": "268a6431-e88b-465e-9d2a-819860c2ad06",
   "metadata": {},
   "outputs": [],
   "source": [
    "my_dict.keys()"
   ]
  },
  {
   "cell_type": "markdown",
   "id": "a23aeaee-ace5-437f-9293-36377ea0f824",
   "metadata": {},
   "source": [
    "## 5.2 Attributes\n",
    "\n",
    "Attributes are variables that belong to an object. Attributes are defined within the class from which an object is instantiated. Attributes hold information about the object, and can be accessed by referencing the object and then calling the attribute by name. Note that many attributes for built-in Python classes are \"dundered\", meaning that the name is prefixed and suffixed with a double underscore (e.g. `plus_some.__name__`\n",
    "\n",
    "Attributes are very useful when designing your own Python classes and when working with other libraries such as Numpy and Pandas"
   ]
  },
  {
   "cell_type": "code",
   "execution_count": null,
   "id": "f49a8c3c-d93b-443b-83d6-cf96736cdb12",
   "metadata": {},
   "outputs": [],
   "source": [
    "#recall\n",
    "my_list"
   ]
  },
  {
   "cell_type": "code",
   "execution_count": null,
   "id": "2fdfca14-cd8d-4aba-8e80-c82ca8e72c5e",
   "metadata": {},
   "outputs": [],
   "source": [
    "#example of a list attribute\n",
    "my_list.__len__()"
   ]
  },
  {
   "cell_type": "markdown",
   "id": "b2f5c803-2809-437e-b72d-0cf385281a44",
   "metadata": {},
   "source": [
    "\n",
    "**Attributes and Methods**: You can use the `dir` function to see all the attributes and methods associated with a given object"
   ]
  },
  {
   "cell_type": "code",
   "execution_count": null,
   "id": "6925594c-9d2a-48ea-b6be-9420e4787be5",
   "metadata": {},
   "outputs": [],
   "source": [
    "dir(my_list)"
   ]
  },
  {
   "cell_type": "markdown",
   "id": "155e9621",
   "metadata": {},
   "source": [
    "# 6. Importing Modules\n",
    "\n",
    "Most programming involves work that is very similar to work that has been done before.  Since writing code is time-consuming, it's good to rely on others' published code when you can.  Rather than copy-pasting, Python allows us to **import modules**. A module is a file with Python code that has defined variables and functions. By importing a module, we are able to use its code in our own notebook.\n",
    "\n",
    "Python includes many useful modules that are just an `import` away.  \n"
   ]
  },
  {
   "cell_type": "markdown",
   "id": "e32d3bb2",
   "metadata": {},
   "source": [
    "## 6.1:  NumPy module:\n",
    "\n",
    "𝐍𝐮𝐦𝐏𝐲  (short for \"Numeric Python\") is an open source Python module for scientific computing. NumPy supports large, multidimensional arrays and matrices. It also supports a large collection of mathematical functions not found in Python's standard math library.\n",
    "\n",
    "It's custom in data science to import Numpy  with the alias $\\texttt{np}$.  We can then ***access any mathematical function in the Numpy library by prepending function names by $\\texttt{np}$***\n",
    "\n",
    "For a more in-depth description of methods and attributes built into Numpy see here:  https://numpy.org/doc/stable/user/quickstart.html   \n",
    "and  here:  https://numpy.org/doc/stable/reference/routines.math.html\n",
    "\n",
    "*Hint: If you press `shift+tab` while next to the function call, the documentation for that function will appear.*"
   ]
  },
  {
   "cell_type": "markdown",
   "id": "092e7f93",
   "metadata": {},
   "source": [
    "By using the `as` keyword, you can give imports different variable names.\n",
    "\n",
    "In Sec 3.1 above, the line `import numpy as np` imports the numpy module. \n",
    "\n",
    "This statement creates a module and then assigns the name `np` to that module. We are now able to access any variables or functions defined within `np` by typing the name of the module followed by a dot, then followed by the name of the variable or function we want.\n",
    "\n",
    "    <np>.<name>"
   ]
  },
  {
   "cell_type": "code",
   "execution_count": null,
   "id": "404be9a5",
   "metadata": {},
   "outputs": [],
   "source": [
    "radius = 5\n",
    "area_of_circle = radius**2 * np.pi\n",
    "area_of_circle"
   ]
  },
  {
   "cell_type": "markdown",
   "id": "fe9736ea",
   "metadata": {
    "deletable": false,
    "editable": false
   },
   "source": [
    "[Back to top](#top)\n",
    "\n",
    "<a id='p7'></a>\n",
    "\n",
    "<hr style=\"border: 5px solid #003262;\" />\n",
    "<hr style=\"border: 1px solid #fdb515;\" />\n",
    "\n",
    "\n",
    "## <span style='color:Red'>  Question 7 (2 pts)\n",
    "The module `numpy` also provides the name `e` for the base of the natural logarithm, which is roughly 2.71. \n",
    "\n",
    "Compute $e^{\\pi}-\\pi$, giving it the name `near_twenty`.\n",
    "\n",
    "*Remember: You can access `pi` from the `numpy` module as well!*\n"
   ]
  },
  {
   "cell_type": "code",
   "execution_count": null,
   "id": "c6f15ce6",
   "metadata": {
    "tags": []
   },
   "outputs": [],
   "source": [
    "near_twenty = ...\n",
    "near_twenty"
   ]
  },
  {
   "cell_type": "code",
   "execution_count": null,
   "id": "4b93337b",
   "metadata": {
    "deletable": false,
    "editable": false
   },
   "outputs": [],
   "source": [
    "grader.check(\"q7\")"
   ]
  },
  {
   "cell_type": "markdown",
   "id": "68a8769c",
   "metadata": {},
   "source": [
    "## 6.2  Accessing Functions\n",
    "\n",
    "In the question above, you accessed variables within the `numpy` module. \n",
    "\n",
    "**Modules** also define **functions**.  For example, `numpy` provides the name `floor` for the floor function.  Having imported `numpy as np` already, we can write `np.floor(7.5)` to compute the floor of 7.5.  (Note that the floor function returns the largest integer less than or equal to a given number.)\n"
   ]
  },
  {
   "cell_type": "code",
   "execution_count": null,
   "id": "c8d65852",
   "metadata": {},
   "outputs": [],
   "source": [
    "np.floor(7.5)"
   ]
  },
  {
   "cell_type": "markdown",
   "id": "a64245d7",
   "metadata": {
    "deletable": false,
    "editable": false
   },
   "source": [
    "[Back to top](#top)\n",
    "\n",
    "<a id='p8'></a>\n",
    "\n",
    "<hr style=\"border: 5px solid #003262;\" />\n",
    "<hr style=\"border: 1px solid #fdb515;\" />\n",
    "\n",
    "\n",
    "## <span style='color:Red'> Question 8 (2 pts)\n",
    "\n",
    "Calculate the square root of `pi` using `sqrt` and `pi` from the `numpy` module.  Give the result the name `sqrt_of_pi`."
   ]
  },
  {
   "cell_type": "code",
   "execution_count": null,
   "id": "a8e3bb59",
   "metadata": {
    "tags": []
   },
   "outputs": [],
   "source": [
    "sqrt_of_pi = ...\n",
    "sqrt_of_pi"
   ]
  },
  {
   "cell_type": "code",
   "execution_count": null,
   "id": "7fb28408",
   "metadata": {
    "deletable": false,
    "editable": false
   },
   "outputs": [],
   "source": [
    "grader.check(\"q8\")"
   ]
  },
  {
   "cell_type": "markdown",
   "id": "810fca34-d805-4e50-bdbe-6c8d994b7170",
   "metadata": {},
   "source": [
    "## 6.3 NumPy Arrays"
   ]
  },
  {
   "cell_type": "markdown",
   "id": "d9e745a0-2890-4294-8582-46ca32e9c40f",
   "metadata": {},
   "source": [
    "The core of NumPy is the array. Like Python lists, arrays store data; however, **they store data in a more efficient manner than lists**. In many cases, this allows for faster computation and data manipulation.\n",
    "\n",
    "Use `np.array` to create an array. It takes a sequence, such as a list or range. \n",
    "\n",
    "Below, we create an array `arr` containing the values 1, 2, 3, 4, and 5 (in that order)."
   ]
  },
  {
   "cell_type": "code",
   "execution_count": null,
   "id": "fef6e7b3-7904-405d-b09c-3ae508abfc27",
   "metadata": {},
   "outputs": [],
   "source": [
    "arr = np.array([1,2,3, 4, 5])"
   ]
  },
  {
   "cell_type": "markdown",
   "id": "dd560457-2dc2-4bdc-bb3d-df0b0ea6069a",
   "metadata": {},
   "source": [
    "In addition to values in the array, we can access attributes such as shape and data type. A full list of attributes can be found [here](https://docs.scipy.org/doc/numpy-1.15.0/reference/arrays.ndarray.html#array-attributes)."
   ]
  },
  {
   "cell_type": "code",
   "execution_count": null,
   "id": "a89621e5-159d-4146-b45b-3b5762935fd9",
   "metadata": {
    "ExecuteTime": {
     "end_time": "2019-01-18T23:27:54.069669Z",
     "start_time": "2019-01-18T23:27:54.036105Z"
    }
   },
   "outputs": [],
   "source": [
    "arr[3]"
   ]
  },
  {
   "cell_type": "code",
   "execution_count": null,
   "id": "e9ecf96f-1f10-4ee4-b4e1-551ac4b50dc1",
   "metadata": {
    "ExecuteTime": {
     "end_time": "2019-01-18T23:27:54.099933Z",
     "start_time": "2019-01-18T23:27:54.072605Z"
    }
   },
   "outputs": [],
   "source": [
    "arr[2:4]"
   ]
  },
  {
   "cell_type": "code",
   "execution_count": null,
   "id": "bbb8d5ff-a0a4-4975-a4ca-da127d075891",
   "metadata": {
    "ExecuteTime": {
     "end_time": "2019-01-18T23:27:54.124874Z",
     "start_time": "2019-01-18T23:27:54.101938Z"
    }
   },
   "outputs": [],
   "source": [
    "arr.shape"
   ]
  },
  {
   "cell_type": "code",
   "execution_count": null,
   "id": "87180d8b-bd63-4cbe-9544-c018224355e1",
   "metadata": {
    "ExecuteTime": {
     "end_time": "2019-01-18T23:27:54.148914Z",
     "start_time": "2019-01-18T23:27:54.127372Z"
    },
    "scrolled": true
   },
   "outputs": [],
   "source": [
    "arr.dtype"
   ]
  },
  {
   "cell_type": "markdown",
   "id": "7118217e-cdd0-4c92-a143-730e61a7f918",
   "metadata": {},
   "source": [
    "Arrays, unlike Python lists, cannot store items of different data types."
   ]
  },
  {
   "cell_type": "code",
   "execution_count": null,
   "id": "c1b96ae8-ace0-407c-83a4-a59d9e5b92a4",
   "metadata": {
    "ExecuteTime": {
     "end_time": "2019-01-18T23:27:54.173873Z",
     "start_time": "2019-01-18T23:27:54.150888Z"
    }
   },
   "outputs": [],
   "source": [
    "# A regular Python list can store items of different data types\n",
    "[1, '3']"
   ]
  },
  {
   "cell_type": "code",
   "execution_count": null,
   "id": "09fbd415-8c82-4d2b-80ea-faef17625f01",
   "metadata": {
    "ExecuteTime": {
     "end_time": "2019-01-18T23:27:54.198281Z",
     "start_time": "2019-01-18T23:27:54.176631Z"
    }
   },
   "outputs": [],
   "source": [
    "# Arrays will convert everything to the same data type\n",
    "np.array([1, '3'])"
   ]
  },
  {
   "cell_type": "code",
   "execution_count": null,
   "id": "2d1d3910-8f0c-49ca-ba86-5ef9edbf93a2",
   "metadata": {
    "ExecuteTime": {
     "end_time": "2019-01-18T23:27:54.227988Z",
     "start_time": "2019-01-18T23:27:54.200270Z"
    }
   },
   "outputs": [],
   "source": [
    "# Another example of array type conversion\n",
    "np.array([5, 8.3])"
   ]
  },
  {
   "cell_type": "markdown",
   "id": "0246112a-f8db-4dd9-86e0-5f3fbae4644b",
   "metadata": {},
   "source": [
    "### 6.3.1 Making Arrays of Zeros"
   ]
  },
  {
   "cell_type": "code",
   "execution_count": null,
   "id": "86b874cb-ccc7-4b03-b34b-d77638297058",
   "metadata": {},
   "outputs": [],
   "source": [
    "np.zeros(5)"
   ]
  },
  {
   "cell_type": "markdown",
   "id": "244b4356-eac3-4446-8d37-644636c82a46",
   "metadata": {},
   "source": [
    "### 6.3.2. Making Arrays from ranges:\n",
    "\n",
    "The `np.arange(start, stop, step)` function creates an array that starts at the indicated number.  It is exclusive of the stopping number (i.e. it won't include the stopping number).  And it uses the stepsize indicated."
   ]
  },
  {
   "cell_type": "code",
   "execution_count": null,
   "id": "36e1cb97-fd9b-4e20-bbe3-b668f583b215",
   "metadata": {},
   "outputs": [],
   "source": [
    "np.arange(0, 10, 2)"
   ]
  },
  {
   "cell_type": "markdown",
   "id": "f0296330-be73-4965-8df8-52f599cd3693",
   "metadata": {},
   "source": [
    "## 6.3.3 Interpolating numbers \n",
    "\n",
    "The `linspace(start,end,num)` function generates `num` numbers evenly spaced between the `start` and `end` (again INCLUSIVE of start and EXCLUSIVE of end)"
   ]
  },
  {
   "cell_type": "code",
   "execution_count": null,
   "id": "83c15a1f-66e6-4f4b-b95b-bcdae9da56df",
   "metadata": {},
   "outputs": [],
   "source": [
    "np.linspace(0, 5, 11)"
   ]
  },
  {
   "cell_type": "markdown",
   "id": "32447be0-f0f4-48e0-b94c-79e92110f848",
   "metadata": {},
   "source": [
    "## 6.4 Vectorized Operations in NumPy \n",
    "\n",
    "NumPy arrays can be utilized in mathematical expressions to perform mathematical computations using an array’s entries. In general, NumPy implements mathematical functions such that, when a function acts on an array, the mathematical operation is applied to each entry in the array.\n"
   ]
  },
  {
   "cell_type": "markdown",
   "id": "78365211-6584-490b-a358-a0061651bb51",
   "metadata": {},
   "source": [
    "For example, observe the following:"
   ]
  },
  {
   "cell_type": "code",
   "execution_count": null,
   "id": "7661443d-9ba5-403f-bafb-4e60998958f5",
   "metadata": {
    "ExecuteTime": {
     "end_time": "2019-01-18T23:27:54.299682Z",
     "start_time": "2019-01-18T23:27:54.269136Z"
    }
   },
   "outputs": [],
   "source": [
    "# NumPy array addition will add arrays element-wise\n",
    "np.array([1, 2, 3]) + np.array([4, 5, 6])"
   ]
  },
  {
   "cell_type": "code",
   "execution_count": null,
   "id": "4e4c4724-90aa-4856-b104-020710ffb17c",
   "metadata": {},
   "outputs": [],
   "source": [
    "# Whereas Python list addition will concatenate the two lists\n",
    "[1, 2, 3] + [4, 5, 6]"
   ]
  },
  {
   "cell_type": "code",
   "execution_count": null,
   "id": "b3f05b8e-abed-4694-9c8e-5010f362a8f1",
   "metadata": {},
   "outputs": [],
   "source": [
    "# NumPy:  multiply each number in an array by 3\n",
    "3 * np.array([2, 3, 4])"
   ]
  },
  {
   "cell_type": "code",
   "execution_count": null,
   "id": "a26f1216-e830-4ce6-b979-60f02be07b5e",
   "metadata": {},
   "outputs": [],
   "source": [
    "# if we try muliply a list by 3, it will instead copy the list 3 times\n",
    "3*[2,3,4]"
   ]
  },
  {
   "cell_type": "code",
   "execution_count": null,
   "id": "360dfe9f-5880-44b9-893b-c8ccd64fd6e0",
   "metadata": {},
   "outputs": [],
   "source": [
    "# divide each number in a Numpy: array by 50\n",
    "np.array([25, 40, 50])/50"
   ]
  },
  {
   "cell_type": "code",
   "execution_count": null,
   "id": "15da9be3-54d3-40c0-8ffb-a030b4840f2e",
   "metadata": {},
   "outputs": [],
   "source": [
    "# But you get an error if you try to do this with a list\n",
    "[25,40,50]/50"
   ]
  },
  {
   "cell_type": "code",
   "execution_count": null,
   "id": "87e5c9dd-1c08-43a4-ac41-e7d8e38bf36a",
   "metadata": {},
   "outputs": [],
   "source": [
    "# Here's how you can take the square root of each element of an array WITHOUT using a for-loop:\n",
    "\n",
    "arr = np.array([1, 4, 9, 16, 25])\n",
    "\n",
    "np.sqrt(arr)"
   ]
  },
  {
   "cell_type": "code",
   "execution_count": null,
   "id": "de2e9d44-d0a7-4ec9-9f1a-61373cbb813c",
   "metadata": {},
   "outputs": [],
   "source": [
    "# If you divide (or multiply) two numpy arrays, it will do the operation element-wise:\n",
    "a = np.array([2, 10, 100])\n",
    "b = np.array([2, 5, 25])\n",
    "\n",
    "print(\"a divided by b=\",a/b)\n",
    "print(\"a times b = \", a*b)\n"
   ]
  },
  {
   "cell_type": "markdown",
   "id": "60ee0b63-f3fa-4238-ae7c-850e0c1e623b",
   "metadata": {},
   "source": [
    "\n",
    "### Vectorized Operations:\n",
    "NumPy’s arrays are homogeneous: an array can only contain data of a single type. For instance, an array can contain 8-bit integers or 32-bit floating point numbers, but not a mix of the two. This is in stark contrast to Python’s lists and tuples, which are entirely unrestricted in the variety of contents they can possess; a given list could simultaneously contain strings, integers, and other objects. \n",
    "\n",
    "This restriction on an array’s contents comes at a great benefit; in “knowing” that an array’s contents are homogeneous in data type, NumPy is able to delegate the task of performing mathematical operations on the array’s contents to optimized, compiled C code. This is a process that is referred to as **vectorization**. \n",
    "\n",
    "The outcome of this can be a tremendous speedup relative to the analogous computation performed in Python, which must painstakingly check the data type of every one of the items as it iterates over the arrays, since Python typically works with lists with unrestricted contents.\n",
    "\n",
    "**Definition**:  In the context of a high-level languages like Python, the **term vectorization** describes the use of optimized, pre-compiled code written in a low-level language (e.g. C) to **perform mathematical operations over a sequence of data. This is done in place of an explicit iteration written in the native language code (e.g. a “for-loop” written in Python).**\n",
    "\n",
    "\n",
    "Consider, for instance, the task of summing the integers 0-9,999 stored in an array. Calling NumPy’s `sum` function cues optimized C code to iterate over the integers in the array and tally the sum. `np.sum` is therefore a “vectorized” function. \n",
    "\n",
    "\n",
    "Let’s compare how long it takes to compute this sum using a loop via vectorization using a [Jupyter magic command](https://ipython.readthedocs.io/en/stable/interactive/magics.html) called `%%time`, which times the execution of that cell. \n",
    "\n",
    "You can use this by writing it as the first line of a cell. (Note that `%%` is used for *cell magic commands* that apply to the entire cell, whereas `%` is used for *line magic commands* that only apply to a single line.)\n"
   ]
  },
  {
   "cell_type": "code",
   "execution_count": null,
   "id": "d5eb73ec-5825-4423-9e24-a7a1acc0c0f5",
   "metadata": {},
   "outputs": [],
   "source": [
    "%%time\n",
    "\n",
    "# sum an array, using NumPy's vectorized 'sum' function\n",
    "np.sum(np.arange(10000))  \n",
    "49995000"
   ]
  },
  {
   "cell_type": "markdown",
   "id": "9a06c33b-3399-4729-8ed3-f41c208e463e",
   "metadata": {},
   "source": [
    "Now let’s compare this to the time required to explicitly loop over the array in Python and tally up the sum. Python is unable to take advantage of the fact that the array’s contents are all of a single data type - it has to check, for every iteration, if it is dealing with an integer, a string, a floating point number, etc, just as it does when iterating over a list. This will slow down the computation massively."
   ]
  },
  {
   "cell_type": "code",
   "execution_count": null,
   "id": "0c18a4ae-9620-4638-b93a-dbd56cc062e3",
   "metadata": {},
   "outputs": [],
   "source": [
    "%%time\n",
    "\n",
    "total = 0\n",
    "for i in np.arange(10000):\n",
    "    total = i + total\n",
    "\n",
    "    total\n",
    "49995000"
   ]
  },
  {
   "cell_type": "markdown",
   "id": "99bbb27a-3b42-4a8e-b1d4-4b30eacfa924",
   "metadata": {},
   "source": [
    "The sum is significantly faster when performed in using NumPy’s vectorized function! This should make it clear that, whenever computational efficiency is important, one should avoid performing explicit for-loops over long sequences of data in Python, be them lists or NumPy arrays. NumPy provides a whole suite of vectorized functions. In fact, the name of the game when it comes to leveraging NumPy to do computations over arrays of numbers is to exclusively leverage its vectorized functions. \n",
    "\n",
    "\n",
    "For more details on vectorization using NumPy see this reading:\n",
    " https://www.pythonlikeyoumeanit.com/Module3_IntroducingNumpy/VectorizedOperations.html)"
   ]
  },
  {
   "cell_type": "markdown",
   "id": "d756ba9a-2571-4fd1-8894-267be5ed7397",
   "metadata": {
    "deletable": false,
    "editable": false
   },
   "source": [
    "<!-- BEGIN QUESTION -->\n",
    "\n",
    "[Back to top](#top)\n",
    "\n",
    "<a id='p9'></a>\n",
    "\n",
    "<hr style=\"border: 5px solid #003262;\" />\n",
    "<hr style=\"border: 1px solid #fdb515;\" />\n",
    "\n",
    "\n",
    "## <span style='color:Red'>  Question 9 (3 pts)\n",
    "\n",
    "Write a function `summation(n)` that uses vectorization in Numpy to evaluate the following summation for $n \\geq 1$:\n",
    "\n",
    "$$\\sum_{i=1}^{n} \\left( i^3 + 3 i^2 \\right)$$\n",
    "\n",
    "**Note**: You should **NOT** use ANY `for` loops in your solution. You may find `np.arange` helpful for this question!"
   ]
  },
  {
   "cell_type": "code",
   "execution_count": null,
   "id": "09125f3c-b776-49fa-a2df-72c2764adf93",
   "metadata": {
    "tags": []
   },
   "outputs": [],
   "source": [
    "def summation(n):\n",
    "    \"\"\"Compute the summation i^3 + 3 * i^2 for 1 <= i <= n.\"\"\"\n",
    "    ...\n",
    "    \n",
    "#Do not change the following cells:\n",
    "print(\"summation(5) =  \", summation(5))\n",
    "print(\"summation(200) = \", summation(200))\n",
    "    "
   ]
  },
  {
   "cell_type": "code",
   "execution_count": null,
   "id": "43012edc",
   "metadata": {
    "deletable": false,
    "editable": false
   },
   "outputs": [],
   "source": [
    "grader.check(\"q9\")"
   ]
  },
  {
   "cell_type": "markdown",
   "id": "c3069036",
   "metadata": {
    "deletable": false,
    "editable": false
   },
   "source": [
    "<!-- END QUESTION -->\n",
    "\n",
    "## 6.5 Methods vs Functions in NumPy\n",
    "\n",
    "Many things are implemented in NumPy as both functions and methods:\n",
    "\n",
    "Examples are `mean`, `min`, `max`, `sum`, `reshape`\n",
    "\n",
    "For example, there is a `np.sum` function, that adds up all the elements:"
   ]
  },
  {
   "cell_type": "code",
   "execution_count": null,
   "id": "667578a5",
   "metadata": {},
   "outputs": [],
   "source": [
    "arr = np.array([1, 2, 0, 1])\n",
    "np.sum(arr)\n",
    "4"
   ]
  },
  {
   "cell_type": "markdown",
   "id": "bfa234ff",
   "metadata": {},
   "source": [
    "There is also a `sum()` method of the numpy array object:"
   ]
  },
  {
   "cell_type": "code",
   "execution_count": null,
   "id": "980047ed",
   "metadata": {},
   "outputs": [],
   "source": [
    "type(arr)"
   ]
  },
  {
   "cell_type": "code",
   "execution_count": null,
   "id": "f6f95ebd",
   "metadata": {},
   "outputs": [],
   "source": [
    "arr.sum()"
   ]
  },
  {
   "cell_type": "markdown",
   "id": "1a4590f0",
   "metadata": {},
   "source": [
    "In these cases choosing the method or the function will usually depend on which one is easier to read."
   ]
  },
  {
   "cell_type": "markdown",
   "id": "8aafcaa1",
   "metadata": {},
   "source": [
    "# 7. Math Prerequisite Review"
   ]
  },
  {
   "cell_type": "markdown",
   "id": "740a3d12-3858-4895-82c2-a03224d5c56e",
   "metadata": {},
   "source": [
    "### 7.1 How to Answer Math Questions in this Class\n",
    "\n",
    "$\\text{Below is an example question to demonstrate the type of work and justification}$\n",
    "$\\text{that is required for full points when answering math questions using LaTex}$.\n",
    "## $\\color{blue}{\\text{EXAMPLE QUESTION:}}$\n",
    "\n",
    "Write a full solution to the following question using LaTex (i.e. do NOT use code to calculate the answer).\n",
    "\n",
    "What values of $x$ solve the equation: $\\phantom{xx}x^2-5x=-6$?\n",
    "\n",
    "### $\\color{blue}{\\text{This correct answer would be worth zero points}}:$\n",
    "\n",
    "$x=2$ and $x=3$\n",
    "\n",
    "### $\\color{blue}{\\text{This answer would be worth full points}}:$\n",
    "\n",
    "\n",
    "Solution to Example Question:\n",
    "\n",
    "$x^2-5x=-6$ \n",
    "\n",
    "$\\implies x^2-5x+6=0$\n",
    "\n",
    "$\\implies (x-2)(x-3)=0$\n",
    "\n",
    "$\\implies \\boxed{x=2}$ or $\\boxed{x=3}$."
   ]
  },
  {
   "cell_type": "markdown",
   "id": "93681ff5-0e2d-4577-8ba5-47d9b7a1e1ec",
   "metadata": {},
   "source": [
    "### 7.2 LaTeX \n",
    "You should use LaTeX to format math in your answers. If you aren't familiar with LaTeX, not to worry ([ here are some tips.](https://ds100.org/sp22/resources/assets/hw/latex_tips.pdf)\n",
    ") \n",
    "\n",
    "It's not hard to use in a Jupyter notebook. Just place your math in between dollar signs **WITHOUT ANY SPACES before or after the dollar signs**:\n",
    "\n",
    "<img src=\"img/Latex.png\" width=\"800\"> \n",
    "\n",
    "Here is some handy LaTex:\n",
    "\n",
    "| Output | Latex   |\n",
    "|:--|:--|\n",
    "| $$x^{a + b}$$  | `x^{a + b}` |\n",
    "| $$x_{a + b}$$ | `x_{a + b}` |\n",
    "| $$\\frac{a}{b}$$ | `\\frac{a}{b}` |\n",
    "| $$\\sqrt{a + b}$$ | `\\sqrt{a + b}` |\n",
    "| $$\\{ \\alpha, \\beta, \\gamma, \\pi, \\mu, \\sigma^2  \\}$$ | `\\{ \\alpha, \\beta, \\gamma, \\pi, \\mu, \\sigma^2  \\}` |\n",
    "| $$\\int_{x=2}^{\\infty} \\frac{1}{x} \\,dx $$ | `\\int_{x=2}^{\\infty} \\frac{1}{x} \\,dx` |\n",
    "| $$\\sum_{x=1}^{100} x$$ | `\\sum_{x=1}^{100} x` |\n",
    "| $$\\frac{d}{d x} $$ | `\\frac{d}{dx} ` |\n",
    "| $$ \\frac{x^3}{3} \\biggr|_{a}^{b} $$ | Double click on this cell to see the LaTeX|\n",
    "| $$ P(A \\cup B) $$ | P(A \\cup B)|\n",
    "| $$ P(A \\cap B) $$ | P(A \\cap B)|\n",
    "| Formatting aligned equations:        \\begin{align}\n",
    "y &= \\int_0^4 xe^{xt} \\,dt \\\\\n",
    "x &= \\ln(u) \\\\\n",
    "\\end{align}  |  You can align multiple lines using the & anchor, \\\\ newline, in an align block [as shown in this link](https://www.overleaf.com/learn/latex/Aligning_equations_with_amsmath#Aligning_several_equations) Note if you use align DO NOT also add $ notation.\n",
    "\n",
    "\n",
    "Here is an excellent [LaTeX cheat sheet](https://pbil.univ-lyon1.fr/members/mbailly/Comm_Scientifique/docs/latexsheet.pdf) you can reference. \n"
   ]
  },
  {
   "cell_type": "markdown",
   "id": "ffbc4db0",
   "metadata": {},
   "source": [
    "[Back to top](#top)\n",
    "\n",
    "<a id='p10'></a>\n",
    "\n",
    "\n",
    "## Prerequisite Review: Calculus \n",
    "\n",
    "Functions and their integrals and derivatives will be used in this class when we discuss probability distributions.  \n",
    "\n",
    "\n",
    "See the [Prerequisite Review Resources posted on the  Modules in Canvas](https://canvas.colorado.edu/courses/117881/pages/prerequisite-review-calculus-and-discrete-structures?module_item_id=6055980) if you need to review any of these key concepts.\n",
    "\n",
    "\n",
    "<hr style=\"border: 5px solid #003262;\" />\n",
    "<hr style=\"border: 1px solid #fdb515;\" />\n",
    "\n",
    "\n"
   ]
  },
  {
   "cell_type": "markdown",
   "id": "1e9db590-cb2f-448b-b439-b33b381457bc",
   "metadata": {
    "deletable": false,
    "editable": false
   },
   "source": [
    "<!-- BEGIN QUESTION -->\n",
    "\n",
    "## <span style='color:Red'> Question 10 (3 pts):\n",
    "\n",
    "Areas under curves will be used in this class when we calculate some probabilities.\n",
    "\n",
    "Consider the function $f(x)$ shown below:  \n",
    "\n",
    "<img src=\"img/PDF.png\" width=\"500\"> \n",
    "\n",
    "Calculate $\\int_{3.25}^6 f(x) \\, dx$.  You can use geometry and/or calculus.  Show all steps/explain your reasoning.\n",
    "\n",
    "\n",
    "   "
   ]
  },
  {
   "cell_type": "markdown",
   "id": "3bba301a-cd9f-4f2e-9229-20b7ea6b7c9e",
   "metadata": {
    "deletable": false,
    "editable": false
   },
   "source": [
    "#### Question 10 Solution) "
   ]
  },
  {
   "cell_type": "markdown",
   "id": "77449b1a-10c4-4a84-a257-57544b71303d",
   "metadata": {},
   "source": [
    "**Type your work answering to Question 10** in this cell (use LaTeX for any math equations).  Show all of your steps and fully justify your answer.  Do not add any additional cells to this part.  "
   ]
  },
  {
   "cell_type": "markdown",
   "id": "2e572e6c-65ae-4167-870d-7691fe72492d",
   "metadata": {
    "deletable": false,
    "editable": false
   },
   "source": [
    "<!-- END QUESTION -->\n",
    "\n",
    "**Q10 Final Answer Check)**.  To check your final answer to 10, enter the final answer you came up with **as a fraction** in the cell below. Note that this is just a built-in public test so you can check your work and determine if you are on the right track.  To receive credit on this problem you must show all steps in part 10 above using LaTeX and fully justifying your answer using correct mathematical notation.  "
   ]
  },
  {
   "cell_type": "code",
   "execution_count": null,
   "id": "b0ed7eab-bad7-4f69-a70d-0bcd3efc78ae",
   "metadata": {
    "tags": []
   },
   "outputs": [],
   "source": [
    "q10_answer = ..."
   ]
  },
  {
   "cell_type": "code",
   "execution_count": null,
   "id": "3ea4fcfb",
   "metadata": {
    "deletable": false,
    "editable": false
   },
   "outputs": [],
   "source": [
    "grader.check(\"q10check\")"
   ]
  },
  {
   "cell_type": "markdown",
   "id": "07eb5466-a91d-4a60-9fcd-dc6c4d91b594",
   "metadata": {},
   "source": [
    "## Prerequisite Review: Counting and Conditional Probability"
   ]
  },
  {
   "cell_type": "markdown",
   "id": "f86f76e8-5509-46a7-9563-b95748fcc5dc",
   "metadata": {},
   "source": [
    "In Discrete Structures, you were introduced to counting and probability.   We will be building on these concepts in CSCI 3022.\n",
    "\n",
    "If you need a refresher, see the [Prerequisite Review Resources posted on the  Modules in Canvas](https://canvas.colorado.edu/courses/117881/pages/prerequisite-review-calculus-and-discrete-structures?module_item_id=6055980) to review this concept. \n",
    "\n",
    "\n",
    "\n",
    "Code tip:  If you want to use a factorial function, do NOT use math.factorial (it is deprecated and will fail in Gradescope).  Instead use scipy's factorial function and the following syntax: \n",
    "\n",
    "`import scipy.special`\n",
    "\n",
    "`scipy.special.factorial(number)`\n",
    "\n",
    "\n",
    "[Back to top](#top)\n",
    "\n",
    "<a id='p11'></a>\n",
    "\n",
    "<hr style=\"border: 5px solid #003262;\" />\n",
    "<hr style=\"border: 1px solid #fdb515;\" />\n",
    "\n",
    "\n",
    "\n",
    " "
   ]
  },
  {
   "cell_type": "markdown",
   "id": "1493f792-4efe-49db-9e89-dd92dbd1dfa4",
   "metadata": {
    "deletable": false,
    "editable": false
   },
   "source": [
    "# <hr style=\"border: 5px solid #003262;\" />\n",
    "<hr style=\"border: 1px solid #fdb515;\" />\n",
    "\n",
    "## <span style='color:Red'>   Question 11a (2 pts) ### \n",
    "\n",
    "\n",
    "A coin is flipped 10 times.  How many possible outcomes have exactly 3 heads?  \n",
    "\n",
    "Use code to enter your answer in the cell below.  \n"
   ]
  },
  {
   "cell_type": "code",
   "execution_count": null,
   "id": "4052e125-1139-4c95-b558-f4d599c7f3fe",
   "metadata": {
    "tags": []
   },
   "outputs": [],
   "source": [
    "q11a_answer = ...\n",
    "q11a_answer"
   ]
  },
  {
   "cell_type": "code",
   "execution_count": null,
   "id": "b3c7ba59",
   "metadata": {
    "deletable": false,
    "editable": false
   },
   "outputs": [],
   "source": [
    "grader.check(\"q11a\")"
   ]
  },
  {
   "cell_type": "markdown",
   "id": "4db039d7-c21e-4e6b-989a-1c620f9557df",
   "metadata": {
    "deletable": false,
    "editable": false
   },
   "source": [
    "<!-- BEGIN QUESTION -->\n",
    "\n",
    "<hr style=\"border: 5px solid #003262;\" />\n",
    "<hr style=\"border: 1px solid #fdb515;\" />\n",
    "\n",
    "\n",
    "## <span style='color:Red'>   Question 11b (3 pts) ###\n",
    "\n",
    "What is the probability that if I roll two 6-sided dice they add up to **at most** $9$? Use LaTeX (not code) in the cell directly below to show all of your steps and fully justify your answer.\n"
   ]
  },
  {
   "cell_type": "markdown",
   "id": "2280c01b",
   "metadata": {},
   "source": [
    "_Type your answer here, replacing this text._"
   ]
  },
  {
   "cell_type": "markdown",
   "id": "1a4b5838-1b24-41ca-a053-074501c731e1",
   "metadata": {
    "deletable": false,
    "editable": false
   },
   "source": [
    "<!-- END QUESTION -->\n",
    "\n",
    "**11b Answer Check).**  To check your final answer to 11b, enter the answer you came up with (just the number) in the cell below. Note that this is just a built-in public test so you can check your work and determine if you are on the right track.  To receive credit on this problem you must show all steps in part 11b above using LaTeX and fully justifying your answer using correct mathematical notation.  "
   ]
  },
  {
   "cell_type": "code",
   "execution_count": null,
   "id": "5afd0b56-16a6-486d-b08e-fd7ff685ab74",
   "metadata": {
    "tags": []
   },
   "outputs": [],
   "source": [
    "q11b_answer = ..."
   ]
  },
  {
   "cell_type": "code",
   "execution_count": null,
   "id": "d27cc9f8",
   "metadata": {
    "deletable": false,
    "editable": false
   },
   "outputs": [],
   "source": [
    "grader.check(\"q11bcheck\")"
   ]
  },
  {
   "cell_type": "markdown",
   "id": "f4c93f8f-a736-4f7a-8a52-f457762cfa9d",
   "metadata": {
    "deletable": false,
    "editable": false
   },
   "source": [
    "<!-- BEGIN QUESTION -->\n",
    "\n",
    "<hr style=\"border: 5px solid #003262;\" />\n",
    "<hr style=\"border: 1px solid #fdb515;\" />\n",
    "\n",
    "\n",
    "## <span style='color:Red'>   Question 11c (3 pts) ###\n",
    "\n",
    "Suppose you uncharacteristically show up to a quiz completely unprepared.  The quiz has 10 questions, each with 5 multiple choice options. You decide to guess each answer in a completely random way.  What is the probability that you get exactly 3 questions correct?  Use Markdown and LaTeX (not code) in the cell directly below to show all of your steps and fully justify your answer. \n"
   ]
  },
  {
   "cell_type": "markdown",
   "id": "4154a87c",
   "metadata": {},
   "source": [
    "_Type your answer here, replacing this text._"
   ]
  },
  {
   "cell_type": "markdown",
   "id": "4c0e9dc3-26ff-4425-9894-416cbc2d1407",
   "metadata": {
    "deletable": false,
    "editable": false
   },
   "source": [
    "<!-- END QUESTION -->\n",
    "\n",
    "11c Final Answer Check).  To check your final answer to 11c, enter the final answer you came up with in the cell below. Do not round your answer. Note that this is just a built-in public test so you can check your work and determine if you are on the right track.  To receive credit on this problem you must show all steps in part 11c above using LaTeX and fully justifying your answer using correct mathematical notation.  "
   ]
  },
  {
   "cell_type": "code",
   "execution_count": null,
   "id": "bad62caf-976e-4e0a-b9be-470dacc63931",
   "metadata": {
    "tags": []
   },
   "outputs": [],
   "source": [
    "q11c_answer = ..."
   ]
  },
  {
   "cell_type": "code",
   "execution_count": null,
   "id": "45e52c1c",
   "metadata": {
    "deletable": false,
    "editable": false
   },
   "outputs": [],
   "source": [
    "grader.check(\"q11ccheck\")"
   ]
  },
  {
   "cell_type": "markdown",
   "id": "51f6f8a2-0f97-48f0-9805-c0eb7448aa68",
   "metadata": {
    "deletable": false,
    "editable": false
   },
   "source": [
    "<!-- BEGIN QUESTION -->\n",
    "\n",
    "## <span style='color:Red'>  Question 11d (3 pts):"
   ]
  },
  {
   "cell_type": "markdown",
   "id": "29354421-8091-40f5-97bd-553c261622a3",
   "metadata": {
    "deletable": false,
    "editable": false
   },
   "source": [
    "A 9-bit string is sent over a network.  The receiver only accepts strings that either start with $01$ and/or end with $100$.  How many unique 9-bit strings will the receiver accept?  Explain/justify using math."
   ]
  },
  {
   "cell_type": "markdown",
   "id": "815fb488-23cc-459c-a5b7-623b37053171",
   "metadata": {},
   "source": [
    "**Enter your answer for part 11d)** in this cell (double click on this cell and write all steps using Markdown and LaTex):"
   ]
  },
  {
   "cell_type": "markdown",
   "id": "c52c5a3c-a701-434c-bb20-b0d32a67d7da",
   "metadata": {
    "deletable": false,
    "editable": false
   },
   "source": [
    "<!-- END QUESTION -->\n",
    "\n",
    "**Q11d Final Answer Check).**  To check your final answer to Q11d, enter the final answer you came up with in the cell below. Note that this is just a built-in public test so you can check your work and determine if you are on the right track.  To receive credit on this problem you must show all steps above using LaTeX and fully justifying your answer using correct mathematical notation.  "
   ]
  },
  {
   "cell_type": "code",
   "execution_count": null,
   "id": "e60c132f",
   "metadata": {
    "tags": []
   },
   "outputs": [],
   "source": [
    "q11d_answer = ...\n"
   ]
  },
  {
   "cell_type": "code",
   "execution_count": null,
   "id": "c07deae4",
   "metadata": {
    "deletable": false,
    "editable": false
   },
   "outputs": [],
   "source": [
    "grader.check(\"q11dcheck\")"
   ]
  },
  {
   "cell_type": "markdown",
   "id": "4d31a119-3ea8-472f-a7b2-c6cb05b64d3d",
   "metadata": {},
   "source": [
    "[Back to top](#top)"
   ]
  },
  {
   "cell_type": "markdown",
   "id": "0d14d6a2-ede5-4dbe-afe2-14be2e3766fc",
   "metadata": {
    "deletable": false,
    "editable": false
   },
   "source": [
    "\n",
    "<a id='p12'></a>\n",
    "\n",
    "<hr style=\"border: 5px solid #003262;\" />\n",
    "<hr style=\"border: 1px solid #fdb515;\" />\n",
    "\n",
    "\n",
    "## <span style='color:Red'>  Question 12 (3 pts):  Welcome Survey\n",
    "\n",
    "\n",
    "If you haven't already, please fill out the [CSCI 3022 Welcome Survey at this link:](https://forms.gle/XX7kWmbt7Cpm5WcEA)\n",
    "\n",
    "\n",
    "At the end of the survey, there will be a 5-digit integer code displayed. Assign `q12_survey` to that integer below (i.e. replace the ellipses (`...`) with your 5-digit code). \n",
    "**After you have typed your answer in the cell run the cell (hold down shift + return)**.  \n",
    "\n",
    "\n",
    "Running the `grader.check` cell directly after it will test whether you have assigned `q12_survey` to the correct integer code. \n"
   ]
  },
  {
   "cell_type": "code",
   "execution_count": null,
   "id": "d3d806eb-3037-496a-9e1c-ae8fbf2e5224",
   "metadata": {
    "tags": []
   },
   "outputs": [],
   "source": [
    "q12_survey = ..."
   ]
  },
  {
   "cell_type": "code",
   "execution_count": null,
   "id": "125e9423",
   "metadata": {
    "deletable": false,
    "editable": false
   },
   "outputs": [],
   "source": [
    "grader.check(\"q12\")"
   ]
  },
  {
   "cell_type": "markdown",
   "id": "fee3eeda-8453-4a34-a599-46e75dc4ebf6",
   "metadata": {},
   "source": [
    "[Back to top](#top)\n",
    "\n",
    "<a id='p13'></a>\n",
    "\n",
    "<hr style=\"border: 5px solid #003262;\" />\n",
    "<hr style=\"border: 1px solid #fdb515;\" />\n",
    "\n",
    "\n",
    "## <span style='color:Red'>  Question 13 (2 pts):  Submit your Class Profile to Piazza\n",
    "\n",
    "Click [on this link to access the assignment in Canvas](https://canvas.colorado.edu/courses/117881/assignments/2238074) where you will submit your Class Profile.\n",
    "    \n",
    "    "
   ]
  },
  {
   "cell_type": "markdown",
   "id": "487d009f",
   "metadata": {},
   "source": [
    "\n",
    "<hr style=\"border: 5px solid #003262;\" />\n",
    "<hr style=\"border: 1px solid #fdb515;\" />\n",
    "\n",
    "## Congratulations! You have finished Homework 1!"
   ]
  },
  {
   "cell_type": "markdown",
   "id": "4a3ea147",
   "metadata": {},
   "source": [
    "If you discussed this assignment with any other students in the class (in a manner that is acceptable as described by the Collaboration policy above) please **include their names** here:\n",
    "\n",
    "**Collaborators**: *list collaborators here*"
   ]
  },
  {
   "cell_type": "markdown",
   "id": "43b5c907-e11b-4d99-a368-2335a0042d7c",
   "metadata": {},
   "source": [
    "If while completing this assignment you reference any websites other than those linked in this assignment or provided on Canvas please list those references here:\n",
    "\n",
    "**External references**:  *list any websites you referenced*"
   ]
  },
  {
   "cell_type": "markdown",
   "id": "bf326b32-ac50-48ed-a2fa-abe9cf6cfbb2",
   "metadata": {},
   "source": [
    "### Submission Instructions\n",
    "\n",
    "Before proceeding any further, **save this notebook.**\n",
    "\n",
    "Then run the cell below to double check that you don't have any spaces between dollar signs and text when writing LaTeX:"
   ]
  },
  {
   "cell_type": "code",
   "execution_count": 3,
   "id": "96a33619-f12e-4fc4-bec8-80960db1ea8e",
   "metadata": {},
   "outputs": [
    {
     "ename": "FileNotFoundError",
     "evalue": "[Errno 2] No such file or directory: 'hw01.ipynb'",
     "output_type": "error",
     "traceback": [
      "\u001b[0;31m---------------------------------------------------------------------------\u001b[0m",
      "\u001b[0;31mFileNotFoundError\u001b[0m                         Traceback (most recent call last)",
      "Cell \u001b[0;32mIn[3], line 7\u001b[0m\n\u001b[1;32m      4\u001b[0m \u001b[38;5;28;01mimport\u001b[39;00m \u001b[38;5;21;01msimple_latex_checker\u001b[39;00m \u001b[38;5;28;01mas\u001b[39;00m \u001b[38;5;21;01mslc\u001b[39;00m\n\u001b[1;32m      6\u001b[0m nb \u001b[38;5;241m=\u001b[39m slc\u001b[38;5;241m.\u001b[39mNb_checker()\n\u001b[0;32m----> 7\u001b[0m \u001b[43mnb\u001b[49m\u001b[38;5;241;43m.\u001b[39;49m\u001b[43mrun_check\u001b[49m\u001b[43m(\u001b[49m\u001b[38;5;124;43m\"\u001b[39;49m\u001b[38;5;124;43mhw01.ipynb\u001b[39;49m\u001b[38;5;124;43m\"\u001b[39;49m\u001b[43m)\u001b[49m\n",
      "File \u001b[0;32m/opt/conda/lib/python3.10/site-packages/simple_latex_checker/latex_check.py:17\u001b[0m, in \u001b[0;36mNb_checker.run_check\u001b[0;34m(self, notebook_path, correct_cells)\u001b[0m\n\u001b[1;32m     10\u001b[0m \u001b[38;5;250m\u001b[39m\u001b[38;5;124;03m\"\"\"Checks that there are no erroneous spaces in the latex math mode and that the number of cells is what \u001b[39;00m\n\u001b[1;32m     11\u001b[0m \u001b[38;5;124;03mthe autograder expects\u001b[39;00m\n\u001b[1;32m     12\u001b[0m \n\u001b[1;32m     13\u001b[0m \u001b[38;5;124;03mArgs:\u001b[39;00m\n\u001b[1;32m     14\u001b[0m \u001b[38;5;124;03m    notebook_path (string): path to the notebook. Should just be <My Notebook Name>.ipynb\u001b[39;00m\n\u001b[1;32m     15\u001b[0m \u001b[38;5;124;03m\"\"\"\u001b[39;00m\n\u001b[1;32m     16\u001b[0m \u001b[38;5;66;03m# Load current notebook\u001b[39;00m\n\u001b[0;32m---> 17\u001b[0m \u001b[38;5;28;01mwith\u001b[39;00m \u001b[38;5;28;43mopen\u001b[39;49m\u001b[43m(\u001b[49m\u001b[43mnotebook_path\u001b[49m\u001b[43m,\u001b[49m\u001b[43m \u001b[49m\u001b[38;5;124;43m'\u001b[39;49m\u001b[38;5;124;43mr\u001b[39;49m\u001b[38;5;124;43m'\u001b[39;49m\u001b[43m,\u001b[49m\u001b[43m \u001b[49m\u001b[43mencoding\u001b[49m\u001b[38;5;241;43m=\u001b[39;49m\u001b[38;5;124;43m'\u001b[39;49m\u001b[38;5;124;43mutf-8\u001b[39;49m\u001b[38;5;124;43m'\u001b[39;49m\u001b[43m)\u001b[49m \u001b[38;5;28;01mas\u001b[39;00m f:\n\u001b[1;32m     18\u001b[0m     notebook \u001b[38;5;241m=\u001b[39m nbformat\u001b[38;5;241m.\u001b[39mread(f, as_version\u001b[38;5;241m=\u001b[39m\u001b[38;5;241m4\u001b[39m)\n\u001b[1;32m     20\u001b[0m \u001b[38;5;66;03m# Access raw content from Markdown cells\u001b[39;00m\n",
      "\u001b[0;31mFileNotFoundError\u001b[0m: [Errno 2] No such file or directory: 'hw01.ipynb'"
     ]
    }
   ],
   "source": [
    "# Run this cell before you run the 'grader.export()' cell below.  \n",
    "# It will search for LaTeX errors that will cause the LaTeX compiler to fail.  \n",
    "\n",
    "import simple_latex_checker as slc\n",
    "\n",
    "nb = slc.Nb_checker()\n",
    "nb.run_check(\"hw01.ipynb\")"
   ]
  },
  {
   "cell_type": "markdown",
   "id": "d65478fe",
   "metadata": {},
   "source": [
    "\n",
    "\n",
    "After running the `grader.export()` cell provided below, **2 files will be created**: a zip file and pdf file.  You can download them using the links provided below OR by finding them in the same folder where this juptyer notebook resides in your JuptyerHub.\n",
    "\n",
    "To receive credit on this assignment, **you must submit BOTH of these files\n",
    "to their respective Gradescope portals:** \n",
    "\n",
    "\n",
    "* **Homework 1 Autograded**: Submit the zip file that is output by the `grader.export()` cell below to the HW1 Autograded assignment in Gradescope.\n",
    "\n",
    "* **Homework 1 Manually Graded**: Submit your hw01.PDF to the HW1 Manually Graded assignment in Gradescope.  **It is your responsibility to fully review your PDF file before submitting and make sure that all your lines of code are visible and any LaTeX has correctly compiled and is fully viewable.**  **YOU MUST SELECT THE PAGES CORRESPONDING TO EACH QUESTION WHEN YOU UPLOAD TO GRADESCOPE.** If not, you will lose points.    \n",
    "\n",
    "[TROUBLESHOOTING TIPS](https://docs.google.com/document/d/1ndr3Wj1PSF5qzlLMaBJznwh6QGeEXjd5TAJ6nf9EJvo/edit?usp=sharing)  If you are having any issues compiling your assignment, please read through these troubleshooting tips first, then post any questions on Piazza.  \n",
    "\n",
    "**You are responsible for ensuring your submission follows our requirements. We will not be granting regrade requests nor extensions to submissions that don't follow instructions.** If you encounter any difficulties with submission, please don't hesitate to reach out to staff prior to the deadline."
   ]
  },
  {
   "cell_type": "markdown",
   "id": "f5c5f59a",
   "metadata": {
    "deletable": false,
    "editable": false
   },
   "source": [
    "## Submission\n",
    "\n",
    "Make sure you have run all cells in your notebook in order before running the cell below, so that all images/graphs appear in the output. The cell below will generate a zip file for you to submit. **Please save before exporting!**\n",
    "\n",
    "AFTER running the cell below, click on <a href='hw01.pdf' download>this link to download the PDF </a> to upload to Gradescope.  There will be a separate link that appears after running the cell below with a link to download the zip file to upload to Gradescope."
   ]
  },
  {
   "cell_type": "code",
   "execution_count": 4,
   "id": "98699b29",
   "metadata": {
    "deletable": false,
    "editable": false
   },
   "outputs": [
    {
     "ename": "NameError",
     "evalue": "name 'grader' is not defined",
     "output_type": "error",
     "traceback": [
      "\u001b[0;31m---------------------------------------------------------------------------\u001b[0m",
      "\u001b[0;31mNameError\u001b[0m                                 Traceback (most recent call last)",
      "Cell \u001b[0;32mIn[4], line 2\u001b[0m\n\u001b[1;32m      1\u001b[0m \u001b[38;5;66;03m# Save your notebook first, then run this cell to export your submission.\u001b[39;00m\n\u001b[0;32m----> 2\u001b[0m \u001b[43mgrader\u001b[49m\u001b[38;5;241m.\u001b[39mexport(run_tests\u001b[38;5;241m=\u001b[39m\u001b[38;5;28;01mTrue\u001b[39;00m)\n",
      "\u001b[0;31mNameError\u001b[0m: name 'grader' is not defined"
     ]
    }
   ],
   "source": [
    "# Save your notebook first, then run this cell to export your submission.\n",
    "grader.export(run_tests=True)"
   ]
  },
  {
   "cell_type": "markdown",
   "id": "bea26b61",
   "metadata": {},
   "source": [
    " "
   ]
  }
 ],
 "metadata": {
  "kernelspec": {
   "display_name": "Python 3 (ipykernel)",
   "language": "python",
   "name": "python3"
  },
  "language_info": {
   "codemirror_mode": {
    "name": "ipython",
    "version": 3
   },
   "file_extension": ".py",
   "mimetype": "text/x-python",
   "name": "python",
   "nbconvert_exporter": "python",
   "pygments_lexer": "ipython3",
   "version": "3.10.8"
  },
  "otter": {
   "OK_FORMAT": true,
   "tests": {
    "q10check": {
     "name": "q10check",
     "points": 0,
     "suites": [
      {
       "cases": [
        {
         "code": ">>> assert get_hash(round(q10_answer, 5)) == '09a27b82e83747cf0b8fbf184c1e477d'\n",
         "hidden": false,
         "locked": false
        }
       ],
       "scored": true,
       "setup": "",
       "teardown": "",
       "type": "doctest"
      }
     ]
    },
    "q11a": {
     "name": "q11a",
     "points": 2,
     "suites": [
      {
       "cases": [
        {
         "code": ">>> assert get_hash(int(q11a_answer)) == 'da4fb5c6e93e74d3df8527599fa62642'\n",
         "hidden": false,
         "locked": false
        }
       ],
       "scored": true,
       "setup": "",
       "teardown": "",
       "type": "doctest"
      }
     ]
    },
    "q11bcheck": {
     "name": "q11bcheck",
     "points": 0,
     "suites": [
      {
       "cases": [
        {
         "code": ">>> assert get_hash(round(q11b_answer, 6)) == '0f7087f36d3e157843feb7566cb4d407'\n",
         "hidden": false,
         "locked": false
        }
       ],
       "scored": true,
       "setup": "",
       "teardown": "",
       "type": "doctest"
      }
     ]
    },
    "q11ccheck": {
     "name": "q11ccheck",
     "points": 0,
     "suites": [
      {
       "cases": [
        {
         "code": ">>> assert get_hash(round(q11c_answer, 6)) == 'caed457b2e3a7d5fa3ede3de63e1fe34'\n",
         "hidden": false,
         "locked": false
        }
       ],
       "scored": true,
       "setup": "",
       "teardown": "",
       "type": "doctest"
      }
     ]
    },
    "q11dcheck": {
     "name": "q11dcheck",
     "points": 0,
     "suites": [
      {
       "cases": [
        {
         "code": ">>> assert get_hash(q11d_answer) == '38af86134b65d0f10fe33d30dd76442e'\n",
         "hidden": false,
         "locked": false
        }
       ],
       "scored": true,
       "setup": "",
       "teardown": "",
       "type": "doctest"
      }
     ]
    },
    "q12": {
     "name": "q12",
     "points": 3,
     "suites": [
      {
       "cases": [
        {
         "code": ">>> assert get_hash(q12_survey) == '556e38165f5e28fc4ea244533e93ff74'\n",
         "hidden": false,
         "locked": false
        }
       ],
       "scored": true,
       "setup": "",
       "teardown": "",
       "type": "doctest"
      }
     ]
    },
    "q2": {
     "name": "q2",
     "points": 2,
     "suites": [
      {
       "cases": [
        {
         "code": ">>> assert get_hash(seconds_in_a_decade) == '7b54be8a1e43a89b0736f55aec0290c5'\n",
         "hidden": false,
         "locked": false
        }
       ],
       "scored": true,
       "setup": "",
       "teardown": "",
       "type": "doctest"
      }
     ]
    },
    "q3": {
     "name": "q3",
     "points": [
      0
     ],
     "suites": [
      {
       "cases": [
        {
         "code": ">>> assert names_q3 in ['A', 'B', 'C', 'D']\n",
         "hidden": false,
         "locked": false
        }
       ],
       "scored": true,
       "setup": "",
       "teardown": "",
       "type": "doctest"
      }
     ]
    },
    "q4a": {
     "name": "q4a",
     "points": 1,
     "suites": [
      {
       "cases": [
        {
         "code": ">>> assert get_hash(q4a_answer) == '8dde8580c09e4bb356873e195435dd8b'\n",
         "hidden": false,
         "locked": false
        }
       ],
       "scored": true,
       "setup": "",
       "teardown": "",
       "type": "doctest"
      }
     ]
    },
    "q4b": {
     "name": "q4b",
     "points": 2,
     "suites": [
      {
       "cases": [
        {
         "code": ">>> assert intsqr == [x ** 2 for x in range(1, 101)]\n",
         "hidden": false,
         "locked": false
        }
       ],
       "scored": true,
       "setup": "",
       "teardown": "",
       "type": "doctest"
      }
     ]
    },
    "q5a": {
     "name": "q5a",
     "points": 2,
     "suites": [
      {
       "cases": [
        {
         "code": ">>> assert get_hash(to_percentage(0.35)) == 'e2e536cebe0aee01493dbece3a42cf40'\n",
         "hidden": false,
         "locked": false
        },
        {
         "code": ">>> assert get_hash(twenty_percent) == '75cf3ac5e70c76583be3efb5012bd44e'\n",
         "hidden": false,
         "locked": false
        }
       ],
       "scored": true,
       "setup": "",
       "teardown": "",
       "type": "doctest"
      }
     ]
    },
    "q5b": {
     "name": "q5b",
     "points": 1,
     "suites": [
      {
       "cases": [
        {
         "code": ">>> assert get_hash(round(a_percentage, 4)) == 'd5283852114ab721760809b6c091520f'\n",
         "hidden": false,
         "locked": false
        }
       ],
       "scored": true,
       "setup": "",
       "teardown": "",
       "type": "doctest"
      }
     ]
    },
    "q6": {
     "name": "q6",
     "points": [
      0.5,
      0.5,
      2
     ],
     "suites": [
      {
       "cases": [
        {
         "code": ">>> assert get_hash(square(1)) == 'c4ca4238a0b923820dcc509a6f75849b'\n",
         "hidden": false,
         "locked": false
        },
        {
         "code": ">>> assert get_hash(square(0)) == 'cfcd208495d565ef66e7dff9f98764da'\n",
         "hidden": false,
         "locked": false
        },
        {
         "code": ">>> assert get_hash(square(2.5)) == 'd62c232f0b3e8fb5da7db1ff61509b94'\n",
         "hidden": false,
         "locked": false
        }
       ],
       "scored": true,
       "setup": "",
       "teardown": "",
       "type": "doctest"
      }
     ]
    },
    "q7": {
     "name": "q7",
     "points": 2,
     "suites": [
      {
       "cases": [
        {
         "code": ">>> assert get_hash(round(near_twenty, 4)) == 'bc8dee77249d35f9baa359d1c2ab36b4'\n",
         "hidden": false,
         "locked": false
        }
       ],
       "scored": true,
       "setup": "",
       "teardown": "",
       "type": "doctest"
      }
     ]
    },
    "q8": {
     "name": "q8",
     "points": 2,
     "suites": [
      {
       "cases": [
        {
         "code": ">>> assert get_hash(round(sqrt_of_pi, 4)) == '4ccf5d819bcfa0bd1603dc31ab5aa649'\n",
         "hidden": false,
         "locked": false
        }
       ],
       "scored": true,
       "setup": "",
       "teardown": "",
       "type": "doctest"
      }
     ]
    },
    "q9": {
     "name": "q9",
     "points": 1,
     "suites": [
      {
       "cases": [
        {
         "code": ">>> assert get_hash(summation(1)) == 'a87ff679a2f3e71d9181a67b7542122c'\n",
         "hidden": false,
         "locked": false
        },
        {
         "code": ">>> assert get_hash(summation(2)) == '1ff1de774005f8da13f42943881c655f'\n",
         "hidden": false,
         "locked": false
        },
        {
         "code": ">>> assert get_hash(summation(100)) == '932348b9cc333ed91b5153c91769d66c'\n",
         "hidden": false,
         "locked": false
        }
       ],
       "scored": true,
       "setup": "",
       "teardown": "",
       "type": "doctest"
      }
     ]
    }
   }
  }
 },
 "nbformat": 4,
 "nbformat_minor": 5
}
