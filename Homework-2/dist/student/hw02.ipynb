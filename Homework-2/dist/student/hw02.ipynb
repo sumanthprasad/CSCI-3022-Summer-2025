{
 "cells": [
  {
   "cell_type": "code",
   "execution_count": null,
   "id": "d593bd4f",
   "metadata": {
    "deletable": false,
    "editable": false
   },
   "outputs": [],
   "source": [
    "# Initialize Otter\n",
    "import otter\n",
    "grader = otter.Notebook(\"hw02.ipynb\")"
   ]
  },
  {
   "cell_type": "markdown",
   "id": "380021a2",
   "metadata": {},
   "source": [
    "<a id='verytop'></a>\n",
    "\n",
    "# Homework 2: Prerequisite Review Part 2 & Exploratory Data Analysis\n",
    "\n",
    "## Due Date: Friday June 6th, 11:59 PM on Gradescope\n",
    "\n",
    "\n",
    "### Detailed Submission Instructions Are Provided at the end of this Notebook\n",
    "\n",
    "## Assignment Learning Objectives\n",
    "- Recognize situations where aggregation is useful and identify the correct technique for performing an aggregation.\n",
    "\n",
    " - Perform merges on DataFrames\n",
    "\n",
    " - Use and modify Pandas indices\n",
    " \n",
    " - Identify 5 key data properties to consider when doing Exploratory Data Analysis and implement using data\n",
    " \n",
    " - Understand and implement methods for conditional selection in Pandas\n",
    "\n",
    " - Modify columns in a Pandas Dataframe (add, edit, drop)\n",
    "\n",
    "- Understand and implement methods for extracting data using .loc, .iloc, and [].\n",
    "\n",
    "- Manipulate and transform Series and DataFrames using common utility functions (i.e. sort_values, info,  value_counts, shape, describe, unique)\n",
    "\n",
    "- Define what is meant by structure and granularity in terms of a set of data, and identify the structure and granularity of sample datasets.\n",
    "\n",
    "- Review key Calculus concepts needed in CSCI 3022\n",
    "\n",
    " - Combine Calculus and Discrete Math Prerequisite concepts to determine a Maximum Likelihood Estimate\n",
    " \n",
    "\n",
    "\n",
    "\n",
    "## Collaboration Policy\n",
    "\n",
    "Data science is a collaborative activity.  However a key step in learning and retention is **creating solutions on your own.**  \n",
    "\n",
    "Below are examples of acceptable vs unacceptable use of resources and collaboration when doing HW assignments in CSCI 3022.\n",
    "\n",
    "\n",
    "The following would be some **examples of cheating** when working on HW assignments in CSCI 3022.  Any of these constitute a **violation of the course's collaboration policy and will result in an F in the course and a trip to the honor council**.   \n",
    "\n",
    "\n",
    " - Consulting web pages that may have a solution to a given homework problem or one similar is cheating.  However, consulting the class notes, and web pages that explain the material taught in class but do NOT show a solution to the homework problem in question are permissible to view.  Clearly, there's a fuzzy line here between a valid use of resources and cheating. To avoid this line, one should merely consult the course notes, the course textbook, and references that contain syntax and/or formulas.\n",
    " - Copying a segment of code or math solution of three lines or more from another student from a printout, handwritten copy, or by looking at their computer screen \n",
    " - Allowing another student to copy a segment of your code or math solution of three lines or more\n",
    " - Taking a copy of another student's work (or a solution found online) and then editing that copy\n",
    " - Reading someone else’s solution to a problem on the HW before writing your own.\n",
    " - Asking someone to write all or part of a program or solution for you.\n",
    " - Asking someone else for the code necessary to fix the error for you, other than for simple syntactical errors\n",
    " \n",
    "\n",
    "\n",
    "On the other hand, the following are some **examples of things which would NOT usually be\n",
    "considered to be cheating**:\n",
    " - Working on a HW problem on your own first and then discussing with a classmate a particular part in the problem solution where you are stuck.  After clarifying any questions you should then continue to write your solution independently.\n",
    " - Asking someone (or searching online) how a particular construct in the language works.\n",
    " - Asking someone (or searching online) how to formulate a particular construct in the language.\n",
    " - Asking someone for help in finding an error in your program.  \n",
    " - Asking someone why a particular construct does not work as you expected in a given program.\n",
    "   \n",
    "\n",
    "To test whether you are truly doing your own work and retaining what you've learned you should be able to easily reproduce from scratch and explain a HW solution that was your own when asked in office hours by a Instructor or on a quiz/exam.   \n",
    "\n",
    "\n",
    "If you have difficulty in formulating the general solution to a problem on your own, or\n",
    "you have difficulty in translating that general solution into a program, it is advisable to see\n",
    "your instructor or teaching assistant rather than another student as this situation can easily\n",
    "lead to a, possibly inadvertent, cheating situation.\n",
    "\n",
    "We are here to help!  Visit HW Hours and/or post questions on Discord!\n",
    "\n"
   ]
  },
  {
   "cell_type": "markdown",
   "id": "24b45ac0",
   "metadata": {},
   "source": [
    "## Grading\n",
    "Grading is broken down into autograded answers and manually graded answers. \n",
    "\n",
    "For autograded answers, the results of your code are compared to provided and/or hidden tests.\n",
    "\n",
    "For manually graded answers you must show and explain all steps.  Graders will evaluate how well you answered the question and/or fulfilled the requirements of the question.\n",
    "\n",
    "\n",
    "### Score breakdown\n",
    "\n",
    "\n",
    "\n",
    "Question | Points | Grading Type\n",
    "--- | --- | ---\n",
    "Question 1 | 8 | autograded (via video assignment on Canvas)\n",
    "Question 2a, c-f | 22 | autograded\n",
    "Question 2b | 5 | manual\n",
    "Question 3a | 2 | manual\n",
    "Question 3b | 4 | manual\n",
    "Question 4a | 2 | autograded\n",
    "Question 4b | 2 | manual\n",
    "Question 4c | 1 | autograded\n",
    "Question 4d| 4 | manual\n",
    "|Total | **50**"
   ]
  },
  {
   "cell_type": "markdown",
   "id": "cc428220-4554-48fc-9039-eefdba21a16c",
   "metadata": {},
   "source": [
    "## Recommended Readings for this HW:\n",
    "\n",
    "  - [Prerequisite Review Resources posted on the  Modules in Canvas](https://canvas.colorado.edu/courses/117881/pages/prerequisite-review-calculus-and-discrete-structures?module_item_id=6055980) \n",
    " - [Learning Data Science Chapter 6 - All (Subsetting, Aggregating, Joining, Transforming)](https://learningds.org/ch/06/pandas_intro.html)\n",
    " - [Learning Data Science Section 8.6 (Table Shape and Granularity)](https://learningds.org/ch/08/files_granularity.html#table-shape-and-granularity)\n",
    " \n"
   ]
  },
  {
   "cell_type": "markdown",
   "id": "51fc4ee3",
   "metadata": {},
   "source": [
    "<a id='top'></a>\n",
    "---\n",
    "**Shortcuts:**   [Problem 2](#p2) | [Problem 3](#p3) | [Problem 4](#p4)\n",
    "---"
   ]
  },
  {
   "cell_type": "markdown",
   "id": "c0eec3bc",
   "metadata": {},
   "source": [
    "<hr style=\"border: 5px solid #003262;\" />\n",
    "<hr style=\"border: 1px solid #fdb515;\" />\n",
    "\n"
   ]
  },
  {
   "cell_type": "markdown",
   "id": "617b5825-00f3-4a4b-9e9d-adb3af555667",
   "metadata": {},
   "source": [
    "### Importing Libraries and Magic Commands\n",
    "\n",
    "In CSCI 3022, we will be using common Python libraries to help us process data. There are also a set of standard aliases that are used to shorten the library names. Below are some of the libraries that you may encounter throughout this assignment, along with their respective aliases.  Run the cell below"
   ]
  },
  {
   "cell_type": "code",
   "execution_count": null,
   "id": "f789ce4b-21fe-4dee-8921-b5c796bdcffd",
   "metadata": {},
   "outputs": [],
   "source": [
    "# Run this cell:\n",
    "import numpy as np\n",
    "import pandas as pd\n",
    "import matplotlib.pyplot as plt\n",
    "import plotly.express as px\n",
    "from csci3022_utils import *\n"
   ]
  },
  {
   "cell_type": "markdown",
   "id": "afbc4269-754b-46f8-8222-1dd3495cb2c8",
   "metadata": {},
   "source": [
    "\n",
    "\n",
    "<a id='p1'></a>\n",
    "\n",
    "<hr style=\"border: 5px solid #003262;\" />\n",
    "<hr style=\"border: 1px solid #fdb515;\" />\n",
    "\n",
    "## <span style='color:Red'>  Question 1: Pandas Bootcamp Part 2 - Video Assignment (8 pts) ##\n",
    "\n",
    "#### Complete this [Pandas Bootcamp Part 2 Video Assignment (click this link)](https://canvas.colorado.edu/courses/117881/assignments/2298257) available on Canvas (to receive points you must watch the entire video and answer the embedded questions).\n",
    "\n",
    "\n",
    "As you watch the video, use the datasets provided below to fill in the code below along with the video so you can practice functions.  \n",
    "The video used data as of 2022 for babynames and 2023 for elections.  The data loaded here has been updated to this year, so when running the functions you will get results updated for this new data.  \n",
    "\n",
    "#### Data: \n",
    "\n",
    "\n",
    "**Elections Dataset:**\n"
   ]
  },
  {
   "cell_type": "code",
   "execution_count": null,
   "id": "da82b424-f81d-4dce-b564-ea6f656a2f8c",
   "metadata": {},
   "outputs": [],
   "source": [
    "# Run this cell to load the elections data\n",
    "elections = pd.read_csv(\"data/elections.csv\")"
   ]
  },
  {
   "cell_type": "markdown",
   "id": "8c3e98a8-0964-43ff-841c-58a209d1ddd6",
   "metadata": {},
   "source": [
    "**Babynames Dataset:**\n",
    "\n",
    "The United States Social Security office tracks the names of babies who are issued Social Security Cards.  We'll be using [data from their website](https://www.ssa.gov/oact/babynames/state/ ) to analyze babyname popularity over time.\n",
    "\n",
    "\n",
    "The cell below pulls census data from the SS website for babies born in Colorado and then loads it into a usable form. The code shown here is outside of the scope of CSCI 3022, but you're encouraged to dig into it if you are interested!\n",
    "\n",
    "Data Scope:  All names are from Social Security card applications for births that occurred in the United States after 1879. Note that many people born before 1937 never applied for a Social Security card, so their names are not included in the data. For others who did apply, thesee records may not show the place of birth, and again their names are not included in our data.\n",
    "All data are from a 100% sample of records on Social Security card applications as of the end of 2023."
   ]
  },
  {
   "cell_type": "code",
   "execution_count": null,
   "id": "462e73d0-309c-4102-a285-db5761f5812a",
   "metadata": {},
   "outputs": [],
   "source": [
    "# Just run this cell: to load the babynames data\n",
    "import urllib.request\n",
    "import os.path\n",
    "import zipfile\n",
    "\n",
    "data_url = \"https://www.ssa.gov/oact/babynames/state/namesbystate.zip\"\n",
    "local_filename = \"data/babynamesbystate.zip\"\n",
    "if not os.path.exists(local_filename): # If the data exists don't download again\n",
    "    with urllib.request.urlopen(data_url) as resp, open(local_filename, 'wb') as f:\n",
    "        f.write(resp.read())\n",
    "\n",
    "zf = zipfile.ZipFile(local_filename, 'r')\n",
    "\n",
    "state_name = 'CO.TXT'\n",
    "field_names = ['State', 'Sex', 'Year', 'Name', 'Count']\n",
    "with zf.open(state_name) as fh:\n",
    "    babynames = pd.read_csv(fh, header=None, names=field_names)\n",
    "\n",
    "babynames"
   ]
  },
  {
   "cell_type": "markdown",
   "id": "7cd79ee8-8ae1-4cdd-88f0-2da7864e4928",
   "metadata": {},
   "source": [
    "## Grouping\n",
    "\n",
    "\n",
    "To demonstrate how to aggregate columns in Pandas let's start with a smaller subset of our original babynames dataframe.  Run the cell below to create this temporary dataframe:"
   ]
  },
  {
   "cell_type": "code",
   "execution_count": null,
   "id": "0397f924-3293-45e2-b984-63618e15a515",
   "metadata": {},
   "outputs": [],
   "source": [
    "# Just run this cell to follow along with the demo in the video \n",
    "babynames_temp = (babynames.query(\" ((Name == 'Brittany' | Name == 'Galilea') & Year == 2008) | ((Name == 'Emma' | Name == 'Olivia') & Year == 2015) | ((Name == 'Marie' | Name == 'Frances') & Year == 1910)\")   \n",
    "                .sort_values(by=\"Name\")\n",
    "                .reset_index().drop(columns=\"index\")\n",
    "                 )\n",
    "\n",
    "babynames_temp"
   ]
  },
  {
   "cell_type": "markdown",
   "id": "04e2bae6-a567-4cc3-8648-b5057391f184",
   "metadata": {},
   "source": [
    "### `DataFrameGroupBy` Objects\n",
    "\n",
    "\n",
    "The key object for grouping in Pandas is .groupby()\n",
    "\n",
    "\n",
    "We can group rows that share a common feature, then aggregate data across the group.\n",
    "\n",
    "Syntax  `dataframe.groupby(column_names).agg(aggregation_function)`\n",
    "\n",
    "\n"
   ]
  },
  {
   "cell_type": "markdown",
   "id": "73e2cb65-b1a3-4190-a241-136bc04a28f1",
   "metadata": {},
   "source": [
    "The result of `groupby` is not a `DataFrame` or a list of `DataFrame`s. It is instead a special type called a `DataFrameGroupBy`."
   ]
  },
  {
   "cell_type": "code",
   "execution_count": null,
   "id": "51173174-0b66-49ed-8712-c04fd0f3c79d",
   "metadata": {},
   "outputs": [],
   "source": [
    "# run this code to see that without an aggregation function, just using a groupby doesn't return useful information\n",
    "grouped_by_year = babynames_temp.groupby(\"Year\")\n",
    "grouped_by_year"
   ]
  },
  {
   "cell_type": "markdown",
   "id": "1210998e-e893-4555-8705-bcad821ffb0a",
   "metadata": {},
   "source": [
    "`GroupBy` objects are structured like dictionaries. In fact, we can actually see the dictionaries with the following code:"
   ]
  },
  {
   "cell_type": "code",
   "execution_count": null,
   "id": "35ad3e98-5991-46d8-94d2-2a2ddf85a976",
   "metadata": {},
   "outputs": [],
   "source": [
    "grouped_by_year.groups"
   ]
  },
  {
   "cell_type": "markdown",
   "id": "1bf0e51d-0f9a-498b-8cb0-609a47fd96ba",
   "metadata": {},
   "source": [
    "The `key`s of the dictionary are the groups (in this case, `Party`), and the `value`s are the **indices** of rows belonging to that group. We can access a particular sub-`DataFrame` using `get_group`:"
   ]
  },
  {
   "cell_type": "code",
   "execution_count": null,
   "id": "b73b2a31-a8b7-4c78-ba14-1f632b2cd909",
   "metadata": {},
   "outputs": [],
   "source": [
    "grouped_by_year.get_group(1910)"
   ]
  },
  {
   "cell_type": "code",
   "execution_count": null,
   "id": "81de51d8-1b88-4461-ac10-bdeafc7cbbe7",
   "metadata": {},
   "outputs": [],
   "source": [
    "grouped_by_year.get_group(2008)"
   ]
  },
  {
   "cell_type": "code",
   "execution_count": null,
   "id": "85a01c3b-ae4e-4580-bf01-54a41c95b703",
   "metadata": {},
   "outputs": [],
   "source": [
    "grouped_by_year.get_group(2015)"
   ]
  },
  {
   "cell_type": "markdown",
   "id": "2e962e25-4ae9-4fc6-a423-88b50ea40127",
   "metadata": {},
   "source": [
    "Once we've formed groups, we can aggregate each sub-dataframe (a.k.a. group) into a single row using an aggregation function. \n",
    "\n",
    "Use the cells below to follow along with the examples/code in the video and play around with different aggregation functions.\n"
   ]
  },
  {
   "cell_type": "code",
   "execution_count": null,
   "id": "199ffb79-eb31-43cc-89cf-c1c68c693c02",
   "metadata": {},
   "outputs": [],
   "source": [
    "# Write code to group on Year and Sum the Count Columns:\n",
    "..."
   ]
  },
  {
   "cell_type": "code",
   "execution_count": null,
   "id": "74150417-e1dc-4158-827c-99dbe7d260fa",
   "metadata": {},
   "outputs": [],
   "source": [
    "babynames_temp.groupby(\"Year\").agg(\"max\")"
   ]
  },
  {
   "cell_type": "code",
   "execution_count": null,
   "id": "fe5196cd-bb81-4458-9862-285838309e87",
   "metadata": {},
   "outputs": [],
   "source": [
    "# Practice with .groupby(\"Year\").first()\n",
    "..."
   ]
  },
  {
   "cell_type": "code",
   "execution_count": null,
   "id": "afb95487-8b9c-4e40-8878-3493014cba57",
   "metadata": {},
   "outputs": [],
   "source": []
  },
  {
   "cell_type": "code",
   "execution_count": null,
   "id": "f6e62baf-7799-4bbd-aab5-41caede4c66a",
   "metadata": {},
   "outputs": [],
   "source": [
    "# Practice grouping by both Year and Sex\n",
    "..."
   ]
  },
  {
   "cell_type": "markdown",
   "id": "42c533b8-fa09-458f-ae82-13312ae46396",
   "metadata": {},
   "source": [
    "#### Syntax Tip for Chained Method Callls"
   ]
  },
  {
   "cell_type": "code",
   "execution_count": null,
   "id": "d4e63e01-705d-4472-be79-398df8944bb1",
   "metadata": {},
   "outputs": [],
   "source": [
    "# Example of grouping temp dataframe by year and Summing the values in the \"Count\" column:\n",
    "\n",
    "babynames_temp.groupby(\"Year\").agg({\"Count\":\"sum\"}).rename(columns = {\"Count\": \"Total Babies that Year\"})"
   ]
  },
  {
   "cell_type": "markdown",
   "id": "79cb487c-3122-47a4-b95c-5eec015c5a6d",
   "metadata": {},
   "source": [
    "Notice that the code above consists of a series of what are called **chained method calls**. This sort of code is very very common in Pandas programming and in data science in general. Such chained method calls can sometimes go many layers deep, in which case you might consider adding newlines between lines of code for clarity. For example, we could instead write the code above as:"
   ]
  },
  {
   "cell_type": "code",
   "execution_count": null,
   "id": "5cda89d1-3587-482e-a57f-13d87fab1885",
   "metadata": {},
   "outputs": [],
   "source": [
    "# pandas method chaining - surround code after equals sign with parantheses and then can break lines\n",
    "\n",
    "(\n",
    "babynames_temp.groupby(\"Year\") \n",
    "                .agg({\"Count\":\"sum\"})\n",
    "                .rename(columns = {\"Count\":\"Total Babies that Year\"})\n",
    "    \n",
    ")    "
   ]
  },
  {
   "cell_type": "markdown",
   "id": "5096b870-6f32-484a-b7c8-d7f213a0f8fd",
   "metadata": {},
   "source": [
    "Note that we have surrounded the entire call by a big set of parentheses so that Python doesn't complain about the indentation. An alternative is to use the \\ symbol to indicate to Python that your code continues on to the next line!"
   ]
  },
  {
   "cell_type": "code",
   "execution_count": null,
   "id": "0a2093a3-a30b-431d-912b-8c5478098859",
   "metadata": {
    "scrolled": true
   },
   "outputs": [],
   "source": [
    "# pandas method chaining (alternative) end lines with \\\n",
    "\n",
    "\n",
    "babynames_temp.groupby(\"Year\")  \\\n",
    "                .agg({\"Count\":\"sum\"}) \\\n",
    "                .rename(columns = {\"Count\":\"Total Babies that Year\"})\n",
    "\n",
    "\n",
    "                    \n"
   ]
  },
  {
   "cell_type": "markdown",
   "id": "2208b393-4421-4cad-ac4f-2a025a956a33",
   "metadata": {},
   "source": [
    "### Case Study: Name \"Popularity\"\n",
    "\n",
    "The video walks you step by step through this case study.  Follow along with the video and fill in the code so you can answer the questions embedded in the video."
   ]
  },
  {
   "cell_type": "markdown",
   "id": "dc2305e5-b837-4453-98b2-ea1a9bed418e",
   "metadata": {},
   "source": [
    "In this exercise, let's find the name with sex \"F\" that has dropped most in popularity since its peak usage. We'll start by filtering `babynames` to only include names corresponding to sex \"F\"."
   ]
  },
  {
   "cell_type": "code",
   "execution_count": null,
   "id": "8dec9d74-ad2c-40c3-8d67-28396590fdb2",
   "metadata": {},
   "outputs": [],
   "source": [
    "# Filter babynames to only include names corresponding to sex \"F\"\n",
    "f_babynames = ...\n",
    "f_babynames"
   ]
  },
  {
   "cell_type": "code",
   "execution_count": null,
   "id": "4ee00b31-cd97-441b-98e2-c2757e062bae",
   "metadata": {},
   "outputs": [],
   "source": [
    "# We sort the data by year (in case the data is not already sorted this way)\n",
    "f_babynames = ...\n",
    "f_babynames"
   ]
  },
  {
   "cell_type": "markdown",
   "id": "f494e2d7-6c99-48c7-97ae-e81092e8207c",
   "metadata": {},
   "source": [
    "To build our intuition on how to answer our research question, let's visualize the prevalence of the name \"Jennifer\" over time."
   ]
  },
  {
   "cell_type": "code",
   "execution_count": null,
   "id": "90194d74-6c29-4447-b8cb-cd9c80432791",
   "metadata": {},
   "outputs": [],
   "source": [
    "# We'll talk about how to generate plots in a later lecture\n",
    "fig = px.line(f_babynames[f_babynames[\"Name\"] == \"Jennifer\"],\n",
    "              x = \"Year\", y = \"Count\",\n",
    "              title=f\"Popularity of the name Jennifer in Colorado\")\n",
    "fig.update_layout(font_size = 18, \n",
    "                  autosize=False, \n",
    "                  width=1000, \n",
    "                  height=400)"
   ]
  },
  {
   "cell_type": "markdown",
   "id": "1f51ce44-8e93-4dfe-ad74-a3736a2bc1f9",
   "metadata": {},
   "source": [
    "We'll need a mathematical definition for the change in popularity of a name.\n",
    "\n",
    "Let's define the metric \"ratio to peak\" (RTP). We'll calculate this as the count of the name in the most recent year for which we have data divided by the largest count of this name in *any* year. \n",
    "\n",
    "A demo calculation for Jennifer:"
   ]
  },
  {
   "cell_type": "code",
   "execution_count": null,
   "id": "8f46a6fd-7eeb-4c13-95fc-8d1e6dd1c70c",
   "metadata": {},
   "outputs": [],
   "source": [
    "# Grab number of Jennifers in the year with the highest Jennifer count\n",
    "max_jenn = ...\n",
    "max_jenn"
   ]
  },
  {
   "cell_type": "code",
   "execution_count": null,
   "id": "34d298ea-74cc-4129-a12a-92c87bb9d0ab",
   "metadata": {
    "tags": []
   },
   "outputs": [],
   "source": [
    "# Remember that we sorted f_babynames by year. \n",
    "# This means that grabbing the final entry gives us the most recent count of Jennifers:\n",
    "# \n",
    "curr_jenn = ...\n",
    "curr_jenn"
   ]
  },
  {
   "cell_type": "code",
   "execution_count": null,
   "id": "7a08ff1e-9283-4144-a7ed-2689a391b693",
   "metadata": {
    "tags": []
   },
   "outputs": [],
   "source": [
    "# Compute the RTP\n",
    "curr_jenn / max_jenn"
   ]
  },
  {
   "cell_type": "markdown",
   "id": "d512cad3-9141-4694-81a6-299eebc9ddf5",
   "metadata": {},
   "source": [
    "We can also write a function that produces the `ratio_to_peak`for a given `Series`. This will allow us to use `.groupby` to speed up our computation for all names in the dataset."
   ]
  },
  {
   "cell_type": "code",
   "execution_count": null,
   "id": "3ed3fd4b-9b68-445f-84f3-0b902cadcdc3",
   "metadata": {},
   "outputs": [],
   "source": [
    "def ratio_to_peak(series):\n",
    "    \"\"\"\n",
    "    Compute the RTP for a Series containing the counts per year for a single name\n",
    "    \"\"\"\n",
    "    return ..."
   ]
  },
  {
   "cell_type": "code",
   "execution_count": null,
   "id": "22975ae3-a63c-4fd4-a00a-14ccac30502d",
   "metadata": {},
   "outputs": [],
   "source": [
    "# Construct a Series containing our Jennifer count data\n",
    "jenn_counts_ser = ...\n",
    "\n",
    "# Then, find the RTP\n",
    "ratio_to_peak(jenn_counts_ser)"
   ]
  },
  {
   "cell_type": "markdown",
   "id": "411d90a8-85af-4908-ad07-831782a0efb8",
   "metadata": {},
   "source": [
    "Now, let's use `.groupby` to compute the RTPs for *all* names in the dataset.\n",
    "\n",
    "You will see a TypeError message when running the cell below. As discussed in the video, `pandas` can't apply an aggregation function to non-numeric data (it doesn't make sense to divide \"CO\" by a number)."
   ]
  },
  {
   "cell_type": "code",
   "execution_count": null,
   "id": "11dfc650-dd4c-4346-8906-172d551fe9af",
   "metadata": {
    "tags": []
   },
   "outputs": [],
   "source": [
    "#If you run this you'll get an error\n",
    "#rtp_table = f_babynames.groupby(\"Name\").agg(ratio_to_peak)\n",
    "#rtp_table"
   ]
  },
  {
   "cell_type": "markdown",
   "id": "2b3502c7-860e-4c3e-ade6-04a01a6e9b61",
   "metadata": {},
   "source": [
    "To avoid the warning message above, try extracting only the numeric columns (that is 'Year' and 'Count') before applying `.agg`:"
   ]
  },
  {
   "cell_type": "code",
   "execution_count": null,
   "id": "a6c4a7e3-eb7b-42a1-bd1a-6efb499fe255",
   "metadata": {},
   "outputs": [],
   "source": [
    "# after groupby and before .agg just select numeric coluns\n",
    "rtp_table = ...\n",
    "rtp_table"
   ]
  },
  {
   "cell_type": "code",
   "execution_count": null,
   "id": "02c4b0ba-50ec-4df3-a720-cdfa84797a7d",
   "metadata": {},
   "outputs": [],
   "source": [
    "# Recompute the RTPs, but only performing the calculation on the \"Count\" column\n",
    "rtp_table = ...\n",
    "rtp_table"
   ]
  },
  {
   "cell_type": "code",
   "execution_count": null,
   "id": "aa7a0e81-0a93-4d17-aa4d-fb33de72f18c",
   "metadata": {},
   "outputs": [],
   "source": [
    "# Rename \"Count\" to \"Count RTP\" for clarity\n",
    "rtp_table = ...\n",
    "rtp_table"
   ]
  },
  {
   "cell_type": "code",
   "execution_count": null,
   "id": "ae1f03f8-e3e2-4861-8afc-351a3dc72afd",
   "metadata": {},
   "outputs": [],
   "source": [
    "# What name (with Sex = \"F\") has fallen the most in popularity?\n",
    "..."
   ]
  },
  {
   "cell_type": "markdown",
   "id": "52535c88-66c9-4983-8514-a5949fb22a03",
   "metadata": {},
   "source": [
    "We can visualize the decrease in the popularity of the name \"Linda:\""
   ]
  },
  {
   "cell_type": "code",
   "execution_count": null,
   "id": "adf11576-9824-45fe-8476-ea8ff967be05",
   "metadata": {},
   "outputs": [],
   "source": [
    "def plot_name(*names):\n",
    "    fig = px.line(babynames[babynames[\"Name\"].isin(names)], \n",
    "                  x = \"Year\", y = \"Count\", color=\"Name\",\n",
    "                  title=f\"Popularity for: {names}\")\n",
    "    fig.update_layout(font_size = 18, \n",
    "                  autosize=False, \n",
    "                  width=1000, \n",
    "                  height=400)\n",
    "    return fig\n",
    "\n",
    "plot_name(\"Linda\")"
   ]
  },
  {
   "cell_type": "code",
   "execution_count": null,
   "id": "5ad38688-a2b2-4e0c-9dbe-f9a5a0ae4042",
   "metadata": {},
   "outputs": [],
   "source": [
    "# Is your name in this database? If so, run the function above to plot the popularity of your name in Colorado over time \n",
    "# If not, choose a name of one of your friends and plot the popularity\n",
    "..."
   ]
  },
  {
   "cell_type": "code",
   "execution_count": null,
   "id": "eccd9410-4c64-486b-9ace-2a9921e30187",
   "metadata": {},
   "outputs": [],
   "source": [
    "# Find the 10 names with Sex = F that have decreased the most in popularity\n",
    "top10 = ...\n",
    "top10"
   ]
  },
  {
   "cell_type": "code",
   "execution_count": null,
   "id": "e01aac5c-a156-44c3-9cf3-6483caa78673",
   "metadata": {},
   "outputs": [],
   "source": [
    "plot_name(*top10)"
   ]
  },
  {
   "cell_type": "markdown",
   "id": "361966e3-ea5d-4821-a355-085602526cc3",
   "metadata": {},
   "source": [
    "For fun, try plotting your name or your friends' names."
   ]
  },
  {
   "cell_type": "code",
   "execution_count": null,
   "id": "68264378-b1e0-4438-8d20-6df83b6245c9",
   "metadata": {},
   "outputs": [],
   "source": [
    "# What name assigned to Sex=M has dropped the most in popularity?\n",
    "\n",
    "..."
   ]
  },
  {
   "cell_type": "code",
   "execution_count": null,
   "id": "bfd8cb0a-ada6-4c63-8769-82b2df9574b3",
   "metadata": {},
   "outputs": [],
   "source": [
    "# Write code to compute the total number of babies with each name:\n",
    "\n",
    "..."
   ]
  },
  {
   "cell_type": "code",
   "execution_count": null,
   "id": "b0b0adbf-4acd-4aa6-9b63-59415cc7c1c6",
   "metadata": {},
   "outputs": [],
   "source": [
    "# Write code to compute the total number of babies born each year:\n",
    "\n",
    "puzzle2 = ..."
   ]
  },
  {
   "cell_type": "code",
   "execution_count": null,
   "id": "47a93a63-167b-4497-a482-7e255cba0a03",
   "metadata": {},
   "outputs": [],
   "source": [
    "# run this cell to plot the number of babies born in Colorado each year according to this data\n",
    "px.line(puzzle2, y=\"Count\")"
   ]
  },
  {
   "cell_type": "markdown",
   "id": "6ff48a5f-dde1-4355-9eaf-d1f4d662f021",
   "metadata": {},
   "source": [
    "## Joining Tables"
   ]
  },
  {
   "cell_type": "code",
   "execution_count": null,
   "id": "46bebd25-890b-4543-bbfe-d1eef3927df2",
   "metadata": {},
   "outputs": [],
   "source": [
    "# create a dataframe of names of babies born in Colorado in 2023:\n",
    "\n",
    "babynames_2023 = ...\n",
    "babynames_2023"
   ]
  },
  {
   "cell_type": "code",
   "execution_count": null,
   "id": "d6188785-4533-4449-b4b2-63fd0c3544c6",
   "metadata": {},
   "outputs": [],
   "source": [
    "# Add a column to the elections DataFrame called \"First Name\" with the First Name of each candidate\n",
    "elections[\"First Name\"] = ...\n",
    "elections"
   ]
  },
  {
   "cell_type": "code",
   "execution_count": null,
   "id": "059dab02-e603-4534-95d3-119d6c9a593b",
   "metadata": {},
   "outputs": [],
   "source": [
    "# merge the elections DataFrame with the babynames_2023 DataFrame:\n",
    "\n",
    "merged = ...\n",
    "merged"
   ]
  },
  {
   "cell_type": "code",
   "execution_count": null,
   "id": "b64105fd-b87f-441d-a084-c7c154c1486c",
   "metadata": {},
   "outputs": [],
   "source": [
    "# Sort the merged data, with Count in Descending order\n",
    "..."
   ]
  },
  {
   "cell_type": "code",
   "execution_count": null,
   "id": "3bbbe73c-b0ae-464a-bb19-7767159ba48d",
   "metadata": {},
   "outputs": [],
   "source": [
    "# Find the top 10 most popular presidential names for babies in 2023:\n",
    "\n",
    "..."
   ]
  },
  {
   "cell_type": "markdown",
   "id": "c135154d-2387-4b98-b1d8-6d096535baa6",
   "metadata": {
    "tags": []
   },
   "source": [
    "[Back to top](#top)\n",
    "\n",
    "<a id='p2'></a>\n",
    "\n",
    "<hr style=\"border: 5px solid #003262;\" />\n",
    "<hr style=\"border: 1px solid #fdb515;\" />\n",
    "\n",
    "## <span style='color:Red'>  Question 2: Evidence for Money Ball\n",
    "\n",
    "In the book [MoneyBall](https://en.wikipedia.org/wiki/Moneyball), Michael Lewis documented the introduction of statistics and data science in selecting players for the Oakland A's. \n",
    "    \n",
    "The central premise of Moneyball is that the collective wisdom of baseball insiders (including players, managers, coaches, scouts, and the front office) over the past century is outdated, subjective, and often flawed. That the statistics traditionally used to gauge players, such as stolen bases, runs batted in, and batting average, are relics of a 19th-century view of the game.  Sabermetrics and statistical analysis had demonstrated, for example, that on-base percentage and slugging percentage are better measures of batting. The Oakland A's began seeking players who were \"undervalued in the market\"—that is, who were receiving lower salaries relative to their ability to contribute to winning, as measured by these advanced statistics.\n",
    "   \n",
    "In this problem, we're going to investigate Oakland A's wins and payroll amounts compared to other successful teams during the time period that Moneyball investigates.  \n",
    "\n",
    "Do to this we'll use two datasets from the [Sean Lahman's Baseball Database](http://seanlahman.com/) which contains the \"complete batting and pitching statistics from 1871 to 2022, plus fielding statistics, standings, team stats, managerial records, post-season data, and more.\"   \n",
    "\n",
    "For more details about this data, see documentation.txt in the `data` folder.  \n",
    "\n",
    "\n"
   ]
  },
  {
   "cell_type": "markdown",
   "id": "73a10bce-72c7-405a-8199-d0327217e2a3",
   "metadata": {},
   "source": [
    "## Exploratory Data Analysis\n",
    "\n",
    "Throughout this question you will be asked to explore the dataset.  \n",
    "You will need familiarity with all the methods and attributes introduced in  Chapter 6 of the assigned reading:  [Learning Data Science Chapter 6 - All (Subsetting, Aggregating, Joining, Transforming)](https://learningds.org/ch/06/pandas_intro.html).  \n",
    "\n",
    "There is frequently more than one way to answer question in Pandas, so we encourage you to dive in and play around with different approaches.  Unless otherwise indicated, you are welcome to use whatever methods/attributes/approach that you choose."
   ]
  },
  {
   "cell_type": "markdown",
   "id": "696622c9-3965-45c3-a4a8-48f9fe1c3d9d",
   "metadata": {},
   "source": [
    "There are two .csv files in the `data` folder of this assignment:  `teams.csv` and `salaries.csv`\n",
    "\n",
    "Import the `Teams.csv` data into a DataFrame called `teams_df` and take a look at the data. \n"
   ]
  },
  {
   "cell_type": "code",
   "execution_count": null,
   "id": "9239658d-bc01-4c42-b384-6296df7b354d",
   "metadata": {},
   "outputs": [],
   "source": [
    "# Run this cell to load the Teams data:\n",
    "teams_df=pd.read_csv(\"data/Teams.csv\") \n",
    "teams_df.head()"
   ]
  },
  {
   "cell_type": "markdown",
   "id": "eed19477-1858-4486-8246-c87be4d44a6d",
   "metadata": {
    "deletable": false,
    "editable": false
   },
   "source": [
    "<hr style=\"border: 5px solid #003262;\" />\n",
    "<hr style=\"border: 1px solid #fdb515;\" />\n",
    "\n",
    "\n",
    "## <span style='color:Red'>   Question 2a (1 pt) ###\n",
    "\n",
    "Import the `Salaries.csv` data into a DataFrame called `salaries_df` and take a look at the data."
   ]
  },
  {
   "cell_type": "code",
   "execution_count": null,
   "id": "1ae14f04-ccdf-4d8f-9ff5-2fbc3ff2277c",
   "metadata": {
    "tags": []
   },
   "outputs": [],
   "source": [
    "# Load the Salaries data:\n",
    "\n",
    "salaries_df= ...\n",
    "\n",
    "salaries_df.head()"
   ]
  },
  {
   "cell_type": "code",
   "execution_count": null,
   "id": "2e256ca8",
   "metadata": {
    "deletable": false,
    "editable": false
   },
   "outputs": [],
   "source": [
    "grader.check(\"q2a\")"
   ]
  },
  {
   "cell_type": "markdown",
   "id": "414c9b9a-fa99-4fcb-9451-cd57c492ae67",
   "metadata": {
    "deletable": false,
    "editable": false
   },
   "source": [
    "<!-- BEGIN QUESTION -->\n",
    "\n",
    "<hr style=\"border: 5px solid #003262;\" />\n",
    "<hr style=\"border: 1px solid #fdb515;\" />\n",
    "\n",
    "\n",
    "## <span style='color:Red'>   Question 2b (5 pts) ###\n",
    "    \n",
    "Examine the structure, granularity and faithfulness of the datasets.   (Hint: The common utility functions we covered in class will be useful here).  \n",
    "\n",
    "Then answer the following questions:\n",
    "\n",
    " - i).  What does the column `G` represent in the teams dataset?  (For a description of the columns, see the documentation in the `data` folder).  \n",
    "\n",
    " - ii).  What is the granularity of the `teams.csv` file?  \n",
    "\n",
    " - iii).  What is the granularity of the `salary.csv` file?\n",
    " \n",
    " - iv).  How many rows and columns are in the teams dataset?    Assign your answer to the variables `team_rows` and `team_col` below.  \n",
    "\n",
    " - v).  How many rows and columns are in the salary dataset? Assign your answer to the variables `salary_rows` and `salary_col` below.\n",
    "\n",
    " - vi).  How many entries in the `teams.csv` file are missing Attendance Data?  Assign your answer to the variable `missing_attendance` below."
   ]
  },
  {
   "cell_type": "markdown",
   "id": "b3c2a944-8d00-413d-86c0-9eb1c1164733",
   "metadata": {},
   "source": [
    "### Answer Cell for Questions 2b(i)(ii)(iii) \n",
    "In this cell, answer questions 2b(i) - (iii) using Markdown (not code).  \n",
    "\n",
    "**2b(i) Answer:**\n",
    "\n",
    "**2b(ii) Answer**:\n",
    "\n",
    "**2b(iii) Answer**:\n",
    "\n",
    "In the code cells below justify your answers to part (ii) and (iii) and then answer parts iv through vi"
   ]
  },
  {
   "cell_type": "code",
   "execution_count": null,
   "id": "a47d7aec-e9d7-429f-a716-8ec2954c1910",
   "metadata": {
    "tags": []
   },
   "outputs": [],
   "source": [
    "...\n",
    "\n",
    "# Show work in this cell justifying your answer to part 4a(ii) (hint: either use .value_counts() or .groupby)"
   ]
  },
  {
   "cell_type": "code",
   "execution_count": null,
   "id": "bf8fa7d0-ff31-4aa2-91b1-6701eabe560a",
   "metadata": {
    "tags": []
   },
   "outputs": [],
   "source": [
    "...\n",
    "\n",
    "# Show work in this cell justifying your answer to part 4a(iii) (hint: either use .value_counts() or .groupby)"
   ]
  },
  {
   "cell_type": "code",
   "execution_count": null,
   "id": "933fa8ea-32f3-4fca-a6bc-d7f7c4f7ddfc",
   "metadata": {
    "tags": []
   },
   "outputs": [],
   "source": [
    "# Solution Cell for 4a(iv) and 4a(v)\n",
    "#Use code to find the number of rows and columns in the teams data.  Do not enter any values by hand.\n",
    "\n",
    "team_rows= ...\n",
    "\n",
    "team_col = ...\n",
    "\n",
    "salary_rows = ...\n",
    "\n",
    "salary_col = ...\n",
    "\n"
   ]
  },
  {
   "cell_type": "code",
   "execution_count": null,
   "id": "cf1d80f0-c65d-44dd-b199-7a7949130b12",
   "metadata": {
    "tags": []
   },
   "outputs": [],
   "source": [
    "# Solution Cell for 4a(vi)\n",
    "# Use code to find the number of rows in the Teams data that are missing attendance data\n",
    "\n",
    "missing_attendance = ...\n"
   ]
  },
  {
   "cell_type": "code",
   "execution_count": null,
   "id": "4b240cb3",
   "metadata": {
    "deletable": false,
    "editable": false
   },
   "outputs": [],
   "source": [
    "grader.check(\"q2b\")"
   ]
  },
  {
   "cell_type": "markdown",
   "id": "20f35e82-0e62-499c-bdf3-43b55332b056",
   "metadata": {
    "deletable": false,
    "editable": false
   },
   "source": [
    "<!-- END QUESTION -->\n",
    "\n",
    "<hr style=\"border: 5px solid #003262;\" />\n",
    "<hr style=\"border: 1px solid #fdb515;\" />\n",
    "\n",
    "\n",
    "## <span style='color:Red'>   Question 2c (4 pts) EDA:  Examining Scope and Temporality of the Data ###\n",
    "    \n",
    "\n",
    " Use code to explore the datasets and answer the questions below:\n",
    " \n",
    " i).  How many unique teams are represented in the `teams_df` DataFrame?  Write code to calculate this and assign the answer to the variable `unique_teams`   \n",
    " \n",
    " ii). How many unique teams are represented in the `salaries_df` DataFrame? Write code to calculate this and assign the answer to `unique_teams_salary`\n",
    " \n",
    " iii).  What years does the `teams_df` data span?  \n",
    " Write code to calculate this and assign the answers to `teams_startyear` and `teams_endyear`\n",
    "\n",
    " \n",
    " iv).  What years does the `salaries_df` data span?   \n",
    " Write code to calculate this and assign the answers to `salaries_startyear` and `salaries_endyear`\n",
    " "
   ]
  },
  {
   "cell_type": "code",
   "execution_count": null,
   "id": "bbb20d83-6849-40ad-9d07-71565f5ded3f",
   "metadata": {
    "tags": []
   },
   "outputs": [],
   "source": [
    "# Answer to 2ci:\n",
    "\n",
    "unique_teams = ...\n",
    "\n",
    "#print out result\n",
    "unique_teams\n"
   ]
  },
  {
   "cell_type": "code",
   "execution_count": null,
   "id": "0a93d8d8-f5ec-48ab-9585-c6c43d57851f",
   "metadata": {
    "tags": []
   },
   "outputs": [],
   "source": [
    "# Answer to 2cii:\n",
    "\n",
    "unique_teams_salary= ...\n",
    "\n",
    "#print out result\n",
    "unique_teams_salary"
   ]
  },
  {
   "cell_type": "code",
   "execution_count": null,
   "id": "96ee55e4-ce53-40e1-b03a-53f91cd15118",
   "metadata": {
    "tags": []
   },
   "outputs": [],
   "source": [
    "# Answer to 2ciii:\n",
    "\n",
    "teams_startyear = ...\n",
    "\n",
    "teams_endyear = ...\n",
    "\n",
    "#print out result\n",
    "[teams_startyear, teams_endyear]"
   ]
  },
  {
   "cell_type": "code",
   "execution_count": null,
   "id": "b2baa223-27c2-440a-8bac-e3c20ee05540",
   "metadata": {
    "tags": []
   },
   "outputs": [],
   "source": [
    "# Answer to 2civ:\n",
    "\n",
    "\n",
    "salaries_startyear = ...\n",
    "\n",
    "salaries_endyear = ...\n",
    "\n",
    "#print out result\n",
    "[salaries_startyear, salaries_endyear]"
   ]
  },
  {
   "cell_type": "code",
   "execution_count": null,
   "id": "bfb46845",
   "metadata": {
    "deletable": false,
    "editable": false
   },
   "outputs": [],
   "source": [
    "grader.check(\"q2c\")"
   ]
  },
  {
   "cell_type": "markdown",
   "id": "6d23fff4-14da-4bee-b6b9-8bf31a824670",
   "metadata": {
    "deletable": false,
    "editable": false
   },
   "source": [
    "<hr style=\"border: 5px solid #003262;\" />\n",
    "<hr style=\"border: 1px solid #fdb515;\" />\n",
    "\n",
    "\n",
    "## <span style='color:Red'>   Question 2d (3 pts) ###\n",
    "    \n",
    "If you haven't already, **read the assigned textbook readings** [on Filtering](https://learningds.org/ch/06/pandas_subsetting.html#filtering-rows) and  [on Extracting Data](https://learningds.org/ch/06/pandas_subsetting.html).\n",
    "\n",
    "\n",
    " i ). For the data science approach used by the Oakland A's team in 2002, they used historical baseball data starting in 1998.  We're going to analyze some of this Oakland A's data, so we'll start by filtering out a smaller dataframe that just focuses on the years and columns of interest.     \n",
    "    \n",
    "Filter the `teams_df` to create a new dataframe `teams_df_moneyball` with **index** `teamID` and columns `yearID`, `name`, `G`, `W`.  The new dataframe should only include records where the year is greater than or equal to 1998. (Hint, the dataframe method`set_index` will be useful https://pandas.pydata.org/docs/reference/api/pandas.DataFrame.set_index.html)\n",
    " \n",
    "ii).  Add a new column called `winFrac` to the dataframe `teams_df_moneyball` that calculates the number of Wins divided by the number of Games for a given team in a given year, **rounded to the nearest hundredth**.  (Don't use any `for` loops when populating the new column).  The python built-in `round` function will be helpful (https://www.w3schools.com/python/ref_func_round.asp).\n",
    "\n",
    "\n",
    "iii).  Use an appropriate extraction operator to determine the Oakland A's (teamID =\"OAK\") fraction of wins in the year 1998.  Write code (do not just manually enter the value that you read off of a table)  that selects this value from the `teams_df_moneyball` table) and assigns it to the variable `winFrac_OAK_98`.      \n",
    "  \n",
    " \n"
   ]
  },
  {
   "cell_type": "code",
   "execution_count": null,
   "id": "0fb5b03a-a140-4794-84c8-3fc98fa74a32",
   "metadata": {
    "tags": []
   },
   "outputs": [],
   "source": [
    "# Create teams_df_moneyball dataframe\n",
    "\n",
    "teams_df_moneyball = ...\n",
    "\n"
   ]
  },
  {
   "cell_type": "code",
   "execution_count": null,
   "id": "f5f9ed4f-62d5-4162-b222-4f9972e7e7f7",
   "metadata": {
    "tags": []
   },
   "outputs": [],
   "source": [
    "# Add column called winFrac to the dataframe\n",
    "\n",
    "teams_df_moneyball[\"winFrac\"] = ...\n",
    "\n",
    "# Print out resulting DataFrame\n",
    "teams_df_moneyball.head()"
   ]
  },
  {
   "cell_type": "code",
   "execution_count": null,
   "id": "b50acf15-89e9-4a73-8178-41b39220576b",
   "metadata": {
    "tags": []
   },
   "outputs": [],
   "source": [
    "# Answer to part 2diii:\n",
    "\n",
    "winFrac_OAK_98= ...\n",
    "\n",
    "winFrac_OAK_98"
   ]
  },
  {
   "cell_type": "code",
   "execution_count": null,
   "id": "06cdb29c",
   "metadata": {
    "deletable": false,
    "editable": false
   },
   "outputs": [],
   "source": [
    "grader.check(\"q2d\")"
   ]
  },
  {
   "cell_type": "markdown",
   "id": "c551f1c4-1e64-4ea5-85a0-c497b57ae667",
   "metadata": {},
   "source": [
    "### EDA:  Visualizing Data \n",
    "\n",
    "Let's examine how winFrac has varied over time for the Oakland A's."
   ]
  },
  {
   "cell_type": "code",
   "execution_count": null,
   "id": "4c463cdd-4a21-436c-91dc-f50649cd3bbb",
   "metadata": {},
   "outputs": [],
   "source": [
    "#The code below uses the module plotlyexpress, which we imported at the top of the notebook using alias px\n",
    "#Read the code below to see how to use this function, then run this cell\n",
    "\n",
    "px.line(teams_df_moneyball.loc[\"OAK\"],x=\"yearID\", y=\"winFrac\", markers=True)"
   ]
  },
  {
   "cell_type": "markdown",
   "id": "bc3014d3-53fe-4113-9953-968b3698f3d4",
   "metadata": {},
   "source": [
    "\n",
    "\n",
    "Let's compare Oakland's winFrac to 2 other teams:  Boston Red Sox and the New York Yankees.  We can visualize this using size-by-size line plots:"
   ]
  },
  {
   "cell_type": "code",
   "execution_count": null,
   "id": "18b41fef-3399-4768-bb58-fafc8d4f4370",
   "metadata": {},
   "outputs": [],
   "source": [
    "#Read the entries below to see how to create this plot:\n",
    "#Then run this cell\n",
    "\n",
    "px.line(teams_df_moneyball.loc[[\"OAK\",\"NYA\", \"BOS\"]],x=\"yearID\", y=\"winFrac\",facet_col = 'name', markers=True)"
   ]
  },
  {
   "cell_type": "markdown",
   "id": "aab7dc44-e0d7-4941-8016-967d6ae23c8f",
   "metadata": {},
   "source": [
    "\n",
    "\n",
    "### Payrolls Per Team\n",
    "\n",
    "\n",
    "However, the interesting part of this story takes into account the salary differences between these teams, particularly during the time period from 1999-2004 (Oakland first began implementing a data science approach to choose their players in 2002).   \n",
    "\n",
    "\n",
    "Let's calculate the yearly team payrolls for OAK, NYA and BOS from 1999 to 2004.   A team payroll is the sum of all the players' salaries who are on that team in a given year.  \n",
    "To do this, we will need to aggregate data in the `salary_df`.   If you haven't already, [read the section from the assigned readings on Grouping](https://learningds.org/ch/06/pandas_aggregating.html), including the section on aggregating by multiple columns. \n",
    "\n",
    "\n",
    "\n"
   ]
  },
  {
   "cell_type": "markdown",
   "id": "33d14375-2b3f-4034-9711-e6dbcee44399",
   "metadata": {
    "deletable": false,
    "editable": false
   },
   "source": [
    "<hr style=\"border: 5px solid #003262;\" />\n",
    "<hr style=\"border: 1px solid #fdb515;\" />\n",
    "\n",
    "\n",
    "## <span style='color:Red'>   Question 2e (4 pts) ###\n",
    "    \n",
    "To simplify the size of the DataFrame we're working with, start by selecting from the `salary_df` the columns `teamID`, `yearID` and `salary` and the subset of rows the with players with `teamID` equal to either `OAK`, `NYA` or `BOS`, for the years starting in 1999 and ending in 2004.    \n",
    "Save this data in a new DataFrame `salaries_subset`.   (Keep the same index from the `salary_df`).\n",
    "\n"
   ]
  },
  {
   "cell_type": "code",
   "execution_count": null,
   "id": "b276a00c-a23d-40c5-82b0-e313847d9bd7",
   "metadata": {
    "tags": []
   },
   "outputs": [],
   "source": [
    "# Create salaries_subset DataFrame:\n",
    "\n",
    "salaries_subset = ...\n"
   ]
  },
  {
   "cell_type": "code",
   "execution_count": null,
   "id": "47ddd678",
   "metadata": {
    "deletable": false,
    "editable": false
   },
   "outputs": [],
   "source": [
    "grader.check(\"q2e\")"
   ]
  },
  {
   "cell_type": "markdown",
   "id": "5e535e1f-cde7-4141-bdf2-ca5db1d76e0c",
   "metadata": {
    "deletable": false,
    "editable": false
   },
   "source": [
    "<hr style=\"border: 5px solid #003262;\" />\n",
    "<hr style=\"border: 1px solid #fdb515;\" />\n",
    "\n",
    "\n",
    "## <span style='color:Red'>   Question 2f (4 pts) ###\n",
    "\n",
    "\n",
    "Next, group the `salary_subset` DataFrame on the columns `teamID` and `yearID` (in that order) and sum the players' salaries.   Save this aggregated data to a new DataFrame called `payroll_df`.\n",
    "\n",
    "Then rename the aggregated column from salary to `payroll` (hint: use `.rename(columns = {\"oldname\":\"newname\"})`\n",
    "\n",
    "After grouping, notice there will be two levels to the index (`teamID`, `yearID`),  because we grouped by two columns. "
   ]
  },
  {
   "cell_type": "code",
   "execution_count": null,
   "id": "5a972ea4-bab7-4591-8078-773b440b8ef9",
   "metadata": {
    "tags": []
   },
   "outputs": [],
   "source": [
    "# Group the salaries_subset DataFrame and save the results \n",
    "# to payroll_df:\n",
    "\n",
    "payroll_df = ...\n",
    "\n",
    "\n",
    "\n",
    "# Rename the aggregated column:\n",
    "\n",
    "payroll_df = ...\n",
    "\n",
    "payroll_df.head()"
   ]
  },
  {
   "cell_type": "code",
   "execution_count": null,
   "id": "a62072ee",
   "metadata": {
    "deletable": false,
    "editable": false
   },
   "outputs": [],
   "source": [
    "grader.check(\"q2f\")"
   ]
  },
  {
   "cell_type": "markdown",
   "id": "2853430e-ef00-4e94-b0d6-93553afd729e",
   "metadata": {},
   "source": [
    "# Merging Data\n",
    "\n",
    "Let's merge the win data from `teams_df_moneyball` with the `payroll_df` dataframe so we can compare wins and payroll.\n",
    "\n",
    "We'll do this in several steps:\n",
    "\n",
    "The primary key in both DataFrames is `teamID` AND `yearID`.  The DataFrame `payroll_df` already has these both defined as indices (i.e. these are called a  a multi-index).  \n",
    "Let's also define these as a multi-index in the `teams_df_moneyball` DataFrame, to make the merging process easier.\n",
    "To start, we'll reset the index in the `teams_df_moneyball`:\"\n"
   ]
  },
  {
   "cell_type": "code",
   "execution_count": null,
   "id": "65929f82-5144-4273-8ae6-2c05b1e87db8",
   "metadata": {},
   "outputs": [],
   "source": [
    "teams_df_moneyball = teams_df_moneyball.reset_index()\n",
    "teams_df_moneyball.head()"
   ]
  },
  {
   "cell_type": "markdown",
   "id": "4696fba4-62ba-4a16-a584-120da03443d0",
   "metadata": {
    "deletable": false,
    "editable": false
   },
   "source": [
    "<hr style=\"border: 5px solid #003262;\" />\n",
    "<hr style=\"border: 1px solid #fdb515;\" />\n",
    "\n",
    "\n",
    "## <span style='color:Red'>   Question 2g (2 pts) ###\n",
    "    \n",
    "Change the index of the `teams_df_moneyball` DataFrame to be a multi-index using the columns `teamID` and `yearID` (in that order):\n"
   ]
  },
  {
   "cell_type": "code",
   "execution_count": null,
   "id": "a5d172bc-fe94-414b-9c22-300ed1454442",
   "metadata": {
    "tags": []
   },
   "outputs": [],
   "source": [
    "teams_df_moneyball = ...\n",
    "teams_df_moneyball.head()"
   ]
  },
  {
   "cell_type": "code",
   "execution_count": null,
   "id": "9bc193e5",
   "metadata": {
    "deletable": false,
    "editable": false
   },
   "outputs": [],
   "source": [
    "grader.check(\"q2g\")"
   ]
  },
  {
   "cell_type": "markdown",
   "id": "bfb44ad8-d8d6-423f-88f7-cd174c9d97e0",
   "metadata": {
    "deletable": false,
    "editable": false
   },
   "source": [
    "<hr style=\"border: 5px solid #003262;\" />\n",
    "<hr style=\"border: 1px solid #fdb515;\" />\n",
    "\n",
    "\n",
    "## <span style='color:Red'>   Question 2h (3 pts) ###\n",
    "\n",
    "Merge the `payroll_df` and `teams_df_moneyball` DataFrames using an inner join (that is, only keeping rows that appear in both DataFrames). \n",
    "\n",
    "Tip: Since they both have the same multi-indices, you will join on their Indices (not on columns).   See the [documentation for merge](https://pandas.pydata.org/pandas-docs/stable/reference/api/pandas.DataFrame.merge.html) for the default inputs.  "
   ]
  },
  {
   "cell_type": "code",
   "execution_count": null,
   "id": "1bd23b19-0b55-4115-90e7-f93d4cacdb2f",
   "metadata": {
    "tags": []
   },
   "outputs": [],
   "source": [
    "payroll_df_merged = ...\n",
    "\n",
    "payroll_df_merged.head()"
   ]
  },
  {
   "cell_type": "code",
   "execution_count": null,
   "id": "cd46f297",
   "metadata": {
    "deletable": false,
    "editable": false
   },
   "outputs": [],
   "source": [
    "grader.check(\"q2h\")"
   ]
  },
  {
   "cell_type": "markdown",
   "id": "22965eda-07e0-42fa-bc59-c451c82f5d91",
   "metadata": {},
   "source": [
    "Let's examine the fraction of wins and payroll for the Oakland A's in 2002 and compare it to the the New York Yankees that same year:"
   ]
  },
  {
   "cell_type": "markdown",
   "id": "c72762ee-e8c8-4203-b834-6f882346e015",
   "metadata": {},
   "source": [
    "To access values using a multiindex we need to use parantheses in the first entry, as shown here:"
   ]
  },
  {
   "cell_type": "code",
   "execution_count": null,
   "id": "e3089f19-4a75-460a-aabc-9e7fd7a3d124",
   "metadata": {},
   "outputs": [],
   "source": [
    "# Read this code to make sure you understand how to access data with a multi-index, then run this cell:\n",
    "\n",
    "oak_payroll_02 = payroll_df_merged.loc[(\"OAK\",2002),\"payroll\"]\n",
    "oak_winfrac_02 = payroll_df_merged.loc[(\"OAK\",2002),\"winFrac\"]\n",
    "\n",
    "print(\"Oakland's payroll in 2002 was \", oak_payroll_02, \" and its WinFrac was\", oak_winfrac_02)"
   ]
  },
  {
   "cell_type": "markdown",
   "id": "2c8cd5db-4d12-4c7a-800c-f682d5c8864b",
   "metadata": {
    "deletable": false,
    "editable": false
   },
   "source": [
    "<hr style=\"border: 5px solid #003262;\" />\n",
    "<hr style=\"border: 1px solid #fdb515;\" />\n",
    "\n",
    "\n",
    "## <span style='color:Red'>   Question 2i (2 pts) ###\n",
    "\n",
    "Calculate these same statistics for the New York Yankees (\"NYA\") in 2002:"
   ]
  },
  {
   "cell_type": "code",
   "execution_count": null,
   "id": "6a90f20e-b710-4d29-bcb3-894643ba13a7",
   "metadata": {
    "tags": []
   },
   "outputs": [],
   "source": [
    "nya_payroll_02 = ...\n",
    "nya_winfrac_02 = ...\n",
    "\n",
    "print(\"New York Yankee's payroll in 2002 was \", nya_payroll_02, \" and its WinFrac was\", nya_winfrac_02)"
   ]
  },
  {
   "cell_type": "code",
   "execution_count": null,
   "id": "531547ea",
   "metadata": {
    "deletable": false,
    "editable": false
   },
   "outputs": [],
   "source": [
    "grader.check(\"q2i\")"
   ]
  },
  {
   "cell_type": "markdown",
   "id": "f98df3d7-c70b-4ac5-9d6d-6b3df23aedf5",
   "metadata": {
    "deletable": false,
    "editable": false
   },
   "source": [
    "<hr style=\"border: 5px solid #003262;\" />\n",
    "<hr style=\"border: 1px solid #fdb515;\" />\n",
    "\n",
    "\n",
    "## <span style='color:Red'>   Question 2j (3 pts) ###\n",
    "\n",
    "**Payroll efficiency** in baseball is defined as the \"payroll dollars spent per win\". The lower the number, the better efficiency you have.\n",
    "Add a column to `payroll_df_merged` called `efficiency` that calculates the efficiency for each team each year.   \n",
    "Hint: Do this without using a \"for\" loop."
   ]
  },
  {
   "cell_type": "code",
   "execution_count": null,
   "id": "086620df-ff7f-478c-92e7-6f1a8c7a42e2",
   "metadata": {
    "tags": []
   },
   "outputs": [],
   "source": [
    "payroll_df_merged = ...\n"
   ]
  },
  {
   "cell_type": "code",
   "execution_count": null,
   "id": "cd20a111",
   "metadata": {
    "deletable": false,
    "editable": false
   },
   "outputs": [],
   "source": [
    "grader.check(\"q2j\")"
   ]
  },
  {
   "cell_type": "markdown",
   "id": "d98cde96-a34a-4868-be79-e51a0767b593",
   "metadata": {},
   "source": [
    "### Visualizing Efficiency\n",
    "\n",
    "We can compare Payroll efficiency between these 3 teams using the side-by-side line plots below:"
   ]
  },
  {
   "cell_type": "code",
   "execution_count": null,
   "id": "c963974b-9dcb-41ad-949e-29b42a7f543d",
   "metadata": {},
   "outputs": [],
   "source": [
    "# Just run this cell:\n",
    "\n",
    "# Reset index before plotting, as plot inputs easier to handle without single index\n",
    "payroll_df_merged = payroll_df_merged.reset_index()\n",
    "\n",
    "# Code to plot side-by-side line plots of efficiency:\n",
    "px.line(payroll_df_merged,x=\"yearID\", y=\"efficiency\",facet_col = 'name', markers=True, labels=dict(efficiency=\"efficiency ($/win)\", yearID=\"year\"))\n",
    "\n"
   ]
  },
  {
   "cell_type": "markdown",
   "id": "cd5b909c-ad29-408e-9b5d-0922cfbb7b26",
   "metadata": {},
   "source": [
    "**From 1998 to 2008, the Oakland Athletics were the most payroll efficient team in Major League Baseball (MLB), recording the 5th highest win percentage despite having the 7th lowest payroll to work with. Their remarkable success has been widely attributed to the innovative data science strategies employed by general manager Billy Beane designed to identify undervalued statistics and players.**\n"
   ]
  },
  {
   "cell_type": "markdown",
   "id": "76ee9c32-c9c4-48db-a830-2f794b603aca",
   "metadata": {},
   "source": [
    "[Back to top](#top)\n",
    "\n",
    "<a id='p3'></a>\n",
    "\n",
    "<hr style=\"border: 5px solid #003262;\" />\n",
    "<hr style=\"border: 1px solid #fdb515;\" />\n",
    "\n",
    "## <span style='color:Red'>  Question 3: Prerequisites: Calculus Review ##\n",
    "\n",
    "You will need a solid understanding of the following concepts from Calculus 1 and 2 to succeed in this course. See the  [Prerequisite Review Resources posted on the  Modules in Canvas](https://canvas.colorado.edu/courses/117881/pages/prerequisite-review-calculus-and-discrete-structures?module_item_id=6055980)  posted on Canvas if you need to review any of these key concepts.\n",
    "\n",
    "\n",
    "### Preliminary: Sums ###\n",
    "\n",
    "Here's a recap of some basic algebra written in sigma notation. The facts are all just applications of the ordinary associative and distributive properties of addition and multiplication, written compactly and without the possibly ambiguous \"...\". But if you are ever unsure of whether you're working correctly with a sum, you can always try writing $\\sum_{i=1}^n a_i$ as $a_1 + a_2 + \\cdots + a_n$ and see if that helps.\n",
    "\n",
    "- You can use any reasonable notation for the index over which you are summing, just as in Python you can use any reasonable name in `for name in list`. Thus $\\sum_{i=1}^n a_i = \\sum_{k=1}^n a_k$.\n",
    "- $\\sum_{i=1}^n (a_i + b_i) = \\sum_{i=1}^n a_i + \\sum_{i=1}^n b_i$\n",
    "- $\\sum_{i=1}^n d = nd$\n",
    "- $\\sum_{i=1}^n (ca_i + d) = c\\sum_{i=1}^n a_i + nd$\n"
   ]
  },
  {
   "cell_type": "markdown",
   "id": "0a7cf3b5-97d1-4d6a-9a7a-279c48ce3cbc",
   "metadata": {
    "deletable": false,
    "editable": false
   },
   "source": [
    "<!-- BEGIN QUESTION -->\n",
    "\n",
    "<hr style=\"border: 5px solid #003262;\" />\n",
    "<hr style=\"border: 1px solid #fdb515;\" />\n",
    "\n",
    "\n",
    "## <span style='color:Red'>   Question 3a (2 pts) ###\n",
    "\n",
    "We commonly use sigma notation to compactly write the definition of the arithmetic mean (commonly known as the average):\n",
    "\n",
    "$$\\bar{x} = \\frac{1}{n}\\left(x_1+x_2+ ... + x_n \\right) = \\frac{1}{n}\\sum_{i=1}^n x_i$$\n",
    "\n",
    "\n",
    "\n",
    "The $i$th *deviation from average* is the difference $x_i - \\bar{x}$. Prove that the sum of all these deviations is 0 that is, prove that $\\sum_{i=1}^n (x_i - \\bar{x}) = 0$ (write your full solution in the box directly below showing all steps and using LaTeX).\n"
   ]
  },
  {
   "cell_type": "markdown",
   "id": "a30e0c90",
   "metadata": {},
   "source": [
    "_Type your answer here, replacing this text._"
   ]
  },
  {
   "cell_type": "markdown",
   "id": "0bbc22e3-c026-4e6e-8d3d-bf89f2195802",
   "metadata": {
    "deletable": false,
    "editable": false
   },
   "source": [
    "<!-- END QUESTION -->\n",
    "\n",
    "<!-- BEGIN QUESTION -->\n",
    "\n",
    "<hr style=\"border: 5px solid #003262;\" />\n",
    "<hr style=\"border: 1px solid #fdb515;\" />\n",
    "\n",
    "\n",
    "## <span style='color:Red'>   Question 3b (4 pts) ###\n",
    "\n",
    "Let $x_1, x_2, \\ldots, x_n$ be a list of numbers. You can think of each index $i$ as the label of a household, and the entry $x_i$ as the annual income of Household $i$. \n",
    "\n",
    "Consider the function  $$f(c) = \\frac{1}{n} \\sum_{i=1}^n (x_i-c)^2$$\n",
    "\n",
    "\n",
    "In this scenario, suppose that our data points $x_1, x_2, \\ldots, x_n$ are fixed and that $c$ is the only variable.\n",
    "\n",
    "Using calculus, determine the value of $c$ that minimizes $f(c)$.  You must use calculus to justify that this is indeed a minimum, and not a maximum.\n"
   ]
  },
  {
   "cell_type": "markdown",
   "id": "b8e8d7a2",
   "metadata": {},
   "source": [
    "_Type your answer here, replacing this text._"
   ]
  },
  {
   "cell_type": "markdown",
   "id": "3daf879d-d7c0-4c28-91ff-f4c21f0df460",
   "metadata": {
    "deletable": false,
    "editable": false
   },
   "source": [
    "<!-- END QUESTION -->\n",
    "\n",
    "[Back to top](#top)\n",
    "\n",
    "<a id='p4'></a>\n",
    "\n",
    "<hr style=\"border: 5px solid #003262;\" />\n",
    "<hr style=\"border: 1px solid #fdb515;\" />\n",
    "\n",
    "## <span style='color:Red'>  Question 4:  Applying Those Prereqs:  A Maximum Likelihood Estimate ##"
   ]
  },
  {
   "cell_type": "markdown",
   "id": "66134862-9504-4c4f-a0dd-a0bf771eb8bd",
   "metadata": {
    "deletable": false,
    "editable": false
   },
   "source": [
    "In this problem we're going to apply your calculus and discrete math prerequisite knowledge to introduce a data science concept called a maximum likelihood estimate.\n",
    "\n",
    "Data scientists use coin tossing as a visual image for sampling at random with replacement from a binary population.\n",
    "\n",
    "<hr style=\"border: 5px solid #003262;\" />\n",
    "<hr style=\"border: 1px solid #fdb515;\" />\n",
    "\n",
    "\n",
    "## <span style='color:Red'>   Question 4a (2 pts) ###\n",
    "\n",
    "A coin that lands heads with chance 0.7 is tossed six times. What is the chance of the sequence HHHTHT? Assign your answer to the variable `p_HHHTHT`."
   ]
  },
  {
   "cell_type": "code",
   "execution_count": null,
   "id": "18663714",
   "metadata": {
    "tags": []
   },
   "outputs": [],
   "source": [
    "p_HHHTHT = ...\n",
    "p_HHHTHT"
   ]
  },
  {
   "cell_type": "code",
   "execution_count": null,
   "id": "71916178",
   "metadata": {
    "deletable": false,
    "editable": false
   },
   "outputs": [],
   "source": [
    "grader.check(\"q4a\")"
   ]
  },
  {
   "cell_type": "markdown",
   "id": "f385f798-0a5d-42ac-8ff3-99c1d3bb9740",
   "metadata": {},
   "source": [
    "<hr style=\"border: 5px solid #003262;\" />\n",
    "<hr style=\"border: 1px solid #fdb515;\" />\n",
    "\n",
    "\n",
    "## <span style='color:Red'>   Question 4b (2 pts) ###\n",
    "    \n",
    "I have a coin that lands heads with an unknown probability $p$. \n",
    "\n",
    "Suppose I toss it 10 times and get the sequence TTTHTHHTTH.\n",
    "\n",
    "If you toss this coin 10 times, the chance that you get the sequence above is a function of $p$. That function is called the *likelihood* of the sequence TTTHTHHTTH, so we will call it $L(p)$.\n",
    "\n"
   ]
  },
  {
   "cell_type": "markdown",
   "id": "bdda9139-524f-472e-91d2-cf3e0cf678a7",
   "metadata": {
    "deletable": false,
    "editable": false
   },
   "source": [
    "<!-- BEGIN QUESTION -->\n",
    "\n",
    "What is $L(p)$ (i.e. the likelihood) for the sequence TTTHTHHTTH?\n",
    "\n",
    "Enter your answer below by setting the `likelihood` variable equal to the correct function.\n",
    "\n",
    "(For example `likelihood = sin(p)+2p`, althought that is definitely an incorrect answer!)\n",
    "\n",
    "Then run the code below to plot the likelihood function.\n",
    "\n"
   ]
  },
  {
   "cell_type": "code",
   "execution_count": null,
   "id": "cdcec98f",
   "metadata": {
    "tags": []
   },
   "outputs": [],
   "source": [
    "#At the top of the notebook we already imported a useful plotting module, matplotlib with alias plt\n",
    "\n",
    "p = np.linspace(0, 1, 100) \n",
    "#This creates an array of 100 p-values equally spaced between 0 and 1\n",
    "\n",
    "likelihood = ...\n",
    "#Define the likelihood function above\n",
    "\n",
    "plt.plot(p, likelihood, lw=2, color='darkblue') \n",
    "#This plots the likelihood function  \n",
    "\n",
    "plt.xlabel('$p$')\n",
    "#This labels the x axis\n",
    "\n",
    "plt.ylabel('$L(p)$')\n",
    "#This labels the y-axis\n",
    "\n",
    "plt.title('Likelihood of TTTHTHHTTH');\n",
    "#This titles the plot"
   ]
  },
  {
   "cell_type": "markdown",
   "id": "63752ccf-7756-4e03-8eeb-802ec57293f3",
   "metadata": {
    "deletable": false,
    "editable": false
   },
   "source": [
    "<!-- END QUESTION -->\n",
    "\n",
    "<hr style=\"border: 5px solid #003262;\" />\n",
    "<hr style=\"border: 1px solid #fdb515;\" />\n",
    "\n",
    "\n",
    "## <span style='color:Red'>   Question 4c (1 pt) ###\n",
    "\n",
    "The value $\\hat{p}$ at which the likelihood function attains its maximum is called the *maximum likelihood estimate* (MLE) of $p$. Among all values of $p$, it is the one that makes the observed data most likely.\n",
    "\n",
    "Using only your plot above, what is the value of $\\hat{p}$?   \n"
   ]
  },
  {
   "cell_type": "code",
   "execution_count": null,
   "id": "a3b88584",
   "metadata": {
    "tags": []
   },
   "outputs": [],
   "source": [
    "p_hat = ..."
   ]
  },
  {
   "cell_type": "code",
   "execution_count": null,
   "id": "403f8264",
   "metadata": {
    "deletable": false,
    "editable": false
   },
   "outputs": [],
   "source": [
    "grader.check(\"q4c\")"
   ]
  },
  {
   "cell_type": "markdown",
   "id": "29da3964-e56d-481c-a04c-b371b00e6a4f",
   "metadata": {
    "deletable": false,
    "editable": false
   },
   "source": [
    "<!-- BEGIN QUESTION -->\n",
    "\n",
    "<hr style=\"border: 5px solid #003262;\" />\n",
    "<hr style=\"border: 1px solid #fdb515;\" />\n",
    "\n",
    "\n",
    "## <span style='color:Red'>   Question 4d (4 pts) ###\n",
    "\n",
    "Notice the value you found graphically for $\\hat{p}$ above also intuitively makes sense because it is also the observed proportion of heads in the given sequence TTTHTHHTTH.\n",
    "\n",
    "\n",
    "Let's prove what you observed graphically above.  That is, let's use calculus to find $\\hat{p}$.  \n",
    "\n",
    "But **wait before you start trying to find the value $p$ where $L'(p)=0$ (trust us, the algebra is not pretty...)**\n",
    "\n",
    "USEFUL TIP: \n",
    "The value $\\hat{p}$ at which the function $L(p)$ attains its maximum is the same as the value at which the function $\\ln(L(p))$ attains its maximum. \n",
    "\n",
    "This tip is hugely important in data science because many probabilities are products and the natural log function `ln` function turns products into sums.  It's **much simpler to take derivatives of a sum** than a product.\n",
    "\n",
    "\n",
    "Thus, to find the value $p$ where $L'(p)=0$: \n",
    " - Take the natural log `ln` of L(p)\n",
    " - Use properties of logs to rewrite products in `ln(L(p))` as sums\n",
    " - Take the derivative of this rewritten version of `ln(L(p))`\n",
    " - Solve $\\frac{d}{dp}\\left[\\ln(L(p))\\right] = 0$ for p\n",
    " - You should get the same answer that you found graphically above.\n",
    "\n",
    "You don't have to check that the value you've found produces a max and not a min – we'll spare you that step.\n",
    "\n",
    "Show all steps in the cell below using Markdown and LaTeX\n",
    "\n",
    "\n",
    "\n"
   ]
  },
  {
   "cell_type": "markdown",
   "id": "7326ab97",
   "metadata": {},
   "source": [
    "_Type your answer here, replacing this text._"
   ]
  },
  {
   "cell_type": "markdown",
   "id": "4f74f72e",
   "metadata": {
    "deletable": false,
    "editable": false
   },
   "source": [
    "<!-- END QUESTION -->\n",
    "\n",
    "<br/><br/>\n",
    "<hr style=\"border: 5px solid #003262;\" />\n",
    "<hr style=\"border: 1px solid #fdb515;\" />\n",
    "\n",
    "## Congratulations! You have finished Homework 2!"
   ]
  },
  {
   "cell_type": "markdown",
   "id": "4a3ea147",
   "metadata": {},
   "source": [
    "If you discussed this assignment with any other students in the class (in a manner that is acceptable as described by the Collaboration policy above) please **include their names** here:\n",
    "\n",
    "**Collaborators**: *list collaborators here*"
   ]
  },
  {
   "cell_type": "markdown",
   "id": "43b5c907-e11b-4d99-a368-2335a0042d7c",
   "metadata": {},
   "source": [
    "If while completing this assignment you reference any websites other than those linked in this assignment or provided on Canvas please list those references here:\n",
    "\n",
    "**External references**:  *list any websites you referenced*"
   ]
  },
  {
   "cell_type": "markdown",
   "id": "522274ee-79ee-4d49-a5fb-a54434ba07d2",
   "metadata": {},
   "source": [
    "### Submission Instructions\n",
    "\n",
    "Before proceeding any further, **save this notebook.**"
   ]
  },
  {
   "cell_type": "code",
   "execution_count": null,
   "id": "db803505-2c01-49d4-a051-c3146d1c558e",
   "metadata": {},
   "outputs": [],
   "source": [
    "\n",
    "# Run this cell before you run the 'grader.export()' cell below.  \n",
    "# It will search for common LaTeX errors that will cause the LaTeX compiler to fail.  \n",
    "\n",
    "import simple_latex_checker as slc\n",
    "\n",
    "nb = slc.Nb_checker()\n",
    "nb.run_check(\"hw02.ipynb\")"
   ]
  },
  {
   "cell_type": "markdown",
   "id": "d65478fe",
   "metadata": {},
   "source": [
    "\n",
    "\n",
    "After running the `grader.export()` cell provided below, **2 files will be created**: a zip file and pdf file.  You can download them using the links provided below OR by finding them in the same folder where this juptyer notebook resides in your JuptyerHub.\n",
    "\n",
    "To receive credit on this assignment, **you must submit BOTH of these files\n",
    "to their respective Gradescope portals:** \n",
    "\n",
    "\n",
    "* **Homework 2 Autograded**: Submit the zip file that is output by the `grader.export()` cell below to the HW2 Autograded assignment in Gradescope.\n",
    "\n",
    "* **Homework 2 Manually Graded**: Submit your hw02.PDF to the HW2 Manually Graded assignment in Gradescope.  **It is your responsibility to fully review your PDF file before submitting and make sure that all your lines of code are visible and any LaTeX has correctly compiled and is fully viewable.**  **YOU MUST SELECT THE PAGES CORRESPONDING TO EACH QUESTION WHEN YOU UPLOAD TO GRADESCOPE.** If not, you will lose points.    \n",
    "\n",
    "**TROUBLESHOOTING TIPS**  If you are having any issues compiling your assignment, please [read through these troubleshooting tips first](https://docs.google.com/document/d/1ndr3Wj1PSF5qzlLMaBJznwh6QGeEXjd5TAJ6nf9EJvo/edit?usp=sharing), then post any questions on Piazza.  \n",
    "\n",
    "**You are responsible for ensuring your submission follows our requirements. We will not be granting regrade requests nor extensions to submissions that don't follow instructions.** If you encounter any difficulties with submission, please don't hesitate to reach out to staff prior to the deadline."
   ]
  },
  {
   "cell_type": "markdown",
   "id": "f19069da",
   "metadata": {
    "deletable": false,
    "editable": false
   },
   "source": [
    "## Submission\n",
    "\n",
    "Make sure you have run all cells in your notebook in order before running the cell below, so that all images/graphs appear in the output. The cell below will generate a zip file for you to submit. **Please save before exporting!**\n",
    "\n",
    "Be sure to SAVE this notebook BEFORE running the next cell.  AFTER running the cell below, click on <a href='hw02.pdf' download>this link to download the PDF </a> to upload to Gradescope.  There will be a separate link that appears after running the cell below with a link to download the zip file to upload to Gradescope."
   ]
  },
  {
   "cell_type": "code",
   "execution_count": null,
   "id": "64e38752",
   "metadata": {
    "deletable": false,
    "editable": false
   },
   "outputs": [],
   "source": [
    "# Save your notebook first, then run this cell to export your submission.\n",
    "grader.export(run_tests=True)"
   ]
  },
  {
   "cell_type": "markdown",
   "id": "318f3b2a",
   "metadata": {},
   "source": [
    " "
   ]
  }
 ],
 "metadata": {
  "kernelspec": {
   "display_name": "Python 3 (ipykernel)",
   "language": "python",
   "name": "python3"
  },
  "language_info": {
   "codemirror_mode": {
    "name": "ipython",
    "version": 3
   },
   "file_extension": ".py",
   "mimetype": "text/x-python",
   "name": "python",
   "nbconvert_exporter": "python",
   "pygments_lexer": "ipython3",
   "version": "3.10.8"
  },
  "otter": {
   "OK_FORMAT": true,
   "tests": {
    "q2a": {
     "name": "q2a",
     "points": 1,
     "suites": [
      {
       "cases": [
        {
         "code": ">>> assert get_hash(salaries_df.iloc[0, 4]) == '0084883cb7b090fa951c16338faa4b06'\n",
         "hidden": false,
         "locked": false
        },
        {
         "code": ">>> assert get_hash(salaries_df.size) == '4b094151d0f7e3e2941d4dde33c48e64'\n",
         "hidden": false,
         "locked": false
        }
       ],
       "scored": true,
       "setup": "",
       "teardown": "",
       "type": "doctest"
      }
     ]
    },
    "q2b": {
     "name": "q2b",
     "points": 2,
     "suites": [
      {
       "cases": [
        {
         "code": ">>> assert get_hash(team_rows) == '51be2fed6c55f5aa0c16ff14c140b187'\n",
         "hidden": false,
         "locked": false
        },
        {
         "code": ">>> assert get_hash(team_col) == '642e92efb79421734881b53e1e1b18b6'\n",
         "hidden": false,
         "locked": false
        },
        {
         "code": ">>> assert get_hash(salary_rows) == '398a516d8fbfdd9158eec76b283dd9ce'\n",
         "hidden": false,
         "locked": false
        },
        {
         "code": ">>> assert get_hash(salary_col) == 'e4da3b7fbbce2345d7772b0674a318d5'\n",
         "hidden": false,
         "locked": false
        },
        {
         "code": ">>> assert get_hash(missing_attendance) == 'd395771085aab05244a4fb8fd91bf4ee'\n",
         "hidden": false,
         "locked": false
        }
       ],
       "scored": true,
       "setup": "",
       "teardown": "",
       "type": "doctest"
      }
     ]
    },
    "q2c": {
     "name": "q2c",
     "points": 3,
     "suites": [
      {
       "cases": [
        {
         "code": ">>> assert get_hash(unique_teams) == 'f2217062e9a397a1dca429e7d70bc6ca'\n",
         "hidden": false,
         "locked": false
        },
        {
         "code": ">>> assert get_hash(unique_teams_salary) == '1c383cd30b7c298ab50293adfecb7b18'\n",
         "hidden": false,
         "locked": false
        },
        {
         "code": ">>> assert get_hash(teams_startyear) == 'fb8feff253bb6c834deb61ec76baa893'\n",
         "hidden": false,
         "locked": false
        },
        {
         "code": ">>> assert get_hash(teams_endyear) == '3a824154b16ed7dab899bf000b80eeee'\n",
         "hidden": false,
         "locked": false
        },
        {
         "code": ">>> assert get_hash(salaries_startyear) == '1f36c15d6a3d18d52e8d493bc8187cb9'\n",
         "hidden": false,
         "locked": false
        },
        {
         "code": ">>> assert get_hash(salaries_endyear) == '95192c98732387165bf8e396c0f2dad2'\n",
         "hidden": false,
         "locked": false
        }
       ],
       "scored": true,
       "setup": "",
       "teardown": "",
       "type": "doctest"
      }
     ]
    },
    "q2d": {
     "name": "q2d",
     "points": 3,
     "suites": [
      {
       "cases": [
        {
         "code": ">>> assert get_hash(winFrac_OAK_98) == '3b97a72e9bc7f5c5e225aec9b0bf548c'\n",
         "hidden": false,
         "locked": false
        },
        {
         "code": ">>> assert get_hash(teams_df_moneyball.shape[1]) == 'e4da3b7fbbce2345d7772b0674a318d5'\n",
         "hidden": false,
         "locked": false
        },
        {
         "code": ">>> assert get_hash(teams_df_moneyball.shape[0]) == 'b137fdd1f79d56c7edf3365fea7520f2'\n",
         "hidden": false,
         "locked": false
        },
        {
         "code": ">>> assert get_hash(teams_df_moneyball[teams_df_moneyball['yearID'] == 2001].loc['FLO', 'W']) == 'fbd7939d674997cdb4692d34de8633c4'\n",
         "hidden": false,
         "locked": false
        },
        {
         "code": ">>> assert get_hash(teams_df_moneyball.query('yearID==2010').loc['BOS', 'winFrac']) == '10efc2614821dcf1b1ebc941ebd6ce1f'\n",
         "hidden": false,
         "locked": false
        }
       ],
       "scored": true,
       "setup": "",
       "teardown": "",
       "type": "doctest"
      }
     ]
    },
    "q2e": {
     "name": "q2e",
     "points": 2,
     "suites": [
      {
       "cases": [
        {
         "code": ">>> assert get_hash(salaries_subset.shape[1]) == 'eccbc87e4b5ce2fe28308fd9f2a7baf3'\n",
         "hidden": false,
         "locked": false
        },
        {
         "code": ">>> assert get_hash(salaries_subset.shape[0]) == '63538fe6ef330c13a05a3ed7e599d5f7'\n",
         "hidden": false,
         "locked": false
        },
        {
         "code": ">>> assert get_hash(salaries_subset.loc[11425, 'salary']) == 'c9077732a294f90a75acea3ce5f2a4e8'\n",
         "hidden": false,
         "locked": false
        }
       ],
       "scored": true,
       "setup": "",
       "teardown": "",
       "type": "doctest"
      }
     ]
    },
    "q2f": {
     "name": "q2f",
     "points": 3,
     "suites": [
      {
       "cases": [
        {
         "code": ">>> assert get_hash(payroll_df.loc[('OAK', 2002), 'payroll']) == 'a42b2a27b320d77143ad7a206817b4c2'\n",
         "hidden": false,
         "locked": false
        },
        {
         "code": ">>> assert get_hash(payroll_df.shape[0]) == '6f4922f45568161a8cdf4ad2299f6d23'\n",
         "hidden": false,
         "locked": false
        },
        {
         "code": ">>> assert get_hash(payroll_df.shape[1]) == 'c4ca4238a0b923820dcc509a6f75849b'\n",
         "hidden": false,
         "locked": false
        },
        {
         "code": ">>> assert get_hash(payroll_df.loc[('BOS', 2004), 'payroll']) == 'd02548c81c261214893c92e0c26aa601'\n",
         "hidden": false,
         "locked": false
        }
       ],
       "scored": true,
       "setup": "",
       "teardown": "",
       "type": "doctest"
      }
     ]
    },
    "q2g": {
     "name": "q2g",
     "points": 2,
     "suites": [
      {
       "cases": [
        {
         "code": ">>> assert get_hash(teams_df_moneyball.loc[('ANA', 1999), 'W']) == '7cbbc409ec990f19c78c75bd1e06f215'\n",
         "hidden": false,
         "locked": false
        },
        {
         "code": ">>> assert get_hash(teams_df_moneyball.loc[('OAK', 2001), 'winFrac']) == 'b9c48c2d04160ef1ff72dba569292058'\n",
         "hidden": false,
         "locked": false
        }
       ],
       "scored": true,
       "setup": "",
       "teardown": "",
       "type": "doctest"
      }
     ]
    },
    "q2h": {
     "name": "q2h",
     "points": 3,
     "suites": [
      {
       "cases": [
        {
         "code": ">>> assert get_hash(payroll_df_merged.shape[0]) == '6f4922f45568161a8cdf4ad2299f6d23'\n",
         "hidden": false,
         "locked": false
        },
        {
         "code": ">>> assert get_hash(payroll_df_merged.shape[1]) == 'e4da3b7fbbce2345d7772b0674a318d5'\n",
         "hidden": false,
         "locked": false
        },
        {
         "code": ">>> assert get_hash(payroll_df_merged.loc[('BOS', 2003), 'payroll']) == 'f2e873cf5a228e1d9530f60820b7b6fc'\n",
         "hidden": false,
         "locked": false
        },
        {
         "code": ">>> assert get_hash(payroll_df_merged.loc[('OAK', 1999), 'winFrac']) == '676813538852c7111802c95f5ca99e41'\n",
         "hidden": false,
         "locked": false
        }
       ],
       "scored": true,
       "setup": "",
       "teardown": "",
       "type": "doctest"
      }
     ]
    },
    "q2i": {
     "name": "q2i",
     "points": 2,
     "suites": [
      {
       "cases": [
        {
         "code": ">>> assert get_hash(nya_payroll_02) == 'c181907c1a7dc2fd99e65ea1f42e2978'\n",
         "hidden": false,
         "locked": false
        },
        {
         "code": ">>> assert get_hash(nya_winfrac_02) == '100dd920921e3c509b9afd9dff04f149'\n",
         "hidden": false,
         "locked": false
        }
       ],
       "scored": true,
       "setup": "",
       "teardown": "",
       "type": "doctest"
      }
     ]
    },
    "q2j": {
     "name": "q2j",
     "points": 3,
     "suites": [
      {
       "cases": [
        {
         "code": ">>> assert get_hash(round(payroll_df_merged.loc[('OAK', 2003), 'efficiency'], 2)) == '4c54b0a8f1705002aef1b34d14cff762'\n",
         "hidden": false,
         "locked": false
        },
        {
         "code": ">>> assert get_hash(round(payroll_df_merged.loc[('NYA', 1999), 'efficiency'], 2)) == '670eb53716271fd8f56193dd794b001f'\n",
         "hidden": false,
         "locked": false
        }
       ],
       "scored": true,
       "setup": "",
       "teardown": "",
       "type": "doctest"
      }
     ]
    },
    "q4a": {
     "name": "q4a",
     "points": 2,
     "suites": [
      {
       "cases": [
        {
         "code": ">>> assert get_hash(round(p_HHHTHT, 6)) == '8621a84afb6956533591c0832ff1ba09'\n",
         "hidden": false,
         "locked": false
        }
       ],
       "scored": true,
       "setup": "",
       "teardown": "",
       "type": "doctest"
      }
     ]
    },
    "q4c": {
     "name": "q4c",
     "points": 1,
     "suites": [
      {
       "cases": [
        {
         "code": ">>> assert get_hash(p_hat) == '54fbf38cf649866815e0fefc46a1f6c7'\n",
         "hidden": false,
         "locked": false
        }
       ],
       "scored": true,
       "setup": "",
       "teardown": "",
       "type": "doctest"
      }
     ]
    }
   }
  }
 },
 "nbformat": 4,
 "nbformat_minor": 5
}
